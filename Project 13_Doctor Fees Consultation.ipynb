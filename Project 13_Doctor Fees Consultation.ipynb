{
 "cells": [
  {
   "cell_type": "markdown",
   "metadata": {},
   "source": [
    "# Predict A Doctor's Consultation Fee \n",
    "\n",
    "\n",
    "\n",
    "#### We have all been in situation where we go to a doctor in emergency and find that the consultation fees are too high. As a data scientist we all should do better. What if you have data that records important details about a doctor and you get to build a model to predict the doctor’s consulting fee.? This is the hackathon that lets you do that."
   ]
  },
  {
   "cell_type": "code",
   "execution_count": 267,
   "metadata": {},
   "outputs": [],
   "source": [
    "import numpy as np\n",
    "import pandas as pd\n",
    "import matplotlib.pyplot as plt\n",
    "from sklearn.linear_model import LogisticRegression\n",
    "from sklearn.linear_model import LinearRegression\n",
    "from sklearn.naive_bayes import MultinomialNB,GaussianNB\n",
    "from sklearn.naive_bayes import GaussianNB\n",
    "from sklearn.svm import SVC\n",
    "from sklearn.tree import DecisionTreeClassifier\n",
    "from sklearn.neighbors import KNeighborsClassifier\n",
    "from sklearn.metrics import mean_squared_error,mean_absolute_error\n",
    "from sklearn.model_selection import train_test_split\n",
    "from sklearn.metrics import confusion_matrix,classification_report\n",
    "from sklearn.metrics import accuracy_score\n",
    "import warnings\n",
    "warnings.filterwarnings('ignore')"
   ]
  },
  {
   "cell_type": "code",
   "execution_count": 268,
   "metadata": {},
   "outputs": [
    {
     "data": {
      "text/html": [
       "<div>\n",
       "<style scoped>\n",
       "    .dataframe tbody tr th:only-of-type {\n",
       "        vertical-align: middle;\n",
       "    }\n",
       "\n",
       "    .dataframe tbody tr th {\n",
       "        vertical-align: top;\n",
       "    }\n",
       "\n",
       "    .dataframe thead th {\n",
       "        text-align: right;\n",
       "    }\n",
       "</style>\n",
       "<table border=\"1\" class=\"dataframe\">\n",
       "  <thead>\n",
       "    <tr style=\"text-align: right;\">\n",
       "      <th></th>\n",
       "      <th>Qualification</th>\n",
       "      <th>Experience</th>\n",
       "      <th>Rating</th>\n",
       "      <th>Place</th>\n",
       "      <th>Profile</th>\n",
       "      <th>Miscellaneous_Info</th>\n",
       "      <th>Fees</th>\n",
       "    </tr>\n",
       "  </thead>\n",
       "  <tbody>\n",
       "    <tr>\n",
       "      <td>0</td>\n",
       "      <td>BHMS, MD - Homeopathy</td>\n",
       "      <td>24 years experience</td>\n",
       "      <td>100%</td>\n",
       "      <td>Kakkanad, Ernakulam</td>\n",
       "      <td>Homeopath</td>\n",
       "      <td>100% 16 Feedback Kakkanad, Ernakulam</td>\n",
       "      <td>100</td>\n",
       "    </tr>\n",
       "    <tr>\n",
       "      <td>1</td>\n",
       "      <td>BAMS, MD - Ayurveda Medicine</td>\n",
       "      <td>12 years experience</td>\n",
       "      <td>98%</td>\n",
       "      <td>Whitefield, Bangalore</td>\n",
       "      <td>Ayurveda</td>\n",
       "      <td>98% 76 Feedback Whitefield, Bangalore</td>\n",
       "      <td>350</td>\n",
       "    </tr>\n",
       "    <tr>\n",
       "      <td>2</td>\n",
       "      <td>MBBS, MS - Otorhinolaryngology</td>\n",
       "      <td>9 years experience</td>\n",
       "      <td>NaN</td>\n",
       "      <td>Mathikere - BEL, Bangalore</td>\n",
       "      <td>ENT Specialist</td>\n",
       "      <td>NaN</td>\n",
       "      <td>300</td>\n",
       "    </tr>\n",
       "    <tr>\n",
       "      <td>3</td>\n",
       "      <td>BSc - Zoology, BAMS</td>\n",
       "      <td>12 years experience</td>\n",
       "      <td>NaN</td>\n",
       "      <td>Bannerghatta Road, Bangalore</td>\n",
       "      <td>Ayurveda</td>\n",
       "      <td>Bannerghatta Road, Bangalore ₹250 Available on...</td>\n",
       "      <td>250</td>\n",
       "    </tr>\n",
       "    <tr>\n",
       "      <td>4</td>\n",
       "      <td>BAMS</td>\n",
       "      <td>20 years experience</td>\n",
       "      <td>100%</td>\n",
       "      <td>Keelkattalai, Chennai</td>\n",
       "      <td>Ayurveda</td>\n",
       "      <td>100% 4 Feedback Keelkattalai, Chennai</td>\n",
       "      <td>250</td>\n",
       "    </tr>\n",
       "    <tr>\n",
       "      <td>...</td>\n",
       "      <td>...</td>\n",
       "      <td>...</td>\n",
       "      <td>...</td>\n",
       "      <td>...</td>\n",
       "      <td>...</td>\n",
       "      <td>...</td>\n",
       "      <td>...</td>\n",
       "    </tr>\n",
       "    <tr>\n",
       "      <td>5956</td>\n",
       "      <td>MBBS, MS - ENT</td>\n",
       "      <td>19 years experience</td>\n",
       "      <td>98%</td>\n",
       "      <td>Basavanagudi, Bangalore</td>\n",
       "      <td>ENT Specialist</td>\n",
       "      <td>98% 45 Feedback Basavanagudi, Bangalore</td>\n",
       "      <td>300</td>\n",
       "    </tr>\n",
       "    <tr>\n",
       "      <td>5957</td>\n",
       "      <td>MBBS</td>\n",
       "      <td>33 years experience</td>\n",
       "      <td>NaN</td>\n",
       "      <td>Nungambakkam, Chennai</td>\n",
       "      <td>General Medicine</td>\n",
       "      <td>NaN</td>\n",
       "      <td>100</td>\n",
       "    </tr>\n",
       "    <tr>\n",
       "      <td>5958</td>\n",
       "      <td>MBBS</td>\n",
       "      <td>41 years experience</td>\n",
       "      <td>97%</td>\n",
       "      <td>Greater Kailash Part 2, Delhi</td>\n",
       "      <td>General Medicine</td>\n",
       "      <td>97% 11 Feedback Greater Kailash Part 2, Delhi</td>\n",
       "      <td>600</td>\n",
       "    </tr>\n",
       "    <tr>\n",
       "      <td>5959</td>\n",
       "      <td>MBBS, MD - General Medicine</td>\n",
       "      <td>15 years experience</td>\n",
       "      <td>90%</td>\n",
       "      <td>Vileparle West, Mumbai</td>\n",
       "      <td>General Medicine</td>\n",
       "      <td>General Medical Consultation Viral Fever Treat...</td>\n",
       "      <td>100</td>\n",
       "    </tr>\n",
       "    <tr>\n",
       "      <td>5960</td>\n",
       "      <td>BDS, MDS - Orthodontics</td>\n",
       "      <td>17 years experience</td>\n",
       "      <td>100%</td>\n",
       "      <td>Pitampura, Delhi</td>\n",
       "      <td>Dentist</td>\n",
       "      <td>Acrylic Partial Denture Crowns and Bridges Fix...</td>\n",
       "      <td>200</td>\n",
       "    </tr>\n",
       "  </tbody>\n",
       "</table>\n",
       "<p>5961 rows × 7 columns</p>\n",
       "</div>"
      ],
      "text/plain": [
       "                       Qualification           Experience Rating  \\\n",
       "0              BHMS, MD - Homeopathy  24 years experience   100%   \n",
       "1       BAMS, MD - Ayurveda Medicine  12 years experience    98%   \n",
       "2     MBBS, MS - Otorhinolaryngology   9 years experience    NaN   \n",
       "3                BSc - Zoology, BAMS  12 years experience    NaN   \n",
       "4                               BAMS  20 years experience   100%   \n",
       "...                              ...                  ...    ...   \n",
       "5956                  MBBS, MS - ENT  19 years experience    98%   \n",
       "5957                            MBBS  33 years experience    NaN   \n",
       "5958                            MBBS  41 years experience    97%   \n",
       "5959     MBBS, MD - General Medicine  15 years experience    90%   \n",
       "5960         BDS, MDS - Orthodontics  17 years experience   100%   \n",
       "\n",
       "                              Place           Profile  \\\n",
       "0               Kakkanad, Ernakulam         Homeopath   \n",
       "1             Whitefield, Bangalore          Ayurveda   \n",
       "2        Mathikere - BEL, Bangalore    ENT Specialist   \n",
       "3      Bannerghatta Road, Bangalore          Ayurveda   \n",
       "4             Keelkattalai, Chennai          Ayurveda   \n",
       "...                             ...               ...   \n",
       "5956        Basavanagudi, Bangalore    ENT Specialist   \n",
       "5957          Nungambakkam, Chennai  General Medicine   \n",
       "5958  Greater Kailash Part 2, Delhi  General Medicine   \n",
       "5959         Vileparle West, Mumbai  General Medicine   \n",
       "5960               Pitampura, Delhi           Dentist   \n",
       "\n",
       "                                     Miscellaneous_Info  Fees  \n",
       "0                  100% 16 Feedback Kakkanad, Ernakulam   100  \n",
       "1                 98% 76 Feedback Whitefield, Bangalore   350  \n",
       "2                                                   NaN   300  \n",
       "3     Bannerghatta Road, Bangalore ₹250 Available on...   250  \n",
       "4                 100% 4 Feedback Keelkattalai, Chennai   250  \n",
       "...                                                 ...   ...  \n",
       "5956            98% 45 Feedback Basavanagudi, Bangalore   300  \n",
       "5957                                                NaN   100  \n",
       "5958      97% 11 Feedback Greater Kailash Part 2, Delhi   600  \n",
       "5959  General Medical Consultation Viral Fever Treat...   100  \n",
       "5960  Acrylic Partial Denture Crowns and Bridges Fix...   200  \n",
       "\n",
       "[5961 rows x 7 columns]"
      ]
     },
     "execution_count": 268,
     "metadata": {},
     "output_type": "execute_result"
    }
   ],
   "source": [
    "data = pd.read_excel('Final_Train.xlsx')\n",
    "data"
   ]
  },
  {
   "cell_type": "markdown",
   "metadata": {},
   "source": [
    "### Exploratory Data Analysis"
   ]
  },
  {
   "cell_type": "code",
   "execution_count": 269,
   "metadata": {},
   "outputs": [
    {
     "data": {
      "text/html": [
       "<div>\n",
       "<style scoped>\n",
       "    .dataframe tbody tr th:only-of-type {\n",
       "        vertical-align: middle;\n",
       "    }\n",
       "\n",
       "    .dataframe tbody tr th {\n",
       "        vertical-align: top;\n",
       "    }\n",
       "\n",
       "    .dataframe thead th {\n",
       "        text-align: right;\n",
       "    }\n",
       "</style>\n",
       "<table border=\"1\" class=\"dataframe\">\n",
       "  <thead>\n",
       "    <tr style=\"text-align: right;\">\n",
       "      <th></th>\n",
       "      <th>Qualification</th>\n",
       "      <th>Experience</th>\n",
       "      <th>Rating</th>\n",
       "      <th>Place</th>\n",
       "      <th>Profile</th>\n",
       "      <th>Miscellaneous_Info</th>\n",
       "      <th>Fees</th>\n",
       "    </tr>\n",
       "  </thead>\n",
       "  <tbody>\n",
       "    <tr>\n",
       "      <td>0</td>\n",
       "      <td>BHMS, MD - Homeopathy</td>\n",
       "      <td>24 years experience</td>\n",
       "      <td>100%</td>\n",
       "      <td>Kakkanad, Ernakulam</td>\n",
       "      <td>Homeopath</td>\n",
       "      <td>100% 16 Feedback Kakkanad, Ernakulam</td>\n",
       "      <td>100</td>\n",
       "    </tr>\n",
       "    <tr>\n",
       "      <td>1</td>\n",
       "      <td>BAMS, MD - Ayurveda Medicine</td>\n",
       "      <td>12 years experience</td>\n",
       "      <td>98%</td>\n",
       "      <td>Whitefield, Bangalore</td>\n",
       "      <td>Ayurveda</td>\n",
       "      <td>98% 76 Feedback Whitefield, Bangalore</td>\n",
       "      <td>350</td>\n",
       "    </tr>\n",
       "    <tr>\n",
       "      <td>2</td>\n",
       "      <td>MBBS, MS - Otorhinolaryngology</td>\n",
       "      <td>9 years experience</td>\n",
       "      <td>NaN</td>\n",
       "      <td>Mathikere - BEL, Bangalore</td>\n",
       "      <td>ENT Specialist</td>\n",
       "      <td>NaN</td>\n",
       "      <td>300</td>\n",
       "    </tr>\n",
       "    <tr>\n",
       "      <td>3</td>\n",
       "      <td>BSc - Zoology, BAMS</td>\n",
       "      <td>12 years experience</td>\n",
       "      <td>NaN</td>\n",
       "      <td>Bannerghatta Road, Bangalore</td>\n",
       "      <td>Ayurveda</td>\n",
       "      <td>Bannerghatta Road, Bangalore ₹250 Available on...</td>\n",
       "      <td>250</td>\n",
       "    </tr>\n",
       "    <tr>\n",
       "      <td>4</td>\n",
       "      <td>BAMS</td>\n",
       "      <td>20 years experience</td>\n",
       "      <td>100%</td>\n",
       "      <td>Keelkattalai, Chennai</td>\n",
       "      <td>Ayurveda</td>\n",
       "      <td>100% 4 Feedback Keelkattalai, Chennai</td>\n",
       "      <td>250</td>\n",
       "    </tr>\n",
       "  </tbody>\n",
       "</table>\n",
       "</div>"
      ],
      "text/plain": [
       "                    Qualification           Experience Rating  \\\n",
       "0           BHMS, MD - Homeopathy  24 years experience   100%   \n",
       "1    BAMS, MD - Ayurveda Medicine  12 years experience    98%   \n",
       "2  MBBS, MS - Otorhinolaryngology   9 years experience    NaN   \n",
       "3             BSc - Zoology, BAMS  12 years experience    NaN   \n",
       "4                            BAMS  20 years experience   100%   \n",
       "\n",
       "                          Place         Profile  \\\n",
       "0           Kakkanad, Ernakulam       Homeopath   \n",
       "1         Whitefield, Bangalore        Ayurveda   \n",
       "2    Mathikere - BEL, Bangalore  ENT Specialist   \n",
       "3  Bannerghatta Road, Bangalore        Ayurveda   \n",
       "4         Keelkattalai, Chennai        Ayurveda   \n",
       "\n",
       "                                  Miscellaneous_Info  Fees  \n",
       "0               100% 16 Feedback Kakkanad, Ernakulam   100  \n",
       "1              98% 76 Feedback Whitefield, Bangalore   350  \n",
       "2                                                NaN   300  \n",
       "3  Bannerghatta Road, Bangalore ₹250 Available on...   250  \n",
       "4              100% 4 Feedback Keelkattalai, Chennai   250  "
      ]
     },
     "execution_count": 269,
     "metadata": {},
     "output_type": "execute_result"
    }
   ],
   "source": [
    "data.head()"
   ]
  },
  {
   "cell_type": "code",
   "execution_count": 270,
   "metadata": {},
   "outputs": [
    {
     "data": {
      "text/html": [
       "<div>\n",
       "<style scoped>\n",
       "    .dataframe tbody tr th:only-of-type {\n",
       "        vertical-align: middle;\n",
       "    }\n",
       "\n",
       "    .dataframe tbody tr th {\n",
       "        vertical-align: top;\n",
       "    }\n",
       "\n",
       "    .dataframe thead th {\n",
       "        text-align: right;\n",
       "    }\n",
       "</style>\n",
       "<table border=\"1\" class=\"dataframe\">\n",
       "  <thead>\n",
       "    <tr style=\"text-align: right;\">\n",
       "      <th></th>\n",
       "      <th>Qualification</th>\n",
       "      <th>Experience</th>\n",
       "      <th>Rating</th>\n",
       "      <th>Place</th>\n",
       "      <th>Profile</th>\n",
       "      <th>Miscellaneous_Info</th>\n",
       "      <th>Fees</th>\n",
       "    </tr>\n",
       "  </thead>\n",
       "  <tbody>\n",
       "    <tr>\n",
       "      <td>5956</td>\n",
       "      <td>MBBS, MS - ENT</td>\n",
       "      <td>19 years experience</td>\n",
       "      <td>98%</td>\n",
       "      <td>Basavanagudi, Bangalore</td>\n",
       "      <td>ENT Specialist</td>\n",
       "      <td>98% 45 Feedback Basavanagudi, Bangalore</td>\n",
       "      <td>300</td>\n",
       "    </tr>\n",
       "    <tr>\n",
       "      <td>5957</td>\n",
       "      <td>MBBS</td>\n",
       "      <td>33 years experience</td>\n",
       "      <td>NaN</td>\n",
       "      <td>Nungambakkam, Chennai</td>\n",
       "      <td>General Medicine</td>\n",
       "      <td>NaN</td>\n",
       "      <td>100</td>\n",
       "    </tr>\n",
       "    <tr>\n",
       "      <td>5958</td>\n",
       "      <td>MBBS</td>\n",
       "      <td>41 years experience</td>\n",
       "      <td>97%</td>\n",
       "      <td>Greater Kailash Part 2, Delhi</td>\n",
       "      <td>General Medicine</td>\n",
       "      <td>97% 11 Feedback Greater Kailash Part 2, Delhi</td>\n",
       "      <td>600</td>\n",
       "    </tr>\n",
       "    <tr>\n",
       "      <td>5959</td>\n",
       "      <td>MBBS, MD - General Medicine</td>\n",
       "      <td>15 years experience</td>\n",
       "      <td>90%</td>\n",
       "      <td>Vileparle West, Mumbai</td>\n",
       "      <td>General Medicine</td>\n",
       "      <td>General Medical Consultation Viral Fever Treat...</td>\n",
       "      <td>100</td>\n",
       "    </tr>\n",
       "    <tr>\n",
       "      <td>5960</td>\n",
       "      <td>BDS, MDS - Orthodontics</td>\n",
       "      <td>17 years experience</td>\n",
       "      <td>100%</td>\n",
       "      <td>Pitampura, Delhi</td>\n",
       "      <td>Dentist</td>\n",
       "      <td>Acrylic Partial Denture Crowns and Bridges Fix...</td>\n",
       "      <td>200</td>\n",
       "    </tr>\n",
       "  </tbody>\n",
       "</table>\n",
       "</div>"
      ],
      "text/plain": [
       "                    Qualification           Experience Rating  \\\n",
       "5956               MBBS, MS - ENT  19 years experience    98%   \n",
       "5957                         MBBS  33 years experience    NaN   \n",
       "5958                         MBBS  41 years experience    97%   \n",
       "5959  MBBS, MD - General Medicine  15 years experience    90%   \n",
       "5960      BDS, MDS - Orthodontics  17 years experience   100%   \n",
       "\n",
       "                              Place           Profile  \\\n",
       "5956        Basavanagudi, Bangalore    ENT Specialist   \n",
       "5957          Nungambakkam, Chennai  General Medicine   \n",
       "5958  Greater Kailash Part 2, Delhi  General Medicine   \n",
       "5959         Vileparle West, Mumbai  General Medicine   \n",
       "5960               Pitampura, Delhi           Dentist   \n",
       "\n",
       "                                     Miscellaneous_Info  Fees  \n",
       "5956            98% 45 Feedback Basavanagudi, Bangalore   300  \n",
       "5957                                                NaN   100  \n",
       "5958      97% 11 Feedback Greater Kailash Part 2, Delhi   600  \n",
       "5959  General Medical Consultation Viral Fever Treat...   100  \n",
       "5960  Acrylic Partial Denture Crowns and Bridges Fix...   200  "
      ]
     },
     "execution_count": 270,
     "metadata": {},
     "output_type": "execute_result"
    }
   ],
   "source": [
    "data.tail()"
   ]
  },
  {
   "cell_type": "markdown",
   "metadata": {},
   "source": [
    "#### Lets check the null values without using visualization"
   ]
  },
  {
   "cell_type": "code",
   "execution_count": 271,
   "metadata": {},
   "outputs": [
    {
     "data": {
      "text/plain": [
       "Qualification            0\n",
       "Experience               0\n",
       "Rating                3302\n",
       "Place                   25\n",
       "Profile                  0\n",
       "Miscellaneous_Info    2620\n",
       "Fees                     0\n",
       "dtype: int64"
      ]
     },
     "execution_count": 271,
     "metadata": {},
     "output_type": "execute_result"
    }
   ],
   "source": [
    "data.isnull().sum()"
   ]
  },
  {
   "cell_type": "code",
   "execution_count": 272,
   "metadata": {},
   "outputs": [
    {
     "data": {
      "image/png": "[encoded data removed]",
      "text/plain": [
       "<Figure size 432x288 with 2 Axes>"
      ]
     },
     "metadata": {
      "needs_background": "light"
     },
     "output_type": "display_data"
    }
   ],
   "source": [
    "#Check the Null value through graph\n",
    "import matplotlib.pyplot as plt\n",
    "import seaborn as sns\n",
    "sns.heatmap(data.isnull())\n",
    "plt.show()"
   ]
  },
  {
   "cell_type": "markdown",
   "metadata": {},
   "source": [
    "#### Here Rating Column and Miscellaneous_Info has maximum no of Null so I am deleting these Column"
   ]
  },
  {
   "cell_type": "code",
   "execution_count": 273,
   "metadata": {},
   "outputs": [],
   "source": [
    "data.drop('Rating',axis=1,inplace=True)"
   ]
  },
  {
   "cell_type": "code",
   "execution_count": 274,
   "metadata": {},
   "outputs": [],
   "source": [
    "data.drop('Miscellaneous_Info',axis=1,inplace=True)"
   ]
  },
  {
   "cell_type": "code",
   "execution_count": 275,
   "metadata": {},
   "outputs": [
    {
     "data": {
      "text/html": [
       "<div>\n",
       "<style scoped>\n",
       "    .dataframe tbody tr th:only-of-type {\n",
       "        vertical-align: middle;\n",
       "    }\n",
       "\n",
       "    .dataframe tbody tr th {\n",
       "        vertical-align: top;\n",
       "    }\n",
       "\n",
       "    .dataframe thead th {\n",
       "        text-align: right;\n",
       "    }\n",
       "</style>\n",
       "<table border=\"1\" class=\"dataframe\">\n",
       "  <thead>\n",
       "    <tr style=\"text-align: right;\">\n",
       "      <th></th>\n",
       "      <th>Qualification</th>\n",
       "      <th>Experience</th>\n",
       "      <th>Place</th>\n",
       "      <th>Profile</th>\n",
       "      <th>Fees</th>\n",
       "    </tr>\n",
       "  </thead>\n",
       "  <tbody>\n",
       "    <tr>\n",
       "      <td>0</td>\n",
       "      <td>BHMS, MD - Homeopathy</td>\n",
       "      <td>24 years experience</td>\n",
       "      <td>Kakkanad, Ernakulam</td>\n",
       "      <td>Homeopath</td>\n",
       "      <td>100</td>\n",
       "    </tr>\n",
       "    <tr>\n",
       "      <td>1</td>\n",
       "      <td>BAMS, MD - Ayurveda Medicine</td>\n",
       "      <td>12 years experience</td>\n",
       "      <td>Whitefield, Bangalore</td>\n",
       "      <td>Ayurveda</td>\n",
       "      <td>350</td>\n",
       "    </tr>\n",
       "    <tr>\n",
       "      <td>2</td>\n",
       "      <td>MBBS, MS - Otorhinolaryngology</td>\n",
       "      <td>9 years experience</td>\n",
       "      <td>Mathikere - BEL, Bangalore</td>\n",
       "      <td>ENT Specialist</td>\n",
       "      <td>300</td>\n",
       "    </tr>\n",
       "    <tr>\n",
       "      <td>3</td>\n",
       "      <td>BSc - Zoology, BAMS</td>\n",
       "      <td>12 years experience</td>\n",
       "      <td>Bannerghatta Road, Bangalore</td>\n",
       "      <td>Ayurveda</td>\n",
       "      <td>250</td>\n",
       "    </tr>\n",
       "    <tr>\n",
       "      <td>4</td>\n",
       "      <td>BAMS</td>\n",
       "      <td>20 years experience</td>\n",
       "      <td>Keelkattalai, Chennai</td>\n",
       "      <td>Ayurveda</td>\n",
       "      <td>250</td>\n",
       "    </tr>\n",
       "    <tr>\n",
       "      <td>...</td>\n",
       "      <td>...</td>\n",
       "      <td>...</td>\n",
       "      <td>...</td>\n",
       "      <td>...</td>\n",
       "      <td>...</td>\n",
       "    </tr>\n",
       "    <tr>\n",
       "      <td>5956</td>\n",
       "      <td>MBBS, MS - ENT</td>\n",
       "      <td>19 years experience</td>\n",
       "      <td>Basavanagudi, Bangalore</td>\n",
       "      <td>ENT Specialist</td>\n",
       "      <td>300</td>\n",
       "    </tr>\n",
       "    <tr>\n",
       "      <td>5957</td>\n",
       "      <td>MBBS</td>\n",
       "      <td>33 years experience</td>\n",
       "      <td>Nungambakkam, Chennai</td>\n",
       "      <td>General Medicine</td>\n",
       "      <td>100</td>\n",
       "    </tr>\n",
       "    <tr>\n",
       "      <td>5958</td>\n",
       "      <td>MBBS</td>\n",
       "      <td>41 years experience</td>\n",
       "      <td>Greater Kailash Part 2, Delhi</td>\n",
       "      <td>General Medicine</td>\n",
       "      <td>600</td>\n",
       "    </tr>\n",
       "    <tr>\n",
       "      <td>5959</td>\n",
       "      <td>MBBS, MD - General Medicine</td>\n",
       "      <td>15 years experience</td>\n",
       "      <td>Vileparle West, Mumbai</td>\n",
       "      <td>General Medicine</td>\n",
       "      <td>100</td>\n",
       "    </tr>\n",
       "    <tr>\n",
       "      <td>5960</td>\n",
       "      <td>BDS, MDS - Orthodontics</td>\n",
       "      <td>17 years experience</td>\n",
       "      <td>Pitampura, Delhi</td>\n",
       "      <td>Dentist</td>\n",
       "      <td>200</td>\n",
       "    </tr>\n",
       "  </tbody>\n",
       "</table>\n",
       "<p>5961 rows × 5 columns</p>\n",
       "</div>"
      ],
      "text/plain": [
       "                       Qualification           Experience  \\\n",
       "0              BHMS, MD - Homeopathy  24 years experience   \n",
       "1       BAMS, MD - Ayurveda Medicine  12 years experience   \n",
       "2     MBBS, MS - Otorhinolaryngology   9 years experience   \n",
       "3                BSc - Zoology, BAMS  12 years experience   \n",
       "4                               BAMS  20 years experience   \n",
       "...                              ...                  ...   \n",
       "5956                  MBBS, MS - ENT  19 years experience   \n",
       "5957                            MBBS  33 years experience   \n",
       "5958                            MBBS  41 years experience   \n",
       "5959     MBBS, MD - General Medicine  15 years experience   \n",
       "5960         BDS, MDS - Orthodontics  17 years experience   \n",
       "\n",
       "                              Place           Profile  Fees  \n",
       "0               Kakkanad, Ernakulam         Homeopath   100  \n",
       "1             Whitefield, Bangalore          Ayurveda   350  \n",
       "2        Mathikere - BEL, Bangalore    ENT Specialist   300  \n",
       "3      Bannerghatta Road, Bangalore          Ayurveda   250  \n",
       "4             Keelkattalai, Chennai          Ayurveda   250  \n",
       "...                             ...               ...   ...  \n",
       "5956        Basavanagudi, Bangalore    ENT Specialist   300  \n",
       "5957          Nungambakkam, Chennai  General Medicine   100  \n",
       "5958  Greater Kailash Part 2, Delhi  General Medicine   600  \n",
       "5959         Vileparle West, Mumbai  General Medicine   100  \n",
       "5960               Pitampura, Delhi           Dentist   200  \n",
       "\n",
       "[5961 rows x 5 columns]"
      ]
     },
     "execution_count": 275,
     "metadata": {},
     "output_type": "execute_result"
    }
   ],
   "source": [
    "data"
   ]
  },
  {
   "cell_type": "code",
   "execution_count": 276,
   "metadata": {},
   "outputs": [
    {
     "data": {
      "text/plain": [
       "Qualification     0\n",
       "Experience        0\n",
       "Place            25\n",
       "Profile           0\n",
       "Fees              0\n",
       "dtype: int64"
      ]
     },
     "execution_count": 276,
     "metadata": {},
     "output_type": "execute_result"
    }
   ],
   "source": [
    "data.isnull().sum()"
   ]
  },
  {
   "cell_type": "markdown",
   "metadata": {},
   "source": [
    "#### Filling Null Values with Mode"
   ]
  },
  {
   "cell_type": "code",
   "execution_count": 277,
   "metadata": {},
   "outputs": [],
   "source": [
    "for column in ['Place']:\n",
    "    data[column].fillna(data[column].mode()[0], inplace=True)"
   ]
  },
  {
   "cell_type": "code",
   "execution_count": 278,
   "metadata": {},
   "outputs": [
    {
     "data": {
      "text/plain": [
       "Qualification    0\n",
       "Experience       0\n",
       "Place            0\n",
       "Profile          0\n",
       "Fees             0\n",
       "dtype: int64"
      ]
     },
     "execution_count": 278,
     "metadata": {},
     "output_type": "execute_result"
    }
   ],
   "source": [
    "data.isnull().sum()"
   ]
  },
  {
   "cell_type": "code",
   "execution_count": 279,
   "metadata": {},
   "outputs": [
    {
     "data": {
      "text/plain": [
       "Qualification    object\n",
       "Experience       object\n",
       "Place            object\n",
       "Profile          object\n",
       "Fees              int64\n",
       "dtype: object"
      ]
     },
     "execution_count": 279,
     "metadata": {},
     "output_type": "execute_result"
    }
   ],
   "source": [
    "data.dtypes"
   ]
  },
  {
   "cell_type": "markdown",
   "metadata": {},
   "source": [
    "#### Let's check the uniqueness of all columns"
   ]
  },
  {
   "cell_type": "code",
   "execution_count": 280,
   "metadata": {},
   "outputs": [
    {
     "data": {
      "text/plain": [
       "array(['BHMS, MD - Homeopathy', 'BAMS, MD - Ayurveda Medicine',\n",
       "       'MBBS, MS - Otorhinolaryngology', ...,\n",
       "       'MD - Dermatology , Venereology & Leprosy, MBBS, Fellowship In Dermatosurgery',\n",
       "       'BDS, certification in smile designing',\n",
       "       'MD - Homeopathy, Post Graduate Diploma in Healthcare Management(PGDHM), DHMS (Diploma in Homeopathic Medicine and Surgery)'],\n",
       "      dtype=object)"
      ]
     },
     "execution_count": 280,
     "metadata": {},
     "output_type": "execute_result"
    }
   ],
   "source": [
    "data['Qualification'].unique()"
   ]
  },
  {
   "cell_type": "code",
   "execution_count": 281,
   "metadata": {},
   "outputs": [
    {
     "data": {
      "text/plain": [
       "array(['24 years experience', '12 years experience', '9 years experience',\n",
       "       '20 years experience', '8 years experience', '42 years experience',\n",
       "       '10 years experience', '14 years experience',\n",
       "       '23 years experience', '5 years experience', '7 years experience',\n",
       "       '21 years experience', '19 years experience',\n",
       "       '41 years experience', '31 years experience',\n",
       "       '25 years experience', '16 years experience',\n",
       "       '15 years experience', '11 years experience',\n",
       "       '22 years experience', '38 years experience', '6 years experience',\n",
       "       '36 years experience', '13 years experience',\n",
       "       '18 years experience', '46 years experience',\n",
       "       '40 years experience', '49 years experience',\n",
       "       '33 years experience', '0 years experience', '27 years experience',\n",
       "       '30 years experience', '52 years experience',\n",
       "       '60 years experience', '26 years experience',\n",
       "       '35 years experience', '34 years experience',\n",
       "       '39 years experience', '32 years experience',\n",
       "       '17 years experience', '28 years experience',\n",
       "       '58 years experience', '4 years experience', '45 years experience',\n",
       "       '44 years experience', '3 years experience', '37 years experience',\n",
       "       '50 years experience', '29 years experience',\n",
       "       '43 years experience', '54 years experience',\n",
       "       '66 years experience', '2 years experience', '51 years experience',\n",
       "       '47 years experience', '48 years experience',\n",
       "       '53 years experience', '56 years experience',\n",
       "       '61 years experience', '59 years experience',\n",
       "       '57 years experience', '55 years experience',\n",
       "       '65 years experience', '64 years experience'], dtype=object)"
      ]
     },
     "execution_count": 281,
     "metadata": {},
     "output_type": "execute_result"
    }
   ],
   "source": [
    "data['Experience'].unique()"
   ]
  },
  {
   "cell_type": "code",
   "execution_count": 282,
   "metadata": {},
   "outputs": [
    {
     "data": {
      "text/plain": [
       "array(['Kakkanad, Ernakulam', 'Whitefield, Bangalore',\n",
       "       'Mathikere - BEL, Bangalore', 'Bannerghatta Road, Bangalore',\n",
       "       'Keelkattalai, Chennai', 'Porur, Chennai', 'Karol Bagh, Delhi',\n",
       "       'Arekere, Bangalore', 'Old City, Hyderabad', 'Athani, Ernakulam',\n",
       "       'Thousand Lights, Chennai', 'Somajiguda, Hyderabad',\n",
       "       'Coimbatore Racecourse, Coimbatore', 'Jubilee Hills, Hyderabad',\n",
       "       'Kondli, Delhi', 'Saroor Nagar, Hyderabad',\n",
       "       'Tambaram West, Chennai', 'Purasawakkam, Chennai',\n",
       "       'KPHB, Hyderabad', 'HSR Layout, Bangalore', 'Pollachi, Coimbatore',\n",
       "       'Vasundhra Enclave, Delhi', 'Chembur, Mumbai',\n",
       "       'Thammanam, Ernakulam', 'Andheri, Mumbai',\n",
       "       'Pattom, Thiruvananthapuram', 'Kukatpally, Hyderabad',\n",
       "       'Vadavalli, Coimbatore', 'Defence Colony, Delhi',\n",
       "       'Banjara Hills, Hyderabad', 'Sion West, Mumbai', 'CR Park, Delhi',\n",
       "       'Mogappair East, Chennai', 'IP Extension, Delhi',\n",
       "       'Safdarjung Enclave, Delhi', 'New Friends Colony, Delhi',\n",
       "       'Borivali West, Mumbai', 'Saket, Delhi', 'Malad, Mumbai',\n",
       "       'Hyder Nagar, Hyderabad', 'Dahisar West, Mumbai',\n",
       "       'RT Nagar, Bangalore', 'Powai, Mumbai', 'Basheerbagh, Hyderabad',\n",
       "       'Musheerabad, Hyderabad', 'AS Rao Nagar, Hyderabad',\n",
       "       'Madhapur, Hyderabad', 'Gandhinagar, Hyderabad',\n",
       "       'Chetpet, Chennai', 'Vileparle East, Mumbai',\n",
       "       'Yelahanka New Town, Bangalore', 'Kodambakkam, Chennai',\n",
       "       'Malleswaram, Bangalore', 'Pallikaranai, Chennai',\n",
       "       'Nallakunta, Hyderabad', 'Paschim Vihar, Delhi',\n",
       "       'Meera Bagh, Delhi', 'Chattarpur, Delhi', 'Andheri West, Mumbai',\n",
       "       'Himayat Nagar, Hyderabad', 'Adambakkam, Chennai',\n",
       "       'Punjabi Bagh, Delhi', 'Mahalaxmi, Mumbai', 'Kalina, Mumbai',\n",
       "       'Attapur, Hyderabad', 'Lakdikapul, Hyderabad', 'Ambattur, Chennai',\n",
       "       'Ramnagar, Coimbatore', 'Shalimar Bagh, Delhi',\n",
       "       'Nungambakkam, Chennai', 'Miyapur, Hyderabad', 'Sagarpur, Delhi',\n",
       "       'Girgaon, Mumbai', 'Jayanagar, Bangalore',\n",
       "       'Palayam, Thiruvananthapuram', 'Munirka, Delhi',\n",
       "       'Tuglakabad, Delhi', 'Moosarambagh, Hyderabad',\n",
       "       'Anna Nagar East, Chennai', 'Bandra West, Mumbai',\n",
       "       'Kanakpura Road, Bangalore', 'Green Park, Delhi',\n",
       "       'Maduravoyal, Chennai', 'Dahisar East, Mumbai',\n",
       "       'Moosapet, Hyderabad', 'Koramangala, Bangalore',\n",
       "       'TV Medical College, Thiruvananthapuram', 'Kadavanthra, Ernakulam',\n",
       "       'Greams Road, Chennai', 'Bommanahalli, Bangalore',\n",
       "       'T Nagar, Chennai', 'Yelahanka, Bangalore',\n",
       "       'Hazrat Nizamuddin, Delhi', 'Old Rajendra Nagar, Delhi',\n",
       "       'Dadar West, Mumbai', 'Indiranagar, Bangalore',\n",
       "       'Perumbakkam, Chennai', 'Shaikpet, Hyderabad',\n",
       "       'Vyttila, Ernakulam', 'Khar West, Mumbai', 'Goregaon West, Mumbai',\n",
       "       'Bakkarwala, Delhi', 'Nesapakkam, Chennai',\n",
       "       'BTM Layout 2nd Stage, Bangalore', 'Ashok Nagar, Chennai',\n",
       "       'Chandivali, Mumbai', 'Uttam Nagar, Delhi',\n",
       "       'Gujranwala Town, Delhi', 'Greater Kailash Part 1, Delhi',\n",
       "       'Panchsheel Park, Delhi', 'Thoraipakkam, Chennai',\n",
       "       'South Extension 2, Delhi', 'Kandivali East, Mumbai',\n",
       "       'Pitampura, Delhi', 'Banashankari 3rd Stage, Bangalore',\n",
       "       'Kolenchery, Ernakulam', 'Kumaraswamy Layout, Bangalore',\n",
       "       'Vadapalani, Chennai', 'Manikonda, Hyderabad',\n",
       "       'Gandhipuram, Coimbatore', 'Yeshwanthpur, Bangalore',\n",
       "       'Ayanavaram, Chennai', 'Basaveshwaranagar, Bangalore',\n",
       "       'Malad West, Mumbai', 'Vikas Puri, Delhi', 'Kondapur, Hyderabad',\n",
       "       'Andheri East, Mumbai', 'Sulur, Coimbatore', 'Adyar, Chennai',\n",
       "       'Krishna Nagar, Delhi', 'Langer House, Hyderabad',\n",
       "       'Thiruvanmiyur, Chennai', 'Dwarka, Delhi', 'Bhandup West, Mumbai',\n",
       "       'Janak Puri, Delhi', 'Rajajinagar, Bangalore',\n",
       "       'South Extension 1, Delhi', 'Kemps Corner, Mumbai',\n",
       "       'Peelamedu, Coimbatore', 'Kandivali West, Mumbai',\n",
       "       'Thevara, Ernakulam', 'Wilson Garden, Bangalore', 'Wadala, Mumbai',\n",
       "       'Pahar Ganj, Delhi', 'Chanchalguda, Hyderabad',\n",
       "       'Chikkadpally, Hyderabad', 'Pasur-avanashi, Coimbatore',\n",
       "       'Nagarbhavi, Bangalore', 'Lajpat Nagar, Delhi',\n",
       "       'Mayur Vihar Ph-I, Delhi', 'Dilshad Garden, Delhi',\n",
       "       'Vijayanagar, Bangalore', 'Alwarpet, Chennai',\n",
       "       'Pappanamcode, Thiruvananthapuram', 'Aluva, Ernakulam',\n",
       "       'Nariman Point, Mumbai', 'Kilkattalai, Chennai',\n",
       "       'Dilsukhnagar, Hyderabad', 'Kurla West, Mumbai',\n",
       "       'Begumpet, Hyderabad', 'Kaloor, Ernakulam',\n",
       "       'Hitech City, Hyderabad', 'Goregaon East, Mumbai',\n",
       "       'Velandipalayam, Coimbatore', 'Ghatkopar East, Mumbai',\n",
       "       'Mulund West, Mumbai', 'Yousufguda, Hyderabad',\n",
       "       'Ghatkopar West, Mumbai', 'TVM Beach, Thiruvananthapuram',\n",
       "       'Vanagaram, Chennai', 'Worli, Mumbai',\n",
       "       'Koramangala 1 Block, Bangalore', 'Saki Vihar Road, Mumbai',\n",
       "       'Versova, Mumbai', 'CV Raman Nagar, Bangalore',\n",
       "       'Secunderabad, Hyderabad', 'BTM Layout 1st Stage, Bangalore',\n",
       "       'Ramkoti, Hyderabad', 'MRC Nagar, Chennai',\n",
       "       'Malkajgiri, Hyderabad', 'Gachibowli, Hyderabad',\n",
       "       'Mogappair West, Chennai', 'Mayur Vihar Ph-III, Delhi',\n",
       "       'Kurla East, Mumbai', 'Ashok Vihar, Delhi', 'Mahim, Mumbai',\n",
       "       'Villivakkam, Chennai', 'Srinagar Colony, Hyderabad',\n",
       "       'Chromepet, Chennai', 'Pammal, Chennai', 'Banashankari, Bangalore',\n",
       "       'Velachery, Chennai', 'Chanakyapuri, Delhi',\n",
       "       'Kalyan Nagar, Bangalore', 'Oshiwara, Mumbai',\n",
       "       'Karapakkam, Chennai', 'Borivali, Mumbai', 'Mylapore, Chennai',\n",
       "       'Electronics City, Bangalore', 'Perungudi, Chennai',\n",
       "       'Basavanagudi, Bangalore', 'MG Road, Bangalore',\n",
       "       'Thiruvottiyur, Chennai', 'Greater Kailash Part 2, Delhi',\n",
       "       'Bilekahalli, Bangalore', 'Nanganallur, Chennai', 'Rohini, Delhi',\n",
       "       'Thrikkakara, Ernakulam', 'Manapakkam, Chennai',\n",
       "       'Bellandur, Bangalore', 'Ameerpet, Hyderabad',\n",
       "       'Thiruvallom, Thiruvananthapuram', 'R.S. Puram, Coimbatore',\n",
       "       'Kumarapuram, Thiruvananthapuram', 'Palam Colony, Delhi',\n",
       "       'Manali, Chennai', 'Valasaravakkam, Chennai',\n",
       "       'Barkatpura, Hyderabad', 'Singanallur, Coimbatore',\n",
       "       'Mulund, Mumbai', 'Dadar East, Mumbai', 'Borabanda, Hyderabad',\n",
       "       'Model Town 3, Delhi', 'Ulsoor, Bangalore',\n",
       "       'Bhayandar West, Mumbai', 'Hari Nagar, Delhi',\n",
       "       'Horamavu, Bangalore', 'Santacruz East, Mumbai',\n",
       "       'OMR Road, Chennai', 'Kammana Halli, Bangalore',\n",
       "       'Tilak Nagar, Delhi', 'Panathur, Bangalore',\n",
       "       'Rajarajeshwarinagar, Bangalore', 'Paravur, Ernakulam',\n",
       "       'Preet Vihar, Delhi', 'Chembur East, Mumbai', 'Jakkur, Bangalore',\n",
       "       'Vanasthalipuram, Hyderabad', 'Mandaveli, Chennai',\n",
       "       'Kumara Park West, Bangalore', 'Domlur, Bangalore',\n",
       "       'Jeevanbhimanagar, Bangalore', 'Santacruz West, Mumbai',\n",
       "       'Shankar Vihar, Delhi', 'Jogeshwari East, Mumbai',\n",
       "       'Kasavanahalli, Bangalore', 'Ambalamukku, Thiruvananthapuram',\n",
       "       'Jhilmil Colony, Delhi', 'Dwarka Sector 7, Delhi',\n",
       "       'Tatabad, Coimbatore', 'Marine Lines, Mumbai',\n",
       "       'Tolichowki, Hyderabad', 'Sundarapuram, Coimbatore',\n",
       "       'Kothanur, Bangalore', 'Chinmaya Nagar, Chennai',\n",
       "       'Vasant Vihar, Delhi', 'Mehdipatnam, Hyderabad',\n",
       "       'Kadugodi, Bangalore', 'Ganapathy, Coimbatore',\n",
       "       'SR Nagar, Hyderabad', 'Perambur, Chennai', 'Opera House, Mumbai',\n",
       "       'Selvapuram, Coimbatore', 'Karkardooma, Delhi',\n",
       "       'Alwarthirunagar, Chennai', 'KR Puram, Bangalore',\n",
       "       'Ramesh Nagar, Delhi', 'Malakpet, Hyderabad',\n",
       "       'Tondiarpet, Chennai', 'Vikrampuri Colony, Hyderabad',\n",
       "       'Besant Nagar, Chennai', 'Vasant Kunj, Delhi',\n",
       "       'Banaswadi, Bangalore', 'BTM Layout, Bangalore',\n",
       "       'Medavakkam, Chennai', 'Vileparle West, Mumbai',\n",
       "       'Sahakaranagar, Bangalore', 'LB Nagar, Hyderabad',\n",
       "       'Punjagutta, Hyderabad', 'Yamuna Vihar, Delhi',\n",
       "       'Marathahalli, Bangalore', 'JP Nagar 2 Phase, Bangalore',\n",
       "       'Rani Bagh, Delhi', 'Jayamahal, Bangalore', 'Nagpada, Mumbai',\n",
       "       'Kundalahalli, Bangalore', 'Kailash Colony, Delhi',\n",
       "       'Pandav Nagar, Delhi', 'Karkhana, Hyderabad',\n",
       "       'West Mambalam, Chennai', 'Aminjikarai, Chennai',\n",
       "       'Madipakkam, Chennai', 'Charkop, Mumbai', 'Adarsh Nagar, Delhi',\n",
       "       'Dadar, Mumbai', 'Kaggadasapura, Bangalore', 'Matunga, Mumbai',\n",
       "       'Sun city, Hyderabad', 'Mahadevapura, Bangalore',\n",
       "       'Kalady, Ernakulam', 'Anna Nagar West, Chennai',\n",
       "       'Mayur Vihar Ph-II, Delhi', 'Tis Hazari, Delhi',\n",
       "       'Vennala, Ernakulam', 'Mira Road, Mumbai', 'Alwal, Hyderabad',\n",
       "       'Trimulgherry, Hyderabad', 'Raja Annamalai Puram, Chennai',\n",
       "       'JP Nagar 7 Phase, Bangalore', 'Old Bowenpally, Hyderabad',\n",
       "       'Santosh Nagar, Hyderabad', 'Hope College, Coimbatore',\n",
       "       'Mulund East, Mumbai', 'Mount Road, Chennai',\n",
       "       'Patel Nagar West, Delhi', 'Jayanagar 4 Block, Bangalore',\n",
       "       'West Marredpally, Hyderabad', 'Jagriti Enclave, Delhi',\n",
       "       'Sarita Vihar, Delhi', 'Rajendra Nagar, Hyderabad',\n",
       "       'Thudiyalur, Coimbatore', 'Bhayandar East, Mumbai',\n",
       "       'Narayanguda, Hyderabad', 'Kothapet, Hyderabad',\n",
       "       'KK Nagar, Chennai', 'Tripunithura, Ernakulam',\n",
       "       'Model Town, Delhi', 'Suchitra Circle, Hyderabad',\n",
       "       'Pusa Road, Delhi', 'Vijaynagar Colony, Hyderabad',\n",
       "       'Alandur, Chennai', 'Cuffe Parade, Mumbai', 'Kalkaji, Delhi',\n",
       "       'Saibaba Colony, Coimbatore', 'Kattakada, Thiruvananthapuram',\n",
       "       'Jogeshwari West, Mumbai', 'Erragadda, Hyderabad',\n",
       "       'Tilak Nagar, Hyderabad', 'Edapally, Ernakulam',\n",
       "       'Patparganj, Delhi', 'Sainikpuri, Hyderabad',\n",
       "       'Nanjundapuram, Coimbatore', 'Nizampet, Hyderabad',\n",
       "       'Kolathur, Chennai', 'Chamarajpet, Bangalore',\n",
       "       'Kala Ghoda, Mumbai', 'Padmarao Nagar, Hyderabad',\n",
       "       'Uppal, Hyderabad', 'Guduvanchery, Chennai',\n",
       "       'Satya Niketan, Delhi', 'Chanda Nagar, Hyderabad',\n",
       "       'Sowripalayam, Coimbatore', 'Vikhroli West, Mumbai',\n",
       "       'Rajouri Garden, Delhi', 'Alaknanda, Delhi',\n",
       "       'Millers Road, Bangalore', 'Kandanchavadi, Chennai',\n",
       "       'Vigyan Vihar, Delhi', 'Bandra East, Mumbai',\n",
       "       'Vilankurichi, Coimbatore', 'Malad East, Mumbai',\n",
       "       'Prabhadevi, Mumbai', 'Ulloor, Thiruvananthapuram',\n",
       "       'Rajakilpakkam, Chennai', 'Greater Kailash, Delhi',\n",
       "       'Madinaguda, Hyderabad', 'Borivali East, Mumbai', 'Juhu, Mumbai',\n",
       "       'Mugalivakkam, Chennai', 'Hebbal, Bangalore', 'Kirti Nagar, Delhi',\n",
       "       'Balaramapuram, Thiruvananthapuram', 'Bhandup East, Mumbai',\n",
       "       'VV Puram, Bangalore', 'Kilpauk, Chennai', 'Jacob Circle, Mumbai',\n",
       "       'Singasandra, Bangalore', 'Khairatabad, Hyderabad',\n",
       "       'Coimbatore Aerodrome, Coimbatore', 'J.C Nagar, Bangalore',\n",
       "       'Naraina Vihar, Delhi', 'Virugambakkam, Chennai',\n",
       "       'RK Puram, Delhi', 'Banashankari 1st Stage, Bangalore',\n",
       "       'Lajpat Nagar 4, Delhi', 'Jayanagar 5 Block, Bangalore',\n",
       "       'Kalyanpuri, Hyderabad', 'Tambaram, Chennai', 'Laxmi Nagar, Delhi',\n",
       "       'Anand Vihar, Delhi', 'Charni Road, Mumbai',\n",
       "       'Patel Nagar East, Delhi', 'Jayanagar 9 Block, Bangalore',\n",
       "       'Ecil, Hyderabad', 'Ramamurthy Nagar, Bangalore',\n",
       "       'Raj Nagar - 2, Delhi', 'Chunabhatti, Mumbai',\n",
       "       'Vikhroli East, Mumbai', 'Shakarpur, Delhi', 'Shahdara, Delhi',\n",
       "       'Govandi, Mumbai', 'Mira Bhayandar, Mumbai',\n",
       "       'Doddanekundi, Bangalore', 'Madhu Vihar, Delhi', 'Guindy, Chennai',\n",
       "       'Palarivattom, Ernakulam', 'Charminar, Hyderabad',\n",
       "       'Old Airport Road, Bangalore', 'Sarjapur Road, Bangalore',\n",
       "       'Okhla, Delhi', 'Baghlingampally, Hyderabad', 'Trombay, Mumbai',\n",
       "       'HRBR Layout, Bangalore', 'Fort, Mumbai', 'Shastri Nagar, Delhi',\n",
       "       'Red Hills, Chennai', 'New BEL Road, Bangalore',\n",
       "       'Park Town, Chennai', 'Frazer Town, Bangalore',\n",
       "       'Falaknuma, Hyderabad', 'Rohini Sector 7, Delhi',\n",
       "       'East Of Kailash, Delhi', 'Chintadripet, Chennai',\n",
       "       'Tagore Garden, Delhi', 'Tri Nagar, Delhi',\n",
       "       'Muttada, Thiruvananthapuram', 'Munnekollal, Bangalore',\n",
       "       'TV Museum, Thiruvananthapuram', 'Shivalik, Delhi',\n",
       "       'Neb Sarai, Delhi', 'Mahalakshmi Layout, Bangalore',\n",
       "       'Mankhurd, Mumbai', 'Kamla Nagar, Delhi',\n",
       "       'Saravanampatti, Coimbatore', 'Selaiyur, Chennai',\n",
       "       'Saligramam, Chennai', 'Thirumullaivoyal, Chennai',\n",
       "       'Teynampet, Chennai', 'Kochi, Ernakulam',\n",
       "       'Vidyaranyapura, Bangalore', 'Mogappair, Chennai',\n",
       "       'Mazgaon, Mumbai', 'Shivaji Nagar, Bangalore', 'Jangpura, Delhi',\n",
       "       'Kaudiar Square, Thiruvananthapuram', 'Arumbakkam, Chennai',\n",
       "       'Cherai, Ernakulam', 'Mira-Bhayandar Road, Mumbai',\n",
       "       'Ram Nagar, Delhi', 'Parel, Mumbai', 'Thanisandra, Bangalore',\n",
       "       'Pragathi Nagar, Hyderabad', 'Karamana, Thiruvananthapuram',\n",
       "       'AECS Layout, Bangalore', 'Nizamuddin East, Delhi',\n",
       "       'Ramanathapuram, Coimbatore', 'Anna Nagar, Chennai',\n",
       "       'Shenoy Nagar, Chennai', 'Siddhapudur, Coimbatore',\n",
       "       'Keshav Puram, Delhi', 'Edakochi, Ernakulam',\n",
       "       'Nagawara, Bangalore', 'Chintal, Hyderabad',\n",
       "       'Malviya Nagar, Delhi', 'Karwan, Hyderabad',\n",
       "       'Vazhakulam, Ernakulam', 'PMG Jn, Thiruvananthapuram',\n",
       "       'Dwarka Sector 6, Delhi', 'Viveknagar, Bangalore',\n",
       "       'Balapur, Hyderabad', 'Banashankari 2nd Stage, Bangalore',\n",
       "       'Azadpur, Delhi', 'Moti Nagar, Delhi', 'Sakinaka, Mumbai',\n",
       "       'Thoppumpady, Ernakulam', 'Sanath Nagar, Hyderabad',\n",
       "       'Royapettah, Chennai', 'Koramangala 5 Block, Bangalore',\n",
       "       'Kanjurmarg, Mumbai', 'Ernakulam College, Ernakulam',\n",
       "       'Urapakkam, Chennai', 'Coimbatore Ukkadam, Coimbatore',\n",
       "       'Sreekaryam, Thiruvananthapuram', 'Ernakulam North, Ernakulam',\n",
       "       'Sultanpur, Delhi', 'Banerji Road, Ernakulam',\n",
       "       'Balkampet, Hyderabad', 'Kavundampalayam, Coimbatore',\n",
       "       'Kanchanbagh, Hyderabad', 'Patel Nagar, Delhi', 'Kilokri, Delhi',\n",
       "       'Hoodi, Bangalore', 'New Seemapuri, Delhi',\n",
       "       'Seshadripuram, Bangalore', 'Vijaynagar, Delhi',\n",
       "       'Bowenpally, Hyderabad', 'Ondipudur, Coimbatore',\n",
       "       'Triplicane, Chennai', 'Richmond Town, Bangalore',\n",
       "       'New Rajendra Nagar, Delhi', 'Jahangirpuri, Delhi',\n",
       "       'Vivek Vihar, Delhi', 'Malleshpalya, Bangalore',\n",
       "       'Pezhakkappilly, Ernakulam', 'Lingampally, Hyderabad',\n",
       "       'Jamia Nagar, Delhi', 'Begum Bazar, Hyderabad',\n",
       "       'Lower Parel, Mumbai', 'ECR Road, Chennai', 'Nangloi, Delhi',\n",
       "       'Chintalmet, Hyderabad', 'West Of Chord Road, Bangalore',\n",
       "       'SV Road, Mumbai', 'JP Nagar 5 Phase, Bangalore',\n",
       "       'Sanjay Nagar, Bangalore', 'Panampilly Nagar, Ernakulam',\n",
       "       'Dharavi, Mumbai', 'Abbigere, Bangalore',\n",
       "       'Manacaud, Thiruvananthapuram', 'Poonamalle, Chennai',\n",
       "       'Najafgarh, Delhi', 'Uttarahalli, Bangalore', 'Sembakkam, Chennai',\n",
       "       'Tarnaka, Hyderabad', 'Nandanam, Chennai', 'Saidapet, Chennai',\n",
       "       'Choolaimedu, Chennai', 'Perungalathur, Chennai',\n",
       "       'Gulabi Bagh, Delhi', 'Jasola, Delhi',\n",
       "       'JP Nagar 3 Phase, Bangalore', 'Uppilipalayam, Coimbatore',\n",
       "       'Sadashivanagar, Bangalore', 'Rohini Sector 24, Delhi',\n",
       "       'Muvattupuzha, Ernakulam', 'Khan Market, Delhi',\n",
       "       'Abids, Hyderabad', 'Geeta Colony, Delhi', 'Madandapuram, Chennai',\n",
       "       'Dwarka Sector 22, Delhi', 'Grant Road, Mumbai',\n",
       "       'Jeedimetla, Hyderabad', 'Tambaram East, Chennai',\n",
       "       'Kothaguda, Hyderabad', 'Hauz Khas, Delhi', 'Habsiguda, Hyderabad',\n",
       "       'Breach Candy, Mumbai', 'Vidyanagar, Bangalore',\n",
       "       'Begur, Bangalore', 'Dahisar, Mumbai', 'Pachalam, Ernakulam',\n",
       "       'Perumbavoor, Ernakulam', 'Avadi, Chennai',\n",
       "       'Coimbatore Central, Coimbatore', 'Lokhandwala, Mumbai',\n",
       "       'Tiruvottiyur, Chennai', 'Ullal Upanagara, Bangalore',\n",
       "       'Perurkada, Thiruvananthapuram', 'Ashok Vihar Phase 3, Delhi',\n",
       "       'Walkeshwar, Mumbai', 'Saidabad, Hyderabad',\n",
       "       'Koramangala 6 Block, Bangalore', 'New Ashok Nagar, Delhi',\n",
       "       'Peddar Road, Mumbai', 'Aya Nagar, Delhi', 'JP Nagar, Bangalore',\n",
       "       'Sasthamangalam, Thiruvananthapuram', 'Yakutpura, Hyderabad',\n",
       "       'Sampangiramnagar, Bangalore', 'Kasturi nagar, Bangalore',\n",
       "       'Pallavaram, Chennai', 'Moti Bagh, Delhi',\n",
       "       'Mukherjee Nagar, Delhi', 'Byculla, Mumbai', 'Peeragarhi, Delhi',\n",
       "       'Amberpet, Hyderabad', 'JP Nagar 6 Phase, Bangalore',\n",
       "       'Sholinganallur, Chennai', 'Langford Road, Bangalore',\n",
       "       'Cumballa Hill, Mumbai', 'Colaba, Mumbai',\n",
       "       'Qutab Institutional Area, Delhi', 'Dommasandra, Bangalore',\n",
       "       'Malabar Hill, Mumbai', 'Koramangala 8 Block, Bangalore',\n",
       "       'Rohini Sector 22, Delhi', 'Lothkunta, Hyderabad',\n",
       "       'HAL 2nd Stage, Bangalore', 'Jayanagar 7 Block, Bangalore',\n",
       "       'Vadasserikonam, Thiruvananthapuram',\n",
       "       'East Marredpally, Hyderabad', 'Kelambakkam, Chennai',\n",
       "       'Chinchpokli, Mumbai', 'Delhi Cantt, Delhi',\n",
       "       'Padmanabhanagar, Bangalore', 'Sheikh Sarai, Delhi',\n",
       "       'Washermenpet, Chennai', 'Konanakunte, Bangalore',\n",
       "       'Ashok Vihar Phase 1, Delhi', 'Thirumala, Thiruvananthapuram',\n",
       "       'Sarjapura, Bangalore', 'JP Nagar 1 Phase, Bangalore',\n",
       "       'JB Nagar, Mumbai', 'Paruthippara, Thiruvananthapuram',\n",
       "       'Vikhroli, Mumbai', 'JP Nagar 8 Phase, Bangalore',\n",
       "       'GTB Nagar, Delhi', 'Vidyanagar, Hyderabad',\n",
       "       'Masab Tank, Hyderabad', 'Hafeezpet, Hyderabad',\n",
       "       'Jeevan Park, Delhi', 'Dwarka Sector 5, Delhi',\n",
       "       'Civil Lines, Delhi', 'Anand Niketan, Delhi',\n",
       "       'Pappanaickenpalayam, Coimbatore', 'Koovappady, Ernakulam',\n",
       "       'Dwarka, Sector 5, Delhi', 'Srirampuram, Bangalore',\n",
       "       'Korattur, Chennai', 'Pappanaickenpudur, Coimbatore',\n",
       "       'Gandhi Nagar, Delhi', 'Vignan Nagar, Bangalore',\n",
       "       'Ganganagar, Bangalore', 'Elamakkara, Ernakulam',\n",
       "       'Boduppal, Hyderabad', 'Tilak Nagar, Mumbai', 'Khetwadi, Mumbai',\n",
       "       'Kengeri, Bangalore', 'Sion East, Mumbai',\n",
       "       'Rohini Sector 6, Delhi', 'Kazhakuttam, Thiruvananthapuram',\n",
       "       'Goregaon, Mumbai', 'Peroor, Thiruvananthapuram',\n",
       "       'New Thippasandra, Bangalore', 'Jalahalli, Bangalore',\n",
       "       'King Koti, Hyderabad', 'Kallambalam, Thiruvananthapuram',\n",
       "       'Dwarka Sector 13, Delhi', 'Residency Road, Bangalore',\n",
       "       'Radhakrishnan Salai, Chennai', 'Hulimavu, Bangalore',\n",
       "       'Dasarahalli, Bangalore', 'Vileparle, Mumbai', 'Delhi, Delhi',\n",
       "       'Kachiguda, Hyderabad', 'Venkitapuram, Coimbatore',\n",
       "       'Kuniamuthur, Coimbatore', 'TV Chalai, Thiruvananthapuram',\n",
       "       'Serilingampally, Hyderabad', 'RMV 2nd Stage, Bangalore',\n",
       "       'Champapet, Hyderabad', 'Surya Niketan, Delhi',\n",
       "       'Kovilpalayam, Coimbatore', 'Nampally, Hyderabad',\n",
       "       'Siddapura, Bangalore', 'Neredmet, Hyderabad',\n",
       "       'Vellakinar, Coimbatore', 'Egmore, Chennai',\n",
       "       'Katwaria Sarai, Delhi', 'Navalur, Chennai', 'Mehrauli, Delhi',\n",
       "       'HBR Layout, Bangalore', 'Subhash Nagar, Delhi',\n",
       "       'Mallepally, Hyderabad', 'Eroor South, Ernakulam',\n",
       "       'Lajpat Nagar III, Delhi', 'Kodungaiyur, Chennai',\n",
       "       'Kuppakonanpudur, Coimbatore', 'Paradise, Hyderabad',\n",
       "       'Rohini Sector 4, Delhi', 'Koramangala 4 Block, Bangalore',\n",
       "       'Dwarka Sector 3, Delhi', 'Durga Puri, Delhi',\n",
       "       'Kalamassery, Ernakulam', 'Gulmohar Park, Delhi',\n",
       "       'Adugodi, Bangalore', 'Moti Nagar, Hyderabad',\n",
       "       'Nallagandla, Hyderabad', 'Gowrivakkam, Chennai',\n",
       "       'Periyar Nagar, Chennai', 'Austin Town, Bangalore',\n",
       "       'Afzalgunj, Hyderabad', 'Cotton Hill, Thiruvananthapuram',\n",
       "       'Goldwins, Coimbatore', 'Kuravankonam, Thiruvananthapuram',\n",
       "       'Rohini Sector 3, Delhi', 'Lado Sarai, Delhi',\n",
       "       'Koramangala 2 Block, Bangalore', 'Madangir, Delhi',\n",
       "       'Marine Drive, Mumbai', 'Marine Drive, Ernakulam',\n",
       "       'Angamaly, Ernakulam', 'Neelankarai, Chennai',\n",
       "       'Churchgate, Mumbai', 'Kalapatti, Coimbatore', 'Nand Nagri, Delhi',\n",
       "       'Kandivali, Mumbai', 'Madanpura, Mumbai', 'Hegde Nagar, Bangalore',\n",
       "       'Domalguda, Hyderabad', 'Mumbai Central, Mumbai',\n",
       "       'Vasanthnagar, Bangalore', 'Kapashera, Delhi',\n",
       "       'August Kranti Marg, Delhi', 'Krishna Nagar, Hyderabad',\n",
       "       'Lal baug, Mumbai', 'Perumathura, Thiruvananthapuram',\n",
       "       'Molarband, Delhi', 'Piravom, Ernakulam', 'Neeti Bagh, Delhi',\n",
       "       'Kishanbagh, Hyderabad', 'Shantinagar, Bangalore',\n",
       "       'Poojapura, Thiruvananthapuram', 'Rathinapuri, Coimbatore',\n",
       "       'Model Town 1, Delhi', 'Koothattukulam, Ernakulam',\n",
       "       'Anand Lok, Delhi', 'Pappanaickenpalayam West, Coimbatore',\n",
       "       'Subzi Mandi, Delhi', 'Sion, Mumbai', 'Nagole, Hyderabad',\n",
       "       'TVM Pettah, Thiruvananthapuram', 'Changampuzha Nagar, Ernakulam',\n",
       "       'Puzhal, Chennai', 'Vanchiyur, Thiruvananthapuram',\n",
       "       'Sukh Vihar, Delhi', 'Kovalam, Thiruvananthapuram',\n",
       "       'Swasthya Vihar, Delhi', 'Tardeo, Mumbai', 'Vishnu Garden, Delhi',\n",
       "       'Jayanagar 1 Block, Bangalore', 'Sion Koliwada, Mumbai',\n",
       "       'Marol, Mumbai', 'Kalkere, Bangalore', 'Sindhi Colony, Hyderabad',\n",
       "       'Silampur, Delhi', 'Varthur, Bangalore', 'Model Town 2, Delhi',\n",
       "       'Surajmal Vihar, Delhi', 'Chandni Chowk, Delhi',\n",
       "       'Veerakeralam, Coimbatore', 'T Dasarahalli, Bangalore',\n",
       "       'Kaggalipura, Bangalore', 'Thonnakkal, Thiruvananthapuram',\n",
       "       'Manjapra, Ernakulam', 'Yellareddyguda, Hyderabad',\n",
       "       'Kovilambakkam, Chennai', 'Broadway, Chennai',\n",
       "       'Podanur, Coimbatore', 'Kompally, Hyderabad',\n",
       "       'Kottivakkam, Chennai', 'Mansarover Garden, Delhi',\n",
       "       'Mandapeshwar, Mumbai', 'Rohini Sector 15, Delhi',\n",
       "       'Vaduthala, Ernakulam', 'Hebbal Kempapura, Bangalore',\n",
       "       'Sithalapakkam, Chennai', 'MKB Nagar, Chennai',\n",
       "       'MG Road, Hyderabad', 'Darya Ganj, Delhi',\n",
       "       'Venjaramoodu, Thiruvananthapuram', 'Kotturpuram, Chennai',\n",
       "       'Ramapuram, Chennai', 'Karmanghat, Hyderabad',\n",
       "       'Moula Ali, Hyderabad', 'Netaji Nagar, Delhi',\n",
       "       'Chandra Layout, Bangalore', 'Akshaya nagar, Bangalore',\n",
       "       'Nirman Vihar, Delhi', 'Vasant Enclave, Delhi',\n",
       "       'St Thomas Mount, Chennai', 'Royapuram, Chennai',\n",
       "       'Abhiramapuram, Chennai', 'Inder Puri, Delhi',\n",
       "       'Edayarpalayam, Coimbatore', 'Deoli, Delhi',\n",
       "       'Mulanthuruthy, Ernakulam', 'Sukhdev Vihar, Delhi', 'e',\n",
       "       'Kothamangalam, Ernakulam', 'Harlur, Bangalore',\n",
       "       'Bolarum, Hyderabad', 'Richards Town, Bangalore', 'Narela, Delhi',\n",
       "       'Nehru Place, Delhi', 'Ramanthapur, Hyderabad',\n",
       "       'Bali Nagar, Delhi', 'Palavakkam, Chennai', 'Balanagar, Hyderabad',\n",
       "       'Hyderguda, Hyderabad', 'Cherannagar, Coimbatore',\n",
       "       'Rohini Sector 11, Delhi', 'Dwarka Sector 4, Delhi',\n",
       "       'Palluruthy, Ernakulam', 'Vizhinjam, Thiruvananthapuram',\n",
       "       'Santacruz, Mumbai', 'Ganesh Nagar, Delhi',\n",
       "       'Vengal Rao Nagar, Hyderabad', 'Deonar, Mumbai',\n",
       "       'Edapally North, Ernakulam', 'Red Hills, Hyderabad',\n",
       "       'IDA Jeedimetla, Hyderabad', 'Mettupalayam, Coimbatore',\n",
       "       'Hayathnagar, Hyderabad', 'Kakkanad West, Ernakulam',\n",
       "       'Khajaguda, Hyderabad', 'Rohini Sector 5, Delhi',\n",
       "       'Saraswati Vihar, Delhi', 'Kingsway Camp, Delhi',\n",
       "       'Ramamangalam, Ernakulam', 'Indirapuram, Delhi',\n",
       "       'Parassala, Thiruvananthapuram', 'Connaught Place, Delhi',\n",
       "       'Gottigerre, Bangalore', 'Shivrampally, Hyderabad',\n",
       "       'Vyasarpadi, Chennai', 'Kovaipudur, Coimbatore',\n",
       "       'Vallakkadavoo, Thiruvananthapuram', 'Kattupakkam, Chennai',\n",
       "       'Nellimoodu, Thiruvananthapuram', 'Pondy Bazaar, Chennai',\n",
       "       'Prashant Vihar, Delhi', 'Chullickal, Ernakulam',\n",
       "       'Murugeshpalya, Bangalore', 'Khanpur, Delhi',\n",
       "       'Madiwala, Bangalore', 'Dwarka Sector 23, Delhi',\n",
       "       'Badarpur, Delhi', 'Peyad, Thiruvananthapuram',\n",
       "       'Gandhi Nagar, Chennai', 'Uday Park, Delhi',\n",
       "       'Bandlaguda, Hyderabad', 'Karukappilli, Ernakulam',\n",
       "       'Rana Pratap Bagh, Delhi', 'Kochi M.G.Road, Ernakulam',\n",
       "       'Gopalapuram, Chennai', 'Puthenvelikkara, Ernakulam',\n",
       "       'Sowcarpet, Chennai', 'Chitlapakkam, Chennai',\n",
       "       'Malumichampatti, Coimbatore', 'Rohini Sector 8, Delhi',\n",
       "       'Rohini Sector 2, Delhi', 'Ram Nagar, Hyderabad',\n",
       "       'Dwarka Sector 10, Delhi', 'Agaram, Chennai',\n",
       "       'Poovachal, Thiruvananthapuram', 'Shanti Niketan, Delhi',\n",
       "       'Pothencode, Thiruvananthapuram', 'Dickenson Road, Bangalore',\n",
       "       'RTC X Road, Hyderabad', 'Film Nagar, Hyderabad',\n",
       "       'Lodhi Colony, Delhi', 'SG Palya (Kormangla), Bangalore',\n",
       "       'Palkulangara, Thiruvananthapuram', 'Mahalingapuram, Chennai',\n",
       "       'Matunga West, Mumbai', 'Nettoor, Ernakulam', 'Rani Khera, Delhi',\n",
       "       'Beeramguda, Hyderabad', 'Ramachandrapuram, Hyderabad',\n",
       "       'Neyyattinkara Town, Thiruvananthapuram', 'Gorai, Mumbai',\n",
       "       'Jayanagar 3 Block, Bangalore', 'Shakti Nagar, Delhi',\n",
       "       'Sangam Vihar, Delhi', 'Shakurpur, Delhi',\n",
       "       'Chaitanyapuri, Hyderabad', 'TVM Fort, Thiruvananthapuram',\n",
       "       'JP Nagar 4 Phase, Bangalore', 'Nayandahalli, Bangalore',\n",
       "       'Valiathura, Thiruvananthapuram', 'Kowdiar, Thiruvananthapuram',\n",
       "       'Cunningham Road, Bangalore', 'Hennur, Bangalore',\n",
       "       'Peenya, Bangalore', 'Pattimattam, Ernakulam', 'HAL, Bangalore'],\n",
       "      dtype=object)"
      ]
     },
     "execution_count": 282,
     "metadata": {},
     "output_type": "execute_result"
    }
   ],
   "source": [
    "data['Place'].unique()"
   ]
  },
  {
   "cell_type": "markdown",
   "metadata": {},
   "source": [
    "#### Here All the values of place are unique So I am deleting this column"
   ]
  },
  {
   "cell_type": "code",
   "execution_count": 283,
   "metadata": {},
   "outputs": [],
   "source": [
    "data.drop('Place',axis=1,inplace=True)"
   ]
  },
  {
   "cell_type": "code",
   "execution_count": 284,
   "metadata": {},
   "outputs": [
    {
     "data": {
      "text/html": [
       "<div>\n",
       "<style scoped>\n",
       "    .dataframe tbody tr th:only-of-type {\n",
       "        vertical-align: middle;\n",
       "    }\n",
       "\n",
       "    .dataframe tbody tr th {\n",
       "        vertical-align: top;\n",
       "    }\n",
       "\n",
       "    .dataframe thead th {\n",
       "        text-align: right;\n",
       "    }\n",
       "</style>\n",
       "<table border=\"1\" class=\"dataframe\">\n",
       "  <thead>\n",
       "    <tr style=\"text-align: right;\">\n",
       "      <th></th>\n",
       "      <th>Qualification</th>\n",
       "      <th>Experience</th>\n",
       "      <th>Profile</th>\n",
       "      <th>Fees</th>\n",
       "    </tr>\n",
       "  </thead>\n",
       "  <tbody>\n",
       "    <tr>\n",
       "      <td>0</td>\n",
       "      <td>BHMS, MD - Homeopathy</td>\n",
       "      <td>24 years experience</td>\n",
       "      <td>Homeopath</td>\n",
       "      <td>100</td>\n",
       "    </tr>\n",
       "    <tr>\n",
       "      <td>1</td>\n",
       "      <td>BAMS, MD - Ayurveda Medicine</td>\n",
       "      <td>12 years experience</td>\n",
       "      <td>Ayurveda</td>\n",
       "      <td>350</td>\n",
       "    </tr>\n",
       "    <tr>\n",
       "      <td>2</td>\n",
       "      <td>MBBS, MS - Otorhinolaryngology</td>\n",
       "      <td>9 years experience</td>\n",
       "      <td>ENT Specialist</td>\n",
       "      <td>300</td>\n",
       "    </tr>\n",
       "    <tr>\n",
       "      <td>3</td>\n",
       "      <td>BSc - Zoology, BAMS</td>\n",
       "      <td>12 years experience</td>\n",
       "      <td>Ayurveda</td>\n",
       "      <td>250</td>\n",
       "    </tr>\n",
       "    <tr>\n",
       "      <td>4</td>\n",
       "      <td>BAMS</td>\n",
       "      <td>20 years experience</td>\n",
       "      <td>Ayurveda</td>\n",
       "      <td>250</td>\n",
       "    </tr>\n",
       "    <tr>\n",
       "      <td>...</td>\n",
       "      <td>...</td>\n",
       "      <td>...</td>\n",
       "      <td>...</td>\n",
       "      <td>...</td>\n",
       "    </tr>\n",
       "    <tr>\n",
       "      <td>5956</td>\n",
       "      <td>MBBS, MS - ENT</td>\n",
       "      <td>19 years experience</td>\n",
       "      <td>ENT Specialist</td>\n",
       "      <td>300</td>\n",
       "    </tr>\n",
       "    <tr>\n",
       "      <td>5957</td>\n",
       "      <td>MBBS</td>\n",
       "      <td>33 years experience</td>\n",
       "      <td>General Medicine</td>\n",
       "      <td>100</td>\n",
       "    </tr>\n",
       "    <tr>\n",
       "      <td>5958</td>\n",
       "      <td>MBBS</td>\n",
       "      <td>41 years experience</td>\n",
       "      <td>General Medicine</td>\n",
       "      <td>600</td>\n",
       "    </tr>\n",
       "    <tr>\n",
       "      <td>5959</td>\n",
       "      <td>MBBS, MD - General Medicine</td>\n",
       "      <td>15 years experience</td>\n",
       "      <td>General Medicine</td>\n",
       "      <td>100</td>\n",
       "    </tr>\n",
       "    <tr>\n",
       "      <td>5960</td>\n",
       "      <td>BDS, MDS - Orthodontics</td>\n",
       "      <td>17 years experience</td>\n",
       "      <td>Dentist</td>\n",
       "      <td>200</td>\n",
       "    </tr>\n",
       "  </tbody>\n",
       "</table>\n",
       "<p>5961 rows × 4 columns</p>\n",
       "</div>"
      ],
      "text/plain": [
       "                       Qualification           Experience           Profile  \\\n",
       "0              BHMS, MD - Homeopathy  24 years experience         Homeopath   \n",
       "1       BAMS, MD - Ayurveda Medicine  12 years experience          Ayurveda   \n",
       "2     MBBS, MS - Otorhinolaryngology   9 years experience    ENT Specialist   \n",
       "3                BSc - Zoology, BAMS  12 years experience          Ayurveda   \n",
       "4                               BAMS  20 years experience          Ayurveda   \n",
       "...                              ...                  ...               ...   \n",
       "5956                  MBBS, MS - ENT  19 years experience    ENT Specialist   \n",
       "5957                            MBBS  33 years experience  General Medicine   \n",
       "5958                            MBBS  41 years experience  General Medicine   \n",
       "5959     MBBS, MD - General Medicine  15 years experience  General Medicine   \n",
       "5960         BDS, MDS - Orthodontics  17 years experience           Dentist   \n",
       "\n",
       "      Fees  \n",
       "0      100  \n",
       "1      350  \n",
       "2      300  \n",
       "3      250  \n",
       "4      250  \n",
       "...    ...  \n",
       "5956   300  \n",
       "5957   100  \n",
       "5958   600  \n",
       "5959   100  \n",
       "5960   200  \n",
       "\n",
       "[5961 rows x 4 columns]"
      ]
     },
     "execution_count": 284,
     "metadata": {},
     "output_type": "execute_result"
    }
   ],
   "source": [
    "data"
   ]
  },
  {
   "cell_type": "code",
   "execution_count": 285,
   "metadata": {},
   "outputs": [
    {
     "data": {
      "text/plain": [
       "array(['Homeopath', 'Ayurveda', 'ENT Specialist', 'Dentist',\n",
       "       'General Medicine', 'Dermatologists'], dtype=object)"
      ]
     },
     "execution_count": 285,
     "metadata": {},
     "output_type": "execute_result"
    }
   ],
   "source": [
    "data['Profile'].unique()"
   ]
  },
  {
   "cell_type": "markdown",
   "metadata": {},
   "source": [
    "#### Converting the columns into Numeric Format"
   ]
  },
  {
   "cell_type": "code",
   "execution_count": 286,
   "metadata": {},
   "outputs": [],
   "source": [
    "import sklearn\n",
    "from sklearn.preprocessing import LabelEncoder,OneHotEncoder"
   ]
  },
  {
   "cell_type": "code",
   "execution_count": 287,
   "metadata": {},
   "outputs": [],
   "source": [
    "#For all those columns who has 6 attributes\n",
    "from sklearn import preprocessing\n",
    "for cols in data.columns:\n",
    "    if(len(data[cols].value_counts()) ==6):#Unique values\n",
    "        le_anima = preprocessing.LabelEncoder()\n",
    "        data[cols] = le_anima.fit_transform(data[cols])"
   ]
  },
  {
   "cell_type": "code",
   "execution_count": 288,
   "metadata": {},
   "outputs": [
    {
     "data": {
      "text/html": [
       "<div>\n",
       "<style scoped>\n",
       "    .dataframe tbody tr th:only-of-type {\n",
       "        vertical-align: middle;\n",
       "    }\n",
       "\n",
       "    .dataframe tbody tr th {\n",
       "        vertical-align: top;\n",
       "    }\n",
       "\n",
       "    .dataframe thead th {\n",
       "        text-align: right;\n",
       "    }\n",
       "</style>\n",
       "<table border=\"1\" class=\"dataframe\">\n",
       "  <thead>\n",
       "    <tr style=\"text-align: right;\">\n",
       "      <th></th>\n",
       "      <th>Qualification</th>\n",
       "      <th>Experience</th>\n",
       "      <th>Profile</th>\n",
       "      <th>Fees</th>\n",
       "    </tr>\n",
       "  </thead>\n",
       "  <tbody>\n",
       "    <tr>\n",
       "      <td>0</td>\n",
       "      <td>BHMS, MD - Homeopathy</td>\n",
       "      <td>24 years experience</td>\n",
       "      <td>5</td>\n",
       "      <td>100</td>\n",
       "    </tr>\n",
       "    <tr>\n",
       "      <td>1</td>\n",
       "      <td>BAMS, MD - Ayurveda Medicine</td>\n",
       "      <td>12 years experience</td>\n",
       "      <td>0</td>\n",
       "      <td>350</td>\n",
       "    </tr>\n",
       "    <tr>\n",
       "      <td>2</td>\n",
       "      <td>MBBS, MS - Otorhinolaryngology</td>\n",
       "      <td>9 years experience</td>\n",
       "      <td>3</td>\n",
       "      <td>300</td>\n",
       "    </tr>\n",
       "    <tr>\n",
       "      <td>3</td>\n",
       "      <td>BSc - Zoology, BAMS</td>\n",
       "      <td>12 years experience</td>\n",
       "      <td>0</td>\n",
       "      <td>250</td>\n",
       "    </tr>\n",
       "    <tr>\n",
       "      <td>4</td>\n",
       "      <td>BAMS</td>\n",
       "      <td>20 years experience</td>\n",
       "      <td>0</td>\n",
       "      <td>250</td>\n",
       "    </tr>\n",
       "    <tr>\n",
       "      <td>...</td>\n",
       "      <td>...</td>\n",
       "      <td>...</td>\n",
       "      <td>...</td>\n",
       "      <td>...</td>\n",
       "    </tr>\n",
       "    <tr>\n",
       "      <td>5956</td>\n",
       "      <td>MBBS, MS - ENT</td>\n",
       "      <td>19 years experience</td>\n",
       "      <td>3</td>\n",
       "      <td>300</td>\n",
       "    </tr>\n",
       "    <tr>\n",
       "      <td>5957</td>\n",
       "      <td>MBBS</td>\n",
       "      <td>33 years experience</td>\n",
       "      <td>4</td>\n",
       "      <td>100</td>\n",
       "    </tr>\n",
       "    <tr>\n",
       "      <td>5958</td>\n",
       "      <td>MBBS</td>\n",
       "      <td>41 years experience</td>\n",
       "      <td>4</td>\n",
       "      <td>600</td>\n",
       "    </tr>\n",
       "    <tr>\n",
       "      <td>5959</td>\n",
       "      <td>MBBS, MD - General Medicine</td>\n",
       "      <td>15 years experience</td>\n",
       "      <td>4</td>\n",
       "      <td>100</td>\n",
       "    </tr>\n",
       "    <tr>\n",
       "      <td>5960</td>\n",
       "      <td>BDS, MDS - Orthodontics</td>\n",
       "      <td>17 years experience</td>\n",
       "      <td>1</td>\n",
       "      <td>200</td>\n",
       "    </tr>\n",
       "  </tbody>\n",
       "</table>\n",
       "<p>5961 rows × 4 columns</p>\n",
       "</div>"
      ],
      "text/plain": [
       "                       Qualification           Experience  Profile  Fees\n",
       "0              BHMS, MD - Homeopathy  24 years experience        5   100\n",
       "1       BAMS, MD - Ayurveda Medicine  12 years experience        0   350\n",
       "2     MBBS, MS - Otorhinolaryngology   9 years experience        3   300\n",
       "3                BSc - Zoology, BAMS  12 years experience        0   250\n",
       "4                               BAMS  20 years experience        0   250\n",
       "...                              ...                  ...      ...   ...\n",
       "5956                  MBBS, MS - ENT  19 years experience        3   300\n",
       "5957                            MBBS  33 years experience        4   100\n",
       "5958                            MBBS  41 years experience        4   600\n",
       "5959     MBBS, MD - General Medicine  15 years experience        4   100\n",
       "5960         BDS, MDS - Orthodontics  17 years experience        1   200\n",
       "\n",
       "[5961 rows x 4 columns]"
      ]
     },
     "execution_count": 288,
     "metadata": {},
     "output_type": "execute_result"
    }
   ],
   "source": [
    "data"
   ]
  },
  {
   "cell_type": "markdown",
   "metadata": {},
   "source": [
    "#### Lets Convert Qualification Column into Numeric "
   ]
  },
  {
   "cell_type": "code",
   "execution_count": 289,
   "metadata": {},
   "outputs": [],
   "source": [
    "import sklearn\n",
    "from sklearn.preprocessing import LabelEncoder,OneHotEncoder"
   ]
  },
  {
   "cell_type": "code",
   "execution_count": 290,
   "metadata": {},
   "outputs": [
    {
     "data": {
      "text/plain": [
       "(5961,)"
      ]
     },
     "execution_count": 290,
     "metadata": {},
     "output_type": "execute_result"
    }
   ],
   "source": [
    "array = data['Qualification']\n",
    "\n",
    "array.shapearray = data['Qualification']\n",
    "\n",
    "array.shape"
   ]
  },
  {
   "cell_type": "code",
   "execution_count": 291,
   "metadata": {},
   "outputs": [
    {
     "data": {
      "text/plain": [
       "array([ 401,   73, 1135, ...,  596,  943,  243])"
      ]
     },
     "execution_count": 291,
     "metadata": {},
     "output_type": "execute_result"
    }
   ],
   "source": [
    "le=LabelEncoder()\n",
    "data1=le.fit_transform(data['Qualification'])\n",
    "data1"
   ]
  },
  {
   "cell_type": "code",
   "execution_count": 292,
   "metadata": {},
   "outputs": [],
   "source": [
    "data['Qualification']=data1"
   ]
  },
  {
   "cell_type": "code",
   "execution_count": 293,
   "metadata": {},
   "outputs": [
    {
     "data": {
      "text/html": [
       "<div>\n",
       "<style scoped>\n",
       "    .dataframe tbody tr th:only-of-type {\n",
       "        vertical-align: middle;\n",
       "    }\n",
       "\n",
       "    .dataframe tbody tr th {\n",
       "        vertical-align: top;\n",
       "    }\n",
       "\n",
       "    .dataframe thead th {\n",
       "        text-align: right;\n",
       "    }\n",
       "</style>\n",
       "<table border=\"1\" class=\"dataframe\">\n",
       "  <thead>\n",
       "    <tr style=\"text-align: right;\">\n",
       "      <th></th>\n",
       "      <th>Qualification</th>\n",
       "      <th>Experience</th>\n",
       "      <th>Profile</th>\n",
       "      <th>Fees</th>\n",
       "    </tr>\n",
       "  </thead>\n",
       "  <tbody>\n",
       "    <tr>\n",
       "      <td>0</td>\n",
       "      <td>401</td>\n",
       "      <td>24 years experience</td>\n",
       "      <td>5</td>\n",
       "      <td>100</td>\n",
       "    </tr>\n",
       "    <tr>\n",
       "      <td>1</td>\n",
       "      <td>73</td>\n",
       "      <td>12 years experience</td>\n",
       "      <td>0</td>\n",
       "      <td>350</td>\n",
       "    </tr>\n",
       "    <tr>\n",
       "      <td>2</td>\n",
       "      <td>1135</td>\n",
       "      <td>9 years experience</td>\n",
       "      <td>3</td>\n",
       "      <td>300</td>\n",
       "    </tr>\n",
       "    <tr>\n",
       "      <td>3</td>\n",
       "      <td>464</td>\n",
       "      <td>12 years experience</td>\n",
       "      <td>0</td>\n",
       "      <td>250</td>\n",
       "    </tr>\n",
       "    <tr>\n",
       "      <td>4</td>\n",
       "      <td>10</td>\n",
       "      <td>20 years experience</td>\n",
       "      <td>0</td>\n",
       "      <td>250</td>\n",
       "    </tr>\n",
       "    <tr>\n",
       "      <td>...</td>\n",
       "      <td>...</td>\n",
       "      <td>...</td>\n",
       "      <td>...</td>\n",
       "      <td>...</td>\n",
       "    </tr>\n",
       "    <tr>\n",
       "      <td>5956</td>\n",
       "      <td>1075</td>\n",
       "      <td>19 years experience</td>\n",
       "      <td>3</td>\n",
       "      <td>300</td>\n",
       "    </tr>\n",
       "    <tr>\n",
       "      <td>5957</td>\n",
       "      <td>596</td>\n",
       "      <td>33 years experience</td>\n",
       "      <td>4</td>\n",
       "      <td>100</td>\n",
       "    </tr>\n",
       "    <tr>\n",
       "      <td>5958</td>\n",
       "      <td>596</td>\n",
       "      <td>41 years experience</td>\n",
       "      <td>4</td>\n",
       "      <td>600</td>\n",
       "    </tr>\n",
       "    <tr>\n",
       "      <td>5959</td>\n",
       "      <td>943</td>\n",
       "      <td>15 years experience</td>\n",
       "      <td>4</td>\n",
       "      <td>100</td>\n",
       "    </tr>\n",
       "    <tr>\n",
       "      <td>5960</td>\n",
       "      <td>243</td>\n",
       "      <td>17 years experience</td>\n",
       "      <td>1</td>\n",
       "      <td>200</td>\n",
       "    </tr>\n",
       "  </tbody>\n",
       "</table>\n",
       "<p>5961 rows × 4 columns</p>\n",
       "</div>"
      ],
      "text/plain": [
       "      Qualification           Experience  Profile  Fees\n",
       "0               401  24 years experience        5   100\n",
       "1                73  12 years experience        0   350\n",
       "2              1135   9 years experience        3   300\n",
       "3               464  12 years experience        0   250\n",
       "4                10  20 years experience        0   250\n",
       "...             ...                  ...      ...   ...\n",
       "5956           1075  19 years experience        3   300\n",
       "5957            596  33 years experience        4   100\n",
       "5958            596  41 years experience        4   600\n",
       "5959            943  15 years experience        4   100\n",
       "5960            243  17 years experience        1   200\n",
       "\n",
       "[5961 rows x 4 columns]"
      ]
     },
     "execution_count": 293,
     "metadata": {},
     "output_type": "execute_result"
    }
   ],
   "source": [
    "data"
   ]
  },
  {
   "cell_type": "markdown",
   "metadata": {},
   "source": [
    "#### Lets Convert Qualification Column into Experience"
   ]
  },
  {
   "cell_type": "code",
   "execution_count": 294,
   "metadata": {},
   "outputs": [],
   "source": [
    "import sklearn\n",
    "from sklearn.preprocessing import LabelEncoder,OneHotEncoder"
   ]
  },
  {
   "cell_type": "code",
   "execution_count": 295,
   "metadata": {},
   "outputs": [
    {
     "data": {
      "text/plain": [
       "(5961,)"
      ]
     },
     "execution_count": 295,
     "metadata": {},
     "output_type": "execute_result"
    }
   ],
   "source": [
    "array = data['Experience']\n",
    "\n",
    "array.shapearray = data['Experience']\n",
    "\n",
    "array.shape"
   ]
  },
  {
   "cell_type": "code",
   "execution_count": 296,
   "metadata": {},
   "outputs": [
    {
     "data": {
      "text/plain": [
       "array([16,  3, 63, ..., 35,  6,  8])"
      ]
     },
     "execution_count": 296,
     "metadata": {},
     "output_type": "execute_result"
    }
   ],
   "source": [
    "le=LabelEncoder()\n",
    "data1=le.fit_transform(data['Experience'])\n",
    "data1"
   ]
  },
  {
   "cell_type": "code",
   "execution_count": 297,
   "metadata": {},
   "outputs": [],
   "source": [
    "data['Experience']=data1"
   ]
  },
  {
   "cell_type": "code",
   "execution_count": 298,
   "metadata": {},
   "outputs": [
    {
     "data": {
      "text/html": [
       "<div>\n",
       "<style scoped>\n",
       "    .dataframe tbody tr th:only-of-type {\n",
       "        vertical-align: middle;\n",
       "    }\n",
       "\n",
       "    .dataframe tbody tr th {\n",
       "        vertical-align: top;\n",
       "    }\n",
       "\n",
       "    .dataframe thead th {\n",
       "        text-align: right;\n",
       "    }\n",
       "</style>\n",
       "<table border=\"1\" class=\"dataframe\">\n",
       "  <thead>\n",
       "    <tr style=\"text-align: right;\">\n",
       "      <th></th>\n",
       "      <th>Qualification</th>\n",
       "      <th>Experience</th>\n",
       "      <th>Profile</th>\n",
       "      <th>Fees</th>\n",
       "    </tr>\n",
       "  </thead>\n",
       "  <tbody>\n",
       "    <tr>\n",
       "      <td>0</td>\n",
       "      <td>401</td>\n",
       "      <td>16</td>\n",
       "      <td>5</td>\n",
       "      <td>100</td>\n",
       "    </tr>\n",
       "    <tr>\n",
       "      <td>1</td>\n",
       "      <td>73</td>\n",
       "      <td>3</td>\n",
       "      <td>0</td>\n",
       "      <td>350</td>\n",
       "    </tr>\n",
       "    <tr>\n",
       "      <td>2</td>\n",
       "      <td>1135</td>\n",
       "      <td>63</td>\n",
       "      <td>3</td>\n",
       "      <td>300</td>\n",
       "    </tr>\n",
       "    <tr>\n",
       "      <td>3</td>\n",
       "      <td>464</td>\n",
       "      <td>3</td>\n",
       "      <td>0</td>\n",
       "      <td>250</td>\n",
       "    </tr>\n",
       "    <tr>\n",
       "      <td>4</td>\n",
       "      <td>10</td>\n",
       "      <td>12</td>\n",
       "      <td>0</td>\n",
       "      <td>250</td>\n",
       "    </tr>\n",
       "    <tr>\n",
       "      <td>...</td>\n",
       "      <td>...</td>\n",
       "      <td>...</td>\n",
       "      <td>...</td>\n",
       "      <td>...</td>\n",
       "    </tr>\n",
       "    <tr>\n",
       "      <td>5956</td>\n",
       "      <td>1075</td>\n",
       "      <td>10</td>\n",
       "      <td>3</td>\n",
       "      <td>300</td>\n",
       "    </tr>\n",
       "    <tr>\n",
       "      <td>5957</td>\n",
       "      <td>596</td>\n",
       "      <td>26</td>\n",
       "      <td>4</td>\n",
       "      <td>100</td>\n",
       "    </tr>\n",
       "    <tr>\n",
       "      <td>5958</td>\n",
       "      <td>596</td>\n",
       "      <td>35</td>\n",
       "      <td>4</td>\n",
       "      <td>600</td>\n",
       "    </tr>\n",
       "    <tr>\n",
       "      <td>5959</td>\n",
       "      <td>943</td>\n",
       "      <td>6</td>\n",
       "      <td>4</td>\n",
       "      <td>100</td>\n",
       "    </tr>\n",
       "    <tr>\n",
       "      <td>5960</td>\n",
       "      <td>243</td>\n",
       "      <td>8</td>\n",
       "      <td>1</td>\n",
       "      <td>200</td>\n",
       "    </tr>\n",
       "  </tbody>\n",
       "</table>\n",
       "<p>5961 rows × 4 columns</p>\n",
       "</div>"
      ],
      "text/plain": [
       "      Qualification  Experience  Profile  Fees\n",
       "0               401          16        5   100\n",
       "1                73           3        0   350\n",
       "2              1135          63        3   300\n",
       "3               464           3        0   250\n",
       "4                10          12        0   250\n",
       "...             ...         ...      ...   ...\n",
       "5956           1075          10        3   300\n",
       "5957            596          26        4   100\n",
       "5958            596          35        4   600\n",
       "5959            943           6        4   100\n",
       "5960            243           8        1   200\n",
       "\n",
       "[5961 rows x 4 columns]"
      ]
     },
     "execution_count": 298,
     "metadata": {},
     "output_type": "execute_result"
    }
   ],
   "source": [
    "data"
   ]
  },
  {
   "cell_type": "code",
   "execution_count": 299,
   "metadata": {},
   "outputs": [
    {
     "data": {
      "text/plain": [
       "Qualification    int32\n",
       "Experience       int32\n",
       "Profile          int32\n",
       "Fees             int64\n",
       "dtype: object"
      ]
     },
     "execution_count": 299,
     "metadata": {},
     "output_type": "execute_result"
    }
   ],
   "source": [
    "data.dtypes"
   ]
  },
  {
   "cell_type": "code",
   "execution_count": 300,
   "metadata": {},
   "outputs": [
    {
     "data": {
      "text/html": [
       "<div>\n",
       "<style scoped>\n",
       "    .dataframe tbody tr th:only-of-type {\n",
       "        vertical-align: middle;\n",
       "    }\n",
       "\n",
       "    .dataframe tbody tr th {\n",
       "        vertical-align: top;\n",
       "    }\n",
       "\n",
       "    .dataframe thead th {\n",
       "        text-align: right;\n",
       "    }\n",
       "</style>\n",
       "<table border=\"1\" class=\"dataframe\">\n",
       "  <thead>\n",
       "    <tr style=\"text-align: right;\">\n",
       "      <th></th>\n",
       "      <th>Qualification</th>\n",
       "      <th>Experience</th>\n",
       "      <th>Profile</th>\n",
       "      <th>Fees</th>\n",
       "    </tr>\n",
       "  </thead>\n",
       "  <tbody>\n",
       "    <tr>\n",
       "      <td>0</td>\n",
       "      <td>401</td>\n",
       "      <td>16</td>\n",
       "      <td>5</td>\n",
       "      <td>100</td>\n",
       "    </tr>\n",
       "    <tr>\n",
       "      <td>1</td>\n",
       "      <td>73</td>\n",
       "      <td>3</td>\n",
       "      <td>0</td>\n",
       "      <td>350</td>\n",
       "    </tr>\n",
       "    <tr>\n",
       "      <td>2</td>\n",
       "      <td>1135</td>\n",
       "      <td>63</td>\n",
       "      <td>3</td>\n",
       "      <td>300</td>\n",
       "    </tr>\n",
       "    <tr>\n",
       "      <td>3</td>\n",
       "      <td>464</td>\n",
       "      <td>3</td>\n",
       "      <td>0</td>\n",
       "      <td>250</td>\n",
       "    </tr>\n",
       "    <tr>\n",
       "      <td>4</td>\n",
       "      <td>10</td>\n",
       "      <td>12</td>\n",
       "      <td>0</td>\n",
       "      <td>250</td>\n",
       "    </tr>\n",
       "    <tr>\n",
       "      <td>...</td>\n",
       "      <td>...</td>\n",
       "      <td>...</td>\n",
       "      <td>...</td>\n",
       "      <td>...</td>\n",
       "    </tr>\n",
       "    <tr>\n",
       "      <td>5956</td>\n",
       "      <td>1075</td>\n",
       "      <td>10</td>\n",
       "      <td>3</td>\n",
       "      <td>300</td>\n",
       "    </tr>\n",
       "    <tr>\n",
       "      <td>5957</td>\n",
       "      <td>596</td>\n",
       "      <td>26</td>\n",
       "      <td>4</td>\n",
       "      <td>100</td>\n",
       "    </tr>\n",
       "    <tr>\n",
       "      <td>5958</td>\n",
       "      <td>596</td>\n",
       "      <td>35</td>\n",
       "      <td>4</td>\n",
       "      <td>600</td>\n",
       "    </tr>\n",
       "    <tr>\n",
       "      <td>5959</td>\n",
       "      <td>943</td>\n",
       "      <td>6</td>\n",
       "      <td>4</td>\n",
       "      <td>100</td>\n",
       "    </tr>\n",
       "    <tr>\n",
       "      <td>5960</td>\n",
       "      <td>243</td>\n",
       "      <td>8</td>\n",
       "      <td>1</td>\n",
       "      <td>200</td>\n",
       "    </tr>\n",
       "  </tbody>\n",
       "</table>\n",
       "<p>5961 rows × 4 columns</p>\n",
       "</div>"
      ],
      "text/plain": [
       "      Qualification  Experience  Profile  Fees\n",
       "0               401          16        5   100\n",
       "1                73           3        0   350\n",
       "2              1135          63        3   300\n",
       "3               464           3        0   250\n",
       "4                10          12        0   250\n",
       "...             ...         ...      ...   ...\n",
       "5956           1075          10        3   300\n",
       "5957            596          26        4   100\n",
       "5958            596          35        4   600\n",
       "5959            943           6        4   100\n",
       "5960            243           8        1   200\n",
       "\n",
       "[5961 rows x 4 columns]"
      ]
     },
     "execution_count": 300,
     "metadata": {},
     "output_type": "execute_result"
    }
   ],
   "source": [
    "data = pd.DataFrame(data=data)\n",
    "data"
   ]
  },
  {
   "cell_type": "code",
   "execution_count": 301,
   "metadata": {},
   "outputs": [
    {
     "data": {
      "text/plain": [
       "(5961, 4)"
      ]
     },
     "execution_count": 301,
     "metadata": {},
     "output_type": "execute_result"
    }
   ],
   "source": [
    "data.shape"
   ]
  },
  {
   "cell_type": "code",
   "execution_count": 302,
   "metadata": {},
   "outputs": [
    {
     "data": {
      "text/html": [
       "<div>\n",
       "<style scoped>\n",
       "    .dataframe tbody tr th:only-of-type {\n",
       "        vertical-align: middle;\n",
       "    }\n",
       "\n",
       "    .dataframe tbody tr th {\n",
       "        vertical-align: top;\n",
       "    }\n",
       "\n",
       "    .dataframe thead th {\n",
       "        text-align: right;\n",
       "    }\n",
       "</style>\n",
       "<table border=\"1\" class=\"dataframe\">\n",
       "  <thead>\n",
       "    <tr style=\"text-align: right;\">\n",
       "      <th></th>\n",
       "      <th>Qualification</th>\n",
       "      <th>Experience</th>\n",
       "      <th>Profile</th>\n",
       "      <th>Fees</th>\n",
       "    </tr>\n",
       "  </thead>\n",
       "  <tbody>\n",
       "    <tr>\n",
       "      <td>count</td>\n",
       "      <td>5961.000000</td>\n",
       "      <td>5961.000000</td>\n",
       "      <td>5961.000000</td>\n",
       "      <td>5961.000000</td>\n",
       "    </tr>\n",
       "    <tr>\n",
       "      <td>mean</td>\n",
       "      <td>596.857574</td>\n",
       "      <td>23.010904</td>\n",
       "      <td>2.441872</td>\n",
       "      <td>307.944640</td>\n",
       "    </tr>\n",
       "    <tr>\n",
       "      <td>std</td>\n",
       "      <td>413.842446</td>\n",
       "      <td>20.937163</td>\n",
       "      <td>1.658014</td>\n",
       "      <td>190.920373</td>\n",
       "    </tr>\n",
       "    <tr>\n",
       "      <td>min</td>\n",
       "      <td>0.000000</td>\n",
       "      <td>0.000000</td>\n",
       "      <td>0.000000</td>\n",
       "      <td>5.000000</td>\n",
       "    </tr>\n",
       "    <tr>\n",
       "      <td>25%</td>\n",
       "      <td>219.000000</td>\n",
       "      <td>6.000000</td>\n",
       "      <td>1.000000</td>\n",
       "      <td>150.000000</td>\n",
       "    </tr>\n",
       "    <tr>\n",
       "      <td>50%</td>\n",
       "      <td>596.000000</td>\n",
       "      <td>15.000000</td>\n",
       "      <td>2.000000</td>\n",
       "      <td>300.000000</td>\n",
       "    </tr>\n",
       "    <tr>\n",
       "      <td>75%</td>\n",
       "      <td>943.000000</td>\n",
       "      <td>36.000000</td>\n",
       "      <td>4.000000</td>\n",
       "      <td>500.000000</td>\n",
       "    </tr>\n",
       "    <tr>\n",
       "      <td>max</td>\n",
       "      <td>1419.000000</td>\n",
       "      <td>63.000000</td>\n",
       "      <td>5.000000</td>\n",
       "      <td>950.000000</td>\n",
       "    </tr>\n",
       "  </tbody>\n",
       "</table>\n",
       "</div>"
      ],
      "text/plain": [
       "       Qualification   Experience      Profile         Fees\n",
       "count    5961.000000  5961.000000  5961.000000  5961.000000\n",
       "mean      596.857574    23.010904     2.441872   307.944640\n",
       "std       413.842446    20.937163     1.658014   190.920373\n",
       "min         0.000000     0.000000     0.000000     5.000000\n",
       "25%       219.000000     6.000000     1.000000   150.000000\n",
       "50%       596.000000    15.000000     2.000000   300.000000\n",
       "75%       943.000000    36.000000     4.000000   500.000000\n",
       "max      1419.000000    63.000000     5.000000   950.000000"
      ]
     },
     "execution_count": 302,
     "metadata": {},
     "output_type": "execute_result"
    }
   ],
   "source": [
    "data.describe()"
   ]
  },
  {
   "cell_type": "markdown",
   "metadata": {},
   "source": [
    "#### Find Out the Correlation"
   ]
  },
  {
   "cell_type": "code",
   "execution_count": 303,
   "metadata": {},
   "outputs": [
    {
     "data": {
      "text/html": [
       "<div>\n",
       "<style scoped>\n",
       "    .dataframe tbody tr th:only-of-type {\n",
       "        vertical-align: middle;\n",
       "    }\n",
       "\n",
       "    .dataframe tbody tr th {\n",
       "        vertical-align: top;\n",
       "    }\n",
       "\n",
       "    .dataframe thead th {\n",
       "        text-align: right;\n",
       "    }\n",
       "</style>\n",
       "<table border=\"1\" class=\"dataframe\">\n",
       "  <thead>\n",
       "    <tr style=\"text-align: right;\">\n",
       "      <th></th>\n",
       "      <th>Qualification</th>\n",
       "      <th>Experience</th>\n",
       "      <th>Profile</th>\n",
       "      <th>Fees</th>\n",
       "    </tr>\n",
       "  </thead>\n",
       "  <tbody>\n",
       "    <tr>\n",
       "      <td>Qualification</td>\n",
       "      <td>1.000000</td>\n",
       "      <td>0.003325</td>\n",
       "      <td>0.393123</td>\n",
       "      <td>0.263214</td>\n",
       "    </tr>\n",
       "    <tr>\n",
       "      <td>Experience</td>\n",
       "      <td>0.003325</td>\n",
       "      <td>1.000000</td>\n",
       "      <td>-0.032711</td>\n",
       "      <td>-0.048529</td>\n",
       "    </tr>\n",
       "    <tr>\n",
       "      <td>Profile</td>\n",
       "      <td>0.393123</td>\n",
       "      <td>-0.032711</td>\n",
       "      <td>1.000000</td>\n",
       "      <td>0.145226</td>\n",
       "    </tr>\n",
       "    <tr>\n",
       "      <td>Fees</td>\n",
       "      <td>0.263214</td>\n",
       "      <td>-0.048529</td>\n",
       "      <td>0.145226</td>\n",
       "      <td>1.000000</td>\n",
       "    </tr>\n",
       "  </tbody>\n",
       "</table>\n",
       "</div>"
      ],
      "text/plain": [
       "               Qualification  Experience   Profile      Fees\n",
       "Qualification       1.000000    0.003325  0.393123  0.263214\n",
       "Experience          0.003325    1.000000 -0.032711 -0.048529\n",
       "Profile             0.393123   -0.032711  1.000000  0.145226\n",
       "Fees                0.263214   -0.048529  0.145226  1.000000"
      ]
     },
     "execution_count": 303,
     "metadata": {},
     "output_type": "execute_result"
    }
   ],
   "source": [
    "dfcor = data.corr()\n",
    "dfcor"
   ]
  },
  {
   "cell_type": "code",
   "execution_count": 304,
   "metadata": {},
   "outputs": [
    {
     "data": {
      "text/plain": [
       "<matplotlib.axes._subplots.AxesSubplot at 0x21fe8d2f448>"
      ]
     },
     "execution_count": 304,
     "metadata": {},
     "output_type": "execute_result"
    },
    {
     "data": {
      "image/png": "[encoded data removed]",
      "text/plain": [
       "<Figure size 432x288 with 2 Axes>"
      ]
     },
     "metadata": {
      "needs_background": "light"
     },
     "output_type": "display_data"
    }
   ],
   "source": [
    "sns.heatmap(dfcor)"
   ]
  },
  {
   "cell_type": "code",
   "execution_count": 305,
   "metadata": {},
   "outputs": [
    {
     "data": {
      "text/plain": [
       "<matplotlib.axes._subplots.AxesSubplot at 0x21ff7dd98c8>"
      ]
     },
     "execution_count": 305,
     "metadata": {},
     "output_type": "execute_result"
    },
    {
     "data": {
      "image/png": "[encoded data removed]",
      "text/plain": [
       "<Figure size 1080x432 with 2 Axes>"
      ]
     },
     "metadata": {
      "needs_background": "light"
     },
     "output_type": "display_data"
    }
   ],
   "source": [
    "plt.figure(figsize=(15,6))\n",
    "sns.heatmap(dfcor,cmap='Blues',annot=False)"
   ]
  },
  {
   "cell_type": "code",
   "execution_count": 306,
   "metadata": {},
   "outputs": [
    {
     "data": {
      "text/plain": [
       "<matplotlib.axes._subplots.AxesSubplot at 0x21fe8fe2f08>"
      ]
     },
     "execution_count": 306,
     "metadata": {},
     "output_type": "execute_result"
    },
    {
     "data": {
      "image/png": "[encoded data removed]",
      "text/plain": [
       "<Figure size 1080x432 with 2 Axes>"
      ]
     },
     "metadata": {
      "needs_background": "light"
     },
     "output_type": "display_data"
    }
   ],
   "source": [
    "plt.figure(figsize=(15,6))\n",
    "sns.heatmap(dfcor,cmap='Blues',annot=True)"
   ]
  },
  {
   "cell_type": "markdown",
   "metadata": {},
   "source": [
    "#### Removing the Outliers"
   ]
  },
  {
   "cell_type": "code",
   "execution_count": 307,
   "metadata": {},
   "outputs": [
    {
     "name": "stdout",
     "output_type": "stream",
     "text": [
      "(5961, 4)\n",
      "(5941, 4)\n"
     ]
    }
   ],
   "source": [
    "#Lets check for outliers\n",
    "from scipy.stats import zscore\n",
    "z_score=abs(zscore(data))\n",
    "print(data.shape)\n",
    "data_final=data.loc[(z_score<3).all(axis=1)]\n",
    "print(data_final.shape)"
   ]
  },
  {
   "cell_type": "markdown",
   "metadata": {},
   "source": [
    "#### Checking Skewness and Removing it"
   ]
  },
  {
   "cell_type": "code",
   "execution_count": 308,
   "metadata": {},
   "outputs": [
    {
     "data": {
      "text/plain": [
       "Qualification    0.239720\n",
       "Experience       0.823531\n",
       "Profile          0.108803\n",
       "Fees             0.751870\n",
       "dtype: float64"
      ]
     },
     "execution_count": 308,
     "metadata": {},
     "output_type": "execute_result"
    }
   ],
   "source": [
    "#Check Skewness \n",
    "data.skew()\n",
    "#there is some skewness which need to be treated,by seeing we can say only +ve skewness is significant and needs to be treated\n",
    "#if value is 0.55 or more than that then there would be a skewed value"
   ]
  },
  {
   "cell_type": "code",
   "execution_count": 309,
   "metadata": {},
   "outputs": [],
   "source": [
    "#Treating the skewness using log\n",
    "import numpy as np\n",
    "for col in data.columns:\n",
    "#Here complete column name has been passed\n",
    "    if data.skew().loc[col]>0.55:\n",
    "        data[col]=np.log1p(data[col])"
   ]
  },
  {
   "cell_type": "code",
   "execution_count": 310,
   "metadata": {},
   "outputs": [
    {
     "data": {
      "text/plain": [
       "Qualification    0.239720\n",
       "Experience      -0.362028\n",
       "Profile          0.108803\n",
       "Fees            -0.298173\n",
       "dtype: float64"
      ]
     },
     "execution_count": 310,
     "metadata": {},
     "output_type": "execute_result"
    }
   ],
   "source": [
    "#Lets Again Check the Skewness\n",
    "data.skew()"
   ]
  },
  {
   "cell_type": "code",
   "execution_count": 311,
   "metadata": {},
   "outputs": [
    {
     "data": {
      "image/png": "[encoded data removed]",
      "text/plain": [
       "<Figure size 720x720 with 20 Axes>"
      ]
     },
     "metadata": {
      "needs_background": "light"
     },
     "output_type": "display_data"
    }
   ],
   "source": [
    "#Lets Check the pairplot using seaborn Library\n",
    "import seaborn as sns\n",
    "sns.pairplot(data)\n",
    "plt.show()"
   ]
  },
  {
   "cell_type": "markdown",
   "metadata": {},
   "source": [
    "### Plotting Boxplot through Iteration"
   ]
  },
  {
   "cell_type": "code",
   "execution_count": 312,
   "metadata": {},
   "outputs": [
    {
     "data": {
      "image/png": "[encoded data removed]",
      "text/plain": [
       "<Figure size 720x1080 with 1 Axes>"
      ]
     },
     "metadata": {
      "needs_background": "light"
     },
     "output_type": "display_data"
    },
    {
     "data": {
      "image/png": "[encoded data removed]",
      "text/plain": [
       "<Figure size 432x288 with 1 Axes>"
      ]
     },
     "metadata": {
      "needs_background": "light"
     },
     "output_type": "display_data"
    },
    {
     "data": {
      "image/png": "[encoded data removed]",
      "text/plain": [
       "<Figure size 432x288 with 1 Axes>"
      ]
     },
     "metadata": {
      "needs_background": "light"
     },
     "output_type": "display_data"
    },
    {
     "data": {
      "image/png": "[encoded data removed]",
      "text/plain": [
       "<Figure size 432x288 with 1 Axes>"
      ]
     },
     "metadata": {
      "needs_background": "light"
     },
     "output_type": "display_data"
    }
   ],
   "source": [
    "import matplotlib.pyplot as plt\n",
    "plt.figure(figsize=(10,15))\n",
    "for i,col in enumerate(list(data.columns.values)):\n",
    "    plt.subplot(5,5,i+1)\n",
    "    data.boxplot(col)\n",
    "    plt.grid()\n",
    "    plt.tight_layout()\n",
    "    plt.show()"
   ]
  },
  {
   "cell_type": "markdown",
   "metadata": {},
   "source": [
    "### Plotting Displot Through Iteration"
   ]
  },
  {
   "cell_type": "code",
   "execution_count": 313,
   "metadata": {},
   "outputs": [
    {
     "data": {
      "image/png": "[encoded data removed]",
      "text/plain": [
       "<Figure size 1440x1152 with 4 Axes>"
      ]
     },
     "metadata": {
      "needs_background": "light"
     },
     "output_type": "display_data"
    }
   ],
   "source": [
    "plt.figure(figsize=(20,16))\n",
    "for i,col in enumerate(list(data.columns.values)):\n",
    "    plt.subplot(5,5,i+1)\n",
    "    sns.distplot(data[col],color='r',kde=True,label='data')\n",
    "    plt.grid()\n",
    "    plt.legend(loc='upper right')\n",
    "    plt.tight_layout()"
   ]
  },
  {
   "cell_type": "code",
   "execution_count": 314,
   "metadata": {},
   "outputs": [
    {
     "data": {
      "text/plain": [
       "Index(['Qualification', 'Experience', 'Profile', 'Fees'], dtype='object')"
      ]
     },
     "execution_count": 314,
     "metadata": {},
     "output_type": "execute_result"
    }
   ],
   "source": [
    "data.columns"
   ]
  },
  {
   "cell_type": "markdown",
   "metadata": {},
   "source": [
    "### Line Plot"
   ]
  },
  {
   "cell_type": "code",
   "execution_count": 315,
   "metadata": {},
   "outputs": [
    {
     "data": {
      "text/plain": [
       "Index(['Qualification', 'Experience', 'Profile', 'Fees'], dtype='object')"
      ]
     },
     "execution_count": 315,
     "metadata": {},
     "output_type": "execute_result"
    }
   ],
   "source": [
    "data.columns"
   ]
  },
  {
   "cell_type": "code",
   "execution_count": 316,
   "metadata": {},
   "outputs": [
    {
     "data": {
      "image/png": "[encoded data removed]",
      "text/plain": [
       "<Figure size 432x288 with 1 Axes>"
      ]
     },
     "metadata": {
      "needs_background": "light"
     },
     "output_type": "display_data"
    }
   ],
   "source": [
    "#Lets check the how Qualification is changing with respect to Fees\n",
    "sns.lineplot(data[\"Qualification\"],data[\"Fees\"])\n",
    "plt.show()"
   ]
  },
  {
   "cell_type": "code",
   "execution_count": 317,
   "metadata": {},
   "outputs": [
    {
     "data": {
      "image/png": "[encoded data removed]",
      "text/plain": [
       "<Figure size 432x288 with 1 Axes>"
      ]
     },
     "metadata": {
      "needs_background": "light"
     },
     "output_type": "display_data"
    }
   ],
   "source": [
    "#Lets check the how Experience is changing with respect to Fees\n",
    "sns.lineplot(data[\"Experience\"],data[\"Fees\"])\n",
    "plt.show()"
   ]
  },
  {
   "cell_type": "code",
   "execution_count": 318,
   "metadata": {},
   "outputs": [
    {
     "data": {
      "image/png": "[encoded data removed]",
      "text/plain": [
       "<Figure size 432x288 with 1 Axes>"
      ]
     },
     "metadata": {
      "needs_background": "light"
     },
     "output_type": "display_data"
    }
   ],
   "source": [
    "#Lets check the how Profile is changing with respect to Fees\n",
    "sns.lineplot(data[\"Profile\"],data[\"Fees\"])\n",
    "plt.show()"
   ]
  },
  {
   "cell_type": "markdown",
   "metadata": {},
   "source": [
    "### Plotting Data using Scatter Plot"
   ]
  },
  {
   "cell_type": "code",
   "execution_count": 319,
   "metadata": {},
   "outputs": [
    {
     "data": {
      "text/plain": [
       "Index(['Qualification', 'Experience', 'Profile', 'Fees'], dtype='object')"
      ]
     },
     "execution_count": 319,
     "metadata": {},
     "output_type": "execute_result"
    }
   ],
   "source": [
    "data.columns"
   ]
  },
  {
   "cell_type": "code",
   "execution_count": 320,
   "metadata": {},
   "outputs": [
    {
     "data": {
      "text/plain": [
       "<matplotlib.collections.PathCollection at 0x21ff796b588>"
      ]
     },
     "execution_count": 320,
     "metadata": {},
     "output_type": "execute_result"
    },
    {
     "data": {
      "image/png": "[encoded data removed]",
      "text/plain": [
       "<Figure size 432x288 with 1 Axes>"
      ]
     },
     "metadata": {
      "needs_background": "light"
     },
     "output_type": "display_data"
    }
   ],
   "source": [
    "plt.scatter(data['Qualification'],data['Fees'])"
   ]
  },
  {
   "cell_type": "code",
   "execution_count": 321,
   "metadata": {},
   "outputs": [
    {
     "data": {
      "text/plain": [
       "<matplotlib.collections.PathCollection at 0x21fe900d6c8>"
      ]
     },
     "execution_count": 321,
     "metadata": {},
     "output_type": "execute_result"
    },
    {
     "data": {
      "image/png": "[encoded data removed]",
      "text/plain": [
       "<Figure size 432x288 with 1 Axes>"
      ]
     },
     "metadata": {
      "needs_background": "light"
     },
     "output_type": "display_data"
    }
   ],
   "source": [
    "plt.scatter(data['Experience'],data['Fees'])"
   ]
  },
  {
   "cell_type": "code",
   "execution_count": 322,
   "metadata": {},
   "outputs": [
    {
     "data": {
      "text/plain": [
       "<matplotlib.collections.PathCollection at 0x21fe8401948>"
      ]
     },
     "execution_count": 322,
     "metadata": {},
     "output_type": "execute_result"
    },
    {
     "data": {
      "image/png": "[encoded data removed]",
      "text/plain": [
       "<Figure size 432x288 with 1 Axes>"
      ]
     },
     "metadata": {
      "needs_background": "light"
     },
     "output_type": "display_data"
    }
   ],
   "source": [
    "plt.scatter(data['Profile'],data['Fees'])"
   ]
  },
  {
   "cell_type": "markdown",
   "metadata": {},
   "source": [
    "### Column Plot"
   ]
  },
  {
   "cell_type": "code",
   "execution_count": 323,
   "metadata": {},
   "outputs": [],
   "source": [
    "collist = data.columns.values\n",
    "ncols=12\n",
    "nrows=10"
   ]
  },
  {
   "cell_type": "code",
   "execution_count": 324,
   "metadata": {},
   "outputs": [
    {
     "data": {
      "image/png": "[encoded data removed]",
      "text/plain": [
       "<Figure size 864x4320 with 3 Axes>"
      ]
     },
     "metadata": {
      "needs_background": "light"
     },
     "output_type": "display_data"
    }
   ],
   "source": [
    "plt.figure(figsize=(ncols,5*ncols))\n",
    "for i in range(1,len(collist)):\n",
    "    plt.subplot(nrows,ncols,i+1)\n",
    "    sns.boxplot(data[collist[i]],color='green',orient='v')\n",
    "    plt.tight_layout()"
   ]
  },
  {
   "cell_type": "markdown",
   "metadata": {},
   "source": [
    "#### Separating X and Y Variable"
   ]
  },
  {
   "cell_type": "code",
   "execution_count": 325,
   "metadata": {},
   "outputs": [
    {
     "data": {
      "text/html": [
       "<div>\n",
       "<style scoped>\n",
       "    .dataframe tbody tr th:only-of-type {\n",
       "        vertical-align: middle;\n",
       "    }\n",
       "\n",
       "    .dataframe tbody tr th {\n",
       "        vertical-align: top;\n",
       "    }\n",
       "\n",
       "    .dataframe thead th {\n",
       "        text-align: right;\n",
       "    }\n",
       "</style>\n",
       "<table border=\"1\" class=\"dataframe\">\n",
       "  <thead>\n",
       "    <tr style=\"text-align: right;\">\n",
       "      <th></th>\n",
       "      <th>Qualification</th>\n",
       "      <th>Experience</th>\n",
       "      <th>Profile</th>\n",
       "      <th>Fees</th>\n",
       "    </tr>\n",
       "  </thead>\n",
       "  <tbody>\n",
       "    <tr>\n",
       "      <td>0</td>\n",
       "      <td>401</td>\n",
       "      <td>2.833213</td>\n",
       "      <td>5</td>\n",
       "      <td>4.615121</td>\n",
       "    </tr>\n",
       "    <tr>\n",
       "      <td>1</td>\n",
       "      <td>73</td>\n",
       "      <td>1.386294</td>\n",
       "      <td>0</td>\n",
       "      <td>5.860786</td>\n",
       "    </tr>\n",
       "    <tr>\n",
       "      <td>2</td>\n",
       "      <td>1135</td>\n",
       "      <td>4.158883</td>\n",
       "      <td>3</td>\n",
       "      <td>5.707110</td>\n",
       "    </tr>\n",
       "    <tr>\n",
       "      <td>3</td>\n",
       "      <td>464</td>\n",
       "      <td>1.386294</td>\n",
       "      <td>0</td>\n",
       "      <td>5.525453</td>\n",
       "    </tr>\n",
       "    <tr>\n",
       "      <td>4</td>\n",
       "      <td>10</td>\n",
       "      <td>2.564949</td>\n",
       "      <td>0</td>\n",
       "      <td>5.525453</td>\n",
       "    </tr>\n",
       "    <tr>\n",
       "      <td>...</td>\n",
       "      <td>...</td>\n",
       "      <td>...</td>\n",
       "      <td>...</td>\n",
       "      <td>...</td>\n",
       "    </tr>\n",
       "    <tr>\n",
       "      <td>5956</td>\n",
       "      <td>1075</td>\n",
       "      <td>2.397895</td>\n",
       "      <td>3</td>\n",
       "      <td>5.707110</td>\n",
       "    </tr>\n",
       "    <tr>\n",
       "      <td>5957</td>\n",
       "      <td>596</td>\n",
       "      <td>3.295837</td>\n",
       "      <td>4</td>\n",
       "      <td>4.615121</td>\n",
       "    </tr>\n",
       "    <tr>\n",
       "      <td>5958</td>\n",
       "      <td>596</td>\n",
       "      <td>3.583519</td>\n",
       "      <td>4</td>\n",
       "      <td>6.398595</td>\n",
       "    </tr>\n",
       "    <tr>\n",
       "      <td>5959</td>\n",
       "      <td>943</td>\n",
       "      <td>1.945910</td>\n",
       "      <td>4</td>\n",
       "      <td>4.615121</td>\n",
       "    </tr>\n",
       "    <tr>\n",
       "      <td>5960</td>\n",
       "      <td>243</td>\n",
       "      <td>2.197225</td>\n",
       "      <td>1</td>\n",
       "      <td>5.303305</td>\n",
       "    </tr>\n",
       "  </tbody>\n",
       "</table>\n",
       "<p>5961 rows × 4 columns</p>\n",
       "</div>"
      ],
      "text/plain": [
       "      Qualification  Experience  Profile      Fees\n",
       "0               401    2.833213        5  4.615121\n",
       "1                73    1.386294        0  5.860786\n",
       "2              1135    4.158883        3  5.707110\n",
       "3               464    1.386294        0  5.525453\n",
       "4                10    2.564949        0  5.525453\n",
       "...             ...         ...      ...       ...\n",
       "5956           1075    2.397895        3  5.707110\n",
       "5957            596    3.295837        4  4.615121\n",
       "5958            596    3.583519        4  6.398595\n",
       "5959            943    1.945910        4  4.615121\n",
       "5960            243    2.197225        1  5.303305\n",
       "\n",
       "[5961 rows x 4 columns]"
      ]
     },
     "execution_count": 325,
     "metadata": {},
     "output_type": "execute_result"
    }
   ],
   "source": [
    "data"
   ]
  },
  {
   "cell_type": "code",
   "execution_count": 326,
   "metadata": {},
   "outputs": [],
   "source": [
    "X = data.drop(\"Fees\", axis=1)"
   ]
  },
  {
   "cell_type": "code",
   "execution_count": 327,
   "metadata": {},
   "outputs": [
    {
     "data": {
      "text/html": [
       "<div>\n",
       "<style scoped>\n",
       "    .dataframe tbody tr th:only-of-type {\n",
       "        vertical-align: middle;\n",
       "    }\n",
       "\n",
       "    .dataframe tbody tr th {\n",
       "        vertical-align: top;\n",
       "    }\n",
       "\n",
       "    .dataframe thead th {\n",
       "        text-align: right;\n",
       "    }\n",
       "</style>\n",
       "<table border=\"1\" class=\"dataframe\">\n",
       "  <thead>\n",
       "    <tr style=\"text-align: right;\">\n",
       "      <th></th>\n",
       "      <th>Qualification</th>\n",
       "      <th>Experience</th>\n",
       "      <th>Profile</th>\n",
       "    </tr>\n",
       "  </thead>\n",
       "  <tbody>\n",
       "    <tr>\n",
       "      <td>0</td>\n",
       "      <td>401</td>\n",
       "      <td>2.833213</td>\n",
       "      <td>5</td>\n",
       "    </tr>\n",
       "    <tr>\n",
       "      <td>1</td>\n",
       "      <td>73</td>\n",
       "      <td>1.386294</td>\n",
       "      <td>0</td>\n",
       "    </tr>\n",
       "    <tr>\n",
       "      <td>2</td>\n",
       "      <td>1135</td>\n",
       "      <td>4.158883</td>\n",
       "      <td>3</td>\n",
       "    </tr>\n",
       "    <tr>\n",
       "      <td>3</td>\n",
       "      <td>464</td>\n",
       "      <td>1.386294</td>\n",
       "      <td>0</td>\n",
       "    </tr>\n",
       "    <tr>\n",
       "      <td>4</td>\n",
       "      <td>10</td>\n",
       "      <td>2.564949</td>\n",
       "      <td>0</td>\n",
       "    </tr>\n",
       "    <tr>\n",
       "      <td>...</td>\n",
       "      <td>...</td>\n",
       "      <td>...</td>\n",
       "      <td>...</td>\n",
       "    </tr>\n",
       "    <tr>\n",
       "      <td>5956</td>\n",
       "      <td>1075</td>\n",
       "      <td>2.397895</td>\n",
       "      <td>3</td>\n",
       "    </tr>\n",
       "    <tr>\n",
       "      <td>5957</td>\n",
       "      <td>596</td>\n",
       "      <td>3.295837</td>\n",
       "      <td>4</td>\n",
       "    </tr>\n",
       "    <tr>\n",
       "      <td>5958</td>\n",
       "      <td>596</td>\n",
       "      <td>3.583519</td>\n",
       "      <td>4</td>\n",
       "    </tr>\n",
       "    <tr>\n",
       "      <td>5959</td>\n",
       "      <td>943</td>\n",
       "      <td>1.945910</td>\n",
       "      <td>4</td>\n",
       "    </tr>\n",
       "    <tr>\n",
       "      <td>5960</td>\n",
       "      <td>243</td>\n",
       "      <td>2.197225</td>\n",
       "      <td>1</td>\n",
       "    </tr>\n",
       "  </tbody>\n",
       "</table>\n",
       "<p>5961 rows × 3 columns</p>\n",
       "</div>"
      ],
      "text/plain": [
       "      Qualification  Experience  Profile\n",
       "0               401    2.833213        5\n",
       "1                73    1.386294        0\n",
       "2              1135    4.158883        3\n",
       "3               464    1.386294        0\n",
       "4                10    2.564949        0\n",
       "...             ...         ...      ...\n",
       "5956           1075    2.397895        3\n",
       "5957            596    3.295837        4\n",
       "5958            596    3.583519        4\n",
       "5959            943    1.945910        4\n",
       "5960            243    2.197225        1\n",
       "\n",
       "[5961 rows x 3 columns]"
      ]
     },
     "execution_count": 327,
     "metadata": {},
     "output_type": "execute_result"
    }
   ],
   "source": [
    "X"
   ]
  },
  {
   "cell_type": "code",
   "execution_count": 328,
   "metadata": {},
   "outputs": [
    {
     "data": {
      "text/plain": [
       "0       4.615121\n",
       "1       5.860786\n",
       "2       5.707110\n",
       "3       5.525453\n",
       "4       5.525453\n",
       "          ...   \n",
       "5956    5.707110\n",
       "5957    4.615121\n",
       "5958    6.398595\n",
       "5959    4.615121\n",
       "5960    5.303305\n",
       "Name: Fees, Length: 5961, dtype: float64"
      ]
     },
     "execution_count": 328,
     "metadata": {},
     "output_type": "execute_result"
    }
   ],
   "source": [
    "Y = data[\"Fees\"]\n",
    "Y"
   ]
  },
  {
   "cell_type": "code",
   "execution_count": 329,
   "metadata": {},
   "outputs": [
    {
     "data": {
      "text/plain": [
       "(5961, 3)"
      ]
     },
     "execution_count": 329,
     "metadata": {},
     "output_type": "execute_result"
    }
   ],
   "source": [
    "X.shape"
   ]
  },
  {
   "cell_type": "code",
   "execution_count": 330,
   "metadata": {},
   "outputs": [
    {
     "data": {
      "text/plain": [
       "(5961,)"
      ]
     },
     "execution_count": 330,
     "metadata": {},
     "output_type": "execute_result"
    }
   ],
   "source": [
    "Y.shape"
   ]
  },
  {
   "cell_type": "code",
   "execution_count": 331,
   "metadata": {},
   "outputs": [],
   "source": [
    "Y = Y.values.reshape(-1,1)"
   ]
  },
  {
   "cell_type": "code",
   "execution_count": 332,
   "metadata": {},
   "outputs": [
    {
     "data": {
      "text/plain": [
       "array([[4.61512052],\n",
       "       [5.86078622],\n",
       "       [5.70711026],\n",
       "       ...,\n",
       "       [6.39859493],\n",
       "       [4.61512052],\n",
       "       [5.30330491]])"
      ]
     },
     "execution_count": 332,
     "metadata": {},
     "output_type": "execute_result"
    }
   ],
   "source": [
    "Y"
   ]
  },
  {
   "cell_type": "code",
   "execution_count": 333,
   "metadata": {},
   "outputs": [
    {
     "data": {
      "text/plain": [
       "(5961, 1)"
      ]
     },
     "execution_count": 333,
     "metadata": {},
     "output_type": "execute_result"
    }
   ],
   "source": [
    "Y.shape"
   ]
  },
  {
   "cell_type": "markdown",
   "metadata": {},
   "source": [
    "#### Applying Linear Regression"
   ]
  },
  {
   "cell_type": "code",
   "execution_count": 334,
   "metadata": {},
   "outputs": [],
   "source": [
    "from sklearn.model_selection import train_test_split\n",
    "train_X,test_X,train_Y,test_Y=train_test_split(X,Y,test_size=.33,random_state=39)"
   ]
  },
  {
   "cell_type": "code",
   "execution_count": 335,
   "metadata": {},
   "outputs": [
    {
     "data": {
      "text/plain": [
       "(3993, 3)"
      ]
     },
     "execution_count": 335,
     "metadata": {},
     "output_type": "execute_result"
    }
   ],
   "source": [
    "train_X.shape"
   ]
  },
  {
   "cell_type": "code",
   "execution_count": 336,
   "metadata": {},
   "outputs": [
    {
     "data": {
      "text/plain": [
       "(3993, 1)"
      ]
     },
     "execution_count": 336,
     "metadata": {},
     "output_type": "execute_result"
    }
   ],
   "source": [
    "train_Y.shape"
   ]
  },
  {
   "cell_type": "code",
   "execution_count": 337,
   "metadata": {},
   "outputs": [
    {
     "data": {
      "text/plain": [
       "(1968, 3)"
      ]
     },
     "execution_count": 337,
     "metadata": {},
     "output_type": "execute_result"
    }
   ],
   "source": [
    "test_X.shape"
   ]
  },
  {
   "cell_type": "code",
   "execution_count": 338,
   "metadata": {},
   "outputs": [
    {
     "data": {
      "text/plain": [
       "(1968, 1)"
      ]
     },
     "execution_count": 338,
     "metadata": {},
     "output_type": "execute_result"
    }
   ],
   "source": [
    "test_Y.shape"
   ]
  },
  {
   "cell_type": "code",
   "execution_count": 339,
   "metadata": {},
   "outputs": [],
   "source": [
    "lg = LinearRegression()"
   ]
  },
  {
   "cell_type": "code",
   "execution_count": 340,
   "metadata": {},
   "outputs": [
    {
     "data": {
      "text/plain": [
       "LinearRegression(copy_X=True, fit_intercept=True, n_jobs=None, normalize=False)"
      ]
     },
     "execution_count": 340,
     "metadata": {},
     "output_type": "execute_result"
    }
   ],
   "source": [
    "lg.fit(train_X,train_Y)"
   ]
  },
  {
   "cell_type": "code",
   "execution_count": 341,
   "metadata": {},
   "outputs": [
    {
     "data": {
      "text/plain": [
       "array([[ 0.00033275, -0.01870054,  0.01845487]])"
      ]
     },
     "execution_count": 341,
     "metadata": {},
     "output_type": "execute_result"
    }
   ],
   "source": [
    "lg.coef_"
   ]
  },
  {
   "cell_type": "code",
   "execution_count": 342,
   "metadata": {},
   "outputs": [
    {
     "data": {
      "text/plain": [
       "array([5.33049778])"
      ]
     },
     "execution_count": 342,
     "metadata": {},
     "output_type": "execute_result"
    }
   ],
   "source": [
    "lg.intercept_"
   ]
  },
  {
   "cell_type": "code",
   "execution_count": 343,
   "metadata": {},
   "outputs": [
    {
     "data": {
      "text/plain": [
       "0.051690980202584225"
      ]
     },
     "execution_count": 343,
     "metadata": {},
     "output_type": "execute_result"
    }
   ],
   "source": [
    "lg.score(train_X,train_Y)"
   ]
  },
  {
   "cell_type": "code",
   "execution_count": 344,
   "metadata": {},
   "outputs": [
    {
     "name": "stdout",
     "output_type": "stream",
     "text": [
      "Predicted result price: [[5.77222891]\n",
      " [5.63264148]\n",
      " [5.48551674]\n",
      " ...\n",
      " [5.26733836]\n",
      " [5.47362341]\n",
      " [5.64210077]]\n",
      "actual price [[5.30330491]\n",
      " [4.61512052]\n",
      " [6.11146734]\n",
      " ...\n",
      " [4.61512052]\n",
      " [5.86078622]\n",
      " [6.39859493]]\n"
     ]
    }
   ],
   "source": [
    "#predict the value\n",
    "pred=lg.predict(test_X)\n",
    "print(\"Predicted result price:\",pred)\n",
    "print(\"actual price\",test_Y)"
   ]
  },
  {
   "cell_type": "code",
   "execution_count": 345,
   "metadata": {},
   "outputs": [
    {
     "name": "stdout",
     "output_type": "stream",
     "text": [
      "error:\n",
      "Mean absolute error: 0.5477327065084302\n",
      "Mean sqaured error: 0.4354966262036013\n",
      "Root mean squared error: 0.6599216818711151\n"
     ]
    }
   ],
   "source": [
    "print('error:')\n",
    "\n",
    "print('Mean absolute error:',mean_absolute_error(test_Y,pred))\n",
    "print('Mean sqaured error:',mean_squared_error(test_Y,pred))\n",
    "\n",
    "print('Root mean squared error:',np.sqrt(mean_squared_error(test_Y,pred)))"
   ]
  },
  {
   "cell_type": "markdown",
   "metadata": {},
   "source": [
    "#### Boost through GradientBoostRegressor By using Parameters"
   ]
  },
  {
   "cell_type": "code",
   "execution_count": 346,
   "metadata": {},
   "outputs": [
    {
     "data": {
      "text/plain": [
       "GradientBoostingRegressor(alpha=0.9, criterion='friedman_mse', init=None,\n",
       "                          learning_rate=0.01, loss='ls', max_depth=4,\n",
       "                          max_features=None, max_leaf_nodes=None,\n",
       "                          min_impurity_decrease=0.0, min_impurity_split=None,\n",
       "                          min_samples_leaf=1, min_samples_split=2,\n",
       "                          min_weight_fraction_leaf=0.0, n_estimators=500,\n",
       "                          n_iter_no_change=None, presort='auto',\n",
       "                          random_state=None, subsample=1.0, tol=0.0001,\n",
       "                          validation_fraction=0.1, verbose=0, warm_start=False)"
      ]
     },
     "execution_count": 346,
     "metadata": {},
     "output_type": "execute_result"
    }
   ],
   "source": [
    "from sklearn import ensemble\n",
    "# Fit regression model\n",
    "params = {'n_estimators': 500, 'max_depth': 4, 'min_samples_split': 2,\n",
    "          'learning_rate': 0.01, 'loss': 'ls'}\n",
    "modelgbr = ensemble.GradientBoostingRegressor(**params)\n",
    "\n",
    "modelgbr.fit(train_X, train_Y)"
   ]
  },
  {
   "cell_type": "code",
   "execution_count": 347,
   "metadata": {},
   "outputs": [
    {
     "name": "stdout",
     "output_type": "stream",
     "text": [
      "model_Score: 0.19690572961137046\n",
      "Mean squared error: 0.40\n",
      "R2 Score: 0.15\n"
     ]
    }
   ],
   "source": [
    "from sklearn.metrics import mean_squared_error, r2_score\n",
    "model_score = modelgbr.score(train_X,train_Y)\n",
    "print(\"model_Score:\",model_score)\n",
    "\n",
    "\n",
    "y_predictedgbr = modelgbr.predict(test_X)\n",
    "\n",
    "# The mean squared error\n",
    "print(\"Mean squared error: %.2f\"% mean_squared_error(test_Y, y_predictedgbr))\n",
    "# Explained variance score: 1 is perfect prediction\n",
    "print('R2 Score: %.2f' % r2_score(test_Y, y_predictedgbr))"
   ]
  },
  {
   "cell_type": "markdown",
   "metadata": {},
   "source": [
    "#### Lets Visualize the Goodness of the Prediction"
   ]
  },
  {
   "cell_type": "code",
   "execution_count": 348,
   "metadata": {},
   "outputs": [
    {
     "data": {
      "image/png": "[encoded data removed]",
      "text/plain": [
       "<Figure size 432x288 with 1 Axes>"
      ]
     },
     "metadata": {
      "needs_background": "light"
     },
     "output_type": "display_data"
    }
   ],
   "source": [
    "from sklearn.model_selection import cross_val_predict\n",
    "\n",
    "fig, ax = plt.subplots()\n",
    "ax.scatter(test_Y, y_predictedgbr, edgecolors=(0, 0, 0))\n",
    "ax.plot([test_Y.min(), test_Y.max()], [test_Y.min(), test_Y.max()], 'k--', lw=4)\n",
    "ax.set_xlabel('Actual')\n",
    "ax.set_ylabel('Predicted')\n",
    "ax.set_title(\"Ground Truth vs Predicted\")\n",
    "plt.show()"
   ]
  },
  {
   "cell_type": "markdown",
   "metadata": {},
   "source": [
    "#### Boosting through AdaBoostRegressor"
   ]
  },
  {
   "cell_type": "code",
   "execution_count": 349,
   "metadata": {},
   "outputs": [
    {
     "data": {
      "text/plain": [
       "{'base_estimator': LinearRegression(copy_X=True, fit_intercept=True, n_jobs=None, normalize=False),\n",
       " 'learning_rate': 0.1,\n",
       " 'n_estimators': 10}"
      ]
     },
     "execution_count": 349,
     "metadata": {},
     "output_type": "execute_result"
    }
   ],
   "source": [
    "#Now Lets use ada boost regression algorithm\n",
    "from sklearn.model_selection import GridSearchCV\n",
    "from sklearn.ensemble import AdaBoostRegressor\n",
    "from sklearn.tree import DecisionTreeRegressor\n",
    "ada_reg=AdaBoostRegressor()\n",
    "parameters={\"learning_rate\":[0.001,0.01,0.1,1],\"n_estimators\":[10,100,500,1000],\"base_estimator\":[lreg,lsreg,DecisionTreeRegressor()]}\n",
    "clf2 = GridSearchCV(ada_reg,parameters,cv=5)\n",
    "clf2.fit(X,Y)\n",
    "clf2.best_params_"
   ]
  },
  {
   "cell_type": "code",
   "execution_count": 350,
   "metadata": {},
   "outputs": [
    {
     "name": "stdout",
     "output_type": "stream",
     "text": [
      "Mean r2 score for ada boosting Regression:  0.05875360733170667\n",
      "Standard deviation in r2 score for ada boosting Regression:  0.017143771221125995\n"
     ]
    }
   ],
   "source": [
    "add_reg=AdaBoostRegressor(base_estimator=lsreg,learning_rate=0.1,n_estimators=10)\n",
    "print(\"Mean r2 score for ada boosting Regression: \",cross_val_score(ada_reg,X,Y,cv=5,scoring=\"r2\").mean())\n",
    "print(\"Standard deviation in r2 score for ada boosting Regression: \",cross_val_score(ada_reg,X,Y,cv=5,scoring=\"r2\").std())"
   ]
  },
  {
   "cell_type": "code",
   "execution_count": 351,
   "metadata": {},
   "outputs": [
    {
     "name": "stdout",
     "output_type": "stream",
     "text": [
      "r2 score corresponding to  42 is 0.020792532624962945\n",
      "r2 score corresponding to  43 is 0.06045725689207415\n",
      "r2 score corresponding to  44 is 0.05370416216763929\n",
      "r2 score corresponding to  45 is 0.09689043181989576\n",
      "r2 score corresponding to  46 is 0.061279137160122565\n",
      "r2 score corresponding to  47 is 0.054372436732553986\n",
      "r2 score corresponding to  48 is 0.06238353962962562\n",
      "r2 score corresponding to  49 is 0.08410714415519993\n",
      "r2 score corresponding to  50 is 0.06301450810659792\n",
      "r2 score corresponding to  51 is 0.051721941097748525\n",
      "r2 score corresponding to  52 is 0.03995599548719109\n",
      "r2 score corresponding to  53 is 0.10253878636860081\n",
      "r2 score corresponding to  54 is 0.04618289966724398\n",
      "r2 score corresponding to  55 is 0.05372059616666869\n",
      "r2 score corresponding to  56 is 0.06623624148685248\n",
      "r2 score corresponding to  57 is 0.05627236397640767\n",
      "r2 score corresponding to  58 is 0.03531284942037172\n",
      "r2 score corresponding to  59 is 0.08344995362075314\n",
      "r2 score corresponding to  60 is 0.09716616376155218\n",
      "r2 score corresponding to  61 is 0.04481184086633161\n",
      "r2 score corresponding to  62 is 0.07457843720704838\n",
      "r2 score corresponding to  63 is 0.07023505101088967\n",
      "r2 score corresponding to  64 is 0.055209118232609544\n",
      "r2 score corresponding to  65 is 0.05762765865807484\n",
      "r2 score corresponding to  66 is 0.053122158611100034\n",
      "r2 score corresponding to  67 is 0.07465823309217978\n",
      "r2 score corresponding to  68 is 0.07157862585887742\n",
      "r2 score corresponding to  69 is 0.083966667789111\n",
      "r2 score corresponding to  70 is 0.0499672591831849\n",
      "r2 score corresponding to  71 is 0.04073341929594321\n",
      "r2 score corresponding to  72 is 0.05057609881624081\n",
      "r2 score corresponding to  73 is 0.019315229767985054\n",
      "r2 score corresponding to  74 is 0.0793854061283471\n",
      "r2 score corresponding to  75 is 0.10353098914029657\n",
      "r2 score corresponding to  76 is 0.09365398687465243\n",
      "r2 score corresponding to  77 is 0.07932008607275176\n",
      "r2 score corresponding to  78 is 0.07372447012390848\n",
      "r2 score corresponding to  79 is 0.09187821655275619\n",
      "r2 score corresponding to  80 is 0.060077023866861534\n",
      "r2 score corresponding to  81 is 0.06597786007276252\n",
      "r2 score corresponding to  82 is 0.08736618571112786\n",
      "r2 score corresponding to  83 is 0.046497381979528574\n",
      "r2 score corresponding to  84 is 0.057214654138387444\n",
      "r2 score corresponding to  85 is 0.058414650375403054\n",
      "r2 score corresponding to  86 is 0.0693073448467908\n",
      "r2 score corresponding to  87 is 0.08372140437319275\n",
      "r2 score corresponding to  88 is 0.04106409187003146\n",
      "r2 score corresponding to  89 is 0.0371009146470761\n",
      "r2 score corresponding to  90 is 0.05752454012845587\n",
      "r2 score corresponding to  91 is 0.028464495636359555\n",
      "r2 score corresponding to  92 is 0.06742907958689803\n",
      "r2 score corresponding to  93 is 0.07207027039782254\n",
      "r2 score corresponding to  94 is 0.060397590719266425\n",
      "r2 score corresponding to  95 is 0.04716157454141756\n",
      "r2 score corresponding to  96 is 0.05568508906845926\n",
      "r2 score corresponding to  97 is 0.028785579078080215\n",
      "r2 score corresponding to  98 is 0.04259818674547644\n",
      "r2 score corresponding to  99 is 0.06346417627463419\n",
      "max r2 score corresponding to  75 is 0.10353098914029657\n"
     ]
    }
   ],
   "source": [
    "#Lets check maximum r2_score corresponding to this\n",
    "r_state=maxr2_score(ada_reg,X,Y)"
   ]
  },
  {
   "cell_type": "code",
   "execution_count": 352,
   "metadata": {},
   "outputs": [],
   "source": [
    "train_X,test_X,train_Y,test_Y = train_test_split(X,Y,random_state=86,test_size=0.20)\n",
    "clf2.fit(train_X,train_Y)\n",
    "y_pred=clf2.predict(test_X)"
   ]
  },
  {
   "cell_type": "code",
   "execution_count": 353,
   "metadata": {},
   "outputs": [
    {
     "name": "stdout",
     "output_type": "stream",
     "text": [
      "RMSE is:  0.6613147038597711\n",
      "r2_score is:  0.06318742184383119\n"
     ]
    }
   ],
   "source": [
    "#Lets find the rmse and r2_score using sklearn.metrics\n",
    "import numpy as np\n",
    "from sklearn.metrics import r2_score\n",
    "from sklearn.metrics import mean_squared_error\n",
    "print(\"RMSE is: \",np.sqrt(mean_squared_error(test_Y,y_pred)))\n",
    "print(\"r2_score is: \",r2_score(test_Y,y_pred))"
   ]
  },
  {
   "cell_type": "markdown",
   "metadata": {},
   "source": [
    "### Linear Regression using Recursion"
   ]
  },
  {
   "cell_type": "code",
   "execution_count": 354,
   "metadata": {},
   "outputs": [],
   "source": [
    "from sklearn.model_selection import train_test_split\n",
    "train_X,test_X,train_Y,test_Y = train_test_split(X,Y,random_state=55,test_size=0.20)"
   ]
  },
  {
   "cell_type": "code",
   "execution_count": 355,
   "metadata": {},
   "outputs": [],
   "source": [
    "from sklearn.metrics import mean_absolute_error\n",
    "from sklearn.metrics import mean_squared_error\n",
    "from sklearn.metrics import r2_score\n",
    "from sklearn.model_selection import train_test_split\n",
    "def maxr2_score(regr,X,Y):\n",
    "    max_r_score=0\n",
    "    for r_state in range(42,100):\n",
    "        train_X,test_X,train_Y,test_Y=train_test_split(X,Y,test_size=.20,random_state=r_state)\n",
    "        regr.fit(train_X,train_Y)\n",
    "        y_pred = regr.predict(test_X)\n",
    "        r2_scr=r2_score(test_Y,y_pred)\n",
    "        print(\"r2 score corresponding to \",r_state,\"is\",r2_scr)\n",
    "        if r2_scr>max_r_score:\n",
    "            max_r_score=r2_scr\n",
    "            final_r_state=r_state\n",
    "    print(\"max r2 score corresponding to \",final_r_state,\"is\",max_r_score)\n",
    "    return final_r_state"
   ]
  },
  {
   "cell_type": "code",
   "execution_count": 356,
   "metadata": {},
   "outputs": [
    {
     "name": "stdout",
     "output_type": "stream",
     "text": [
      "r2 score corresponding to  42 is 0.055017695298930636\n",
      "r2 score corresponding to  43 is 0.0629427883275614\n",
      "r2 score corresponding to  44 is 0.07891369708370777\n",
      "r2 score corresponding to  45 is 0.06431088004539176\n",
      "r2 score corresponding to  46 is 0.04903417131397203\n",
      "r2 score corresponding to  47 is 0.041664599885315234\n",
      "r2 score corresponding to  48 is 0.06403103211738015\n",
      "r2 score corresponding to  49 is 0.07659603586674812\n",
      "r2 score corresponding to  50 is 0.06495211282247537\n",
      "r2 score corresponding to  51 is 0.06276734438360287\n",
      "r2 score corresponding to  52 is 0.044671189290161784\n",
      "r2 score corresponding to  53 is 0.048058902670937154\n",
      "r2 score corresponding to  54 is 0.06132000776906277\n",
      "r2 score corresponding to  55 is 0.05053424289797903\n",
      "r2 score corresponding to  56 is 0.06429009314388523\n",
      "r2 score corresponding to  57 is 0.060335395384669255\n",
      "r2 score corresponding to  58 is 0.0505855408300141\n",
      "r2 score corresponding to  59 is 0.07888693955024761\n",
      "r2 score corresponding to  60 is 0.0682247912436732\n",
      "r2 score corresponding to  61 is 0.059604499386740395\n",
      "r2 score corresponding to  62 is 0.06093362667435531\n",
      "r2 score corresponding to  63 is 0.07123047836294805\n",
      "r2 score corresponding to  64 is 0.057469832442555324\n",
      "r2 score corresponding to  65 is 0.06672493169433091\n",
      "r2 score corresponding to  66 is 0.04042181176246096\n",
      "r2 score corresponding to  67 is 0.0810937701654375\n",
      "r2 score corresponding to  68 is 0.06445049309634132\n",
      "r2 score corresponding to  69 is 0.06703538224697703\n",
      "r2 score corresponding to  70 is 0.06330853501944367\n",
      "r2 score corresponding to  71 is 0.05930981077421338\n",
      "r2 score corresponding to  72 is 0.0606667780482546\n",
      "r2 score corresponding to  73 is 0.06262174001172705\n",
      "r2 score corresponding to  74 is 0.0838825834441902\n",
      "r2 score corresponding to  75 is 0.06645171774093006\n",
      "r2 score corresponding to  76 is 0.06448217013378188\n",
      "r2 score corresponding to  77 is 0.0740647206149797\n",
      "r2 score corresponding to  78 is 0.07437717937865462\n",
      "r2 score corresponding to  79 is 0.07612601160901233\n",
      "r2 score corresponding to  80 is 0.05331192265312923\n",
      "r2 score corresponding to  81 is 0.060658976672664955\n",
      "r2 score corresponding to  82 is 0.06987826786111728\n",
      "r2 score corresponding to  83 is 0.04657710071881549\n",
      "r2 score corresponding to  84 is 0.06072996082272253\n",
      "r2 score corresponding to  85 is 0.04821089015537694\n",
      "r2 score corresponding to  86 is 0.06265918982039276\n",
      "r2 score corresponding to  87 is 0.04535963058922121\n",
      "r2 score corresponding to  88 is 0.05600356813705509\n",
      "r2 score corresponding to  89 is 0.07000080214427651\n",
      "r2 score corresponding to  90 is 0.06538613176224317\n",
      "r2 score corresponding to  91 is 0.04631725463289049\n",
      "r2 score corresponding to  92 is 0.045161127611189955\n",
      "r2 score corresponding to  93 is 0.06059887669601749\n",
      "r2 score corresponding to  94 is 0.07458788302221475\n",
      "r2 score corresponding to  95 is 0.06986876772847517\n",
      "r2 score corresponding to  96 is 0.060947754595352066\n",
      "r2 score corresponding to  97 is 0.058222104399247576\n",
      "r2 score corresponding to  98 is 0.0564561292567769\n",
      "r2 score corresponding to  99 is 0.06449856152633415\n",
      "max r2 score corresponding to  74 is 0.0838825834441902\n"
     ]
    }
   ],
   "source": [
    "# Lets use LinearRegression and check the max r2 score corresponding to different state\n",
    "from sklearn.linear_model import LinearRegression\n",
    "lreg = LinearRegression()\n",
    "r_state = maxr2_score(lreg,X,Y)"
   ]
  },
  {
   "cell_type": "markdown",
   "metadata": {},
   "source": [
    "### KNN Model"
   ]
  },
  {
   "cell_type": "code",
   "execution_count": 357,
   "metadata": {},
   "outputs": [
    {
     "name": "stdout",
     "output_type": "stream",
     "text": [
      "Mean squared error of linear svc: 0.46\n",
      "R2 Score of linear svc: -0.00\n"
     ]
    }
   ],
   "source": [
    "from sklearn.neighbors import KNeighborsRegressor\n",
    "knr1 = KNeighborsRegressor()\n",
    "knr1.fit(train_X,train_Y)\n",
    "knr1.score(train_X,train_Y)\n",
    "predicted=knr1.predict(test_X)\n",
    "print(\"Mean squared error of linear svc: %.2f\"% mean_squared_error(test_Y,predicted))\n",
    "print('R2 Score of linear svc: %.2f' % r2_score(test_Y, predicted))"
   ]
  },
  {
   "cell_type": "markdown",
   "metadata": {},
   "source": [
    "### Lets use grid_search to find optimal value of n_neighbors for KNN Model"
   ]
  },
  {
   "cell_type": "code",
   "execution_count": 358,
   "metadata": {},
   "outputs": [
    {
     "data": {
      "text/plain": [
       "{'n_neighbors': 29}"
      ]
     },
     "execution_count": 358,
     "metadata": {},
     "output_type": "execute_result"
    }
   ],
   "source": [
    "#Lets use the Grid Search to Find the Optimal Value of n_neighbors in Knn Model\n",
    "from sklearn.model_selection import GridSearchCV\n",
    "from sklearn.neighbors import KNeighborsRegressor\n",
    "from sklearn.neighbors import NearestNeighbors\n",
    "neighbors={\"n_neighbors\":range(1,30)}\n",
    "knr = KNeighborsRegressor()\n",
    "gknr = GridSearchCV(knr,neighbors,cv=10)\n",
    "gknr.fit(X,Y)\n",
    "gknr.best_params_"
   ]
  },
  {
   "cell_type": "code",
   "execution_count": 359,
   "metadata": {},
   "outputs": [
    {
     "name": "stdout",
     "output_type": "stream",
     "text": [
      "r2 score corresponding to  42 is 0.09539983165504629\n",
      "r2 score corresponding to  43 is 0.09343174971863111\n",
      "r2 score corresponding to  44 is 0.14402837965461035\n",
      "r2 score corresponding to  45 is 0.12110020607185634\n",
      "r2 score corresponding to  46 is 0.11811702361059451\n",
      "r2 score corresponding to  47 is 0.10118261774251025\n",
      "r2 score corresponding to  48 is 0.10529479353116145\n",
      "r2 score corresponding to  49 is 0.128134827478662\n",
      "r2 score corresponding to  50 is 0.1136025078374504\n",
      "r2 score corresponding to  51 is 0.09389717117277363\n",
      "r2 score corresponding to  52 is 0.07787573604400211\n",
      "r2 score corresponding to  53 is 0.1136658505964484\n",
      "r2 score corresponding to  54 is 0.12162393340041544\n",
      "r2 score corresponding to  55 is 0.09860788358109751\n",
      "r2 score corresponding to  56 is 0.11401096934982913\n",
      "r2 score corresponding to  57 is 0.11921517971165108\n",
      "r2 score corresponding to  58 is 0.07803932049772777\n",
      "r2 score corresponding to  59 is 0.12009585288488256\n",
      "r2 score corresponding to  60 is 0.16212475106422808\n",
      "r2 score corresponding to  61 is 0.08594468920214815\n",
      "r2 score corresponding to  62 is 0.09586624949350697\n",
      "r2 score corresponding to  63 is 0.1466673827842363\n",
      "r2 score corresponding to  64 is 0.0883954901498688\n",
      "r2 score corresponding to  65 is 0.12214422097200417\n",
      "r2 score corresponding to  66 is 0.10167321123974127\n",
      "r2 score corresponding to  67 is 0.11495832079517465\n",
      "r2 score corresponding to  68 is 0.12824882706439444\n",
      "r2 score corresponding to  69 is 0.1318895503294465\n",
      "r2 score corresponding to  70 is 0.0992102189213101\n",
      "r2 score corresponding to  71 is 0.09736035264274367\n",
      "r2 score corresponding to  72 is 0.0967630082434745\n",
      "r2 score corresponding to  73 is 0.1115621518840656\n",
      "r2 score corresponding to  74 is 0.1547226891771295\n",
      "r2 score corresponding to  75 is 0.11987171962145438\n",
      "r2 score corresponding to  76 is 0.11984155631191784\n",
      "r2 score corresponding to  77 is 0.12223220198643903\n",
      "r2 score corresponding to  78 is 0.1190999351735581\n",
      "r2 score corresponding to  79 is 0.12699410266309497\n",
      "r2 score corresponding to  80 is 0.09026166383096001\n",
      "r2 score corresponding to  81 is 0.12455451850540133\n",
      "r2 score corresponding to  82 is 0.11434275322830745\n",
      "r2 score corresponding to  83 is 0.11251382287949196\n",
      "r2 score corresponding to  84 is 0.11655930944919335\n",
      "r2 score corresponding to  85 is 0.11027642977531993\n",
      "r2 score corresponding to  86 is 0.12183233559314299\n",
      "r2 score corresponding to  87 is 0.11577105293876166\n",
      "r2 score corresponding to  88 is 0.14214200874923333\n",
      "r2 score corresponding to  89 is 0.12124478793134619\n",
      "r2 score corresponding to  90 is 0.13874675235105682\n",
      "r2 score corresponding to  91 is 0.09460277876591283\n",
      "r2 score corresponding to  92 is 0.08224448955611108\n",
      "r2 score corresponding to  93 is 0.11872412678376953\n",
      "r2 score corresponding to  94 is 0.12716079394627455\n",
      "r2 score corresponding to  95 is 0.12345609390443724\n",
      "r2 score corresponding to  96 is 0.10902362363891915\n",
      "r2 score corresponding to  97 is 0.08279445730634893\n",
      "r2 score corresponding to  98 is 0.09985623654997011\n",
      "r2 score corresponding to  99 is 0.11915302364999991\n",
      "max r2 score corresponding to  60 is 0.16212475106422808\n"
     ]
    }
   ],
   "source": [
    "#Lets Use Knn Regression and Check max r2 score corresponding to different random states\n",
    "knr = KNeighborsRegressor(n_neighbors=29)\n",
    "r_state = maxr2_score(knr,X,Y)"
   ]
  },
  {
   "cell_type": "code",
   "execution_count": 360,
   "metadata": {},
   "outputs": [
    {
     "name": "stdout",
     "output_type": "stream",
     "text": [
      "Mean r2 score for Linear Regression: 0.06143555996696985\n",
      "Standard deviation in r2 scorefor Linear Regression: 0.008013648259208517\n",
      "\n",
      "Mean r2 score for KNN Regression:  0.10947438897921564\n",
      "Stadard deviation in r2 score for KNN Regression: 0.016667015449087864\n"
     ]
    }
   ],
   "source": [
    "#Lets check the mean r2 score of both linear regression model and knn regression \n",
    "from sklearn.model_selection import cross_val_score\n",
    "print(\"Mean r2 score for Linear Regression:\",cross_val_score(lreg,X,Y,cv=5,scoring=\"r2\").mean())\n",
    "print(\"Standard deviation in r2 scorefor Linear Regression:\",cross_val_score(lreg,X,Y,cv=5,scoring=\"r2\").std())\n",
    "print()\n",
    "print(\"Mean r2 score for KNN Regression: \",cross_val_score(knr,X,Y,cv=5,scoring=\"r2\").mean())\n",
    "print(\"Stadard deviation in r2 score for KNN Regression:\",cross_val_score(knr,X,Y,cv=5,scoring=\"r2\").std())"
   ]
  },
  {
   "cell_type": "markdown",
   "metadata": {},
   "source": [
    "### Boosting Linear Regression"
   ]
  },
  {
   "cell_type": "code",
   "execution_count": 361,
   "metadata": {},
   "outputs": [
    {
     "name": "stdout",
     "output_type": "stream",
     "text": [
      "Mean r2 score for ada boosting Regression:  0.06039280550716404\n",
      "Standard deviation in r2 score for ada boosting Regression:  0.025053046391865605\n"
     ]
    }
   ],
   "source": [
    "from sklearn.ensemble import AdaBoostRegressor\n",
    "ada_reg1=AdaBoostRegressor()\n",
    "add_reg1=AdaBoostRegressor(base_estimator=lreg,learning_rate=0.1,n_estimators=10)\n",
    "print(\"Mean r2 score for ada boosting Regression: \",cross_val_score(ada_reg1,X,Y,cv=5,scoring=\"r2\").mean())\n",
    "print(\"Standard deviation in r2 score for ada boosting Regression: \",cross_val_score(ada_reg1,X,Y,cv=5,scoring=\"r2\").std())"
   ]
  },
  {
   "cell_type": "markdown",
   "metadata": {},
   "source": [
    "### Boosting KNN model"
   ]
  },
  {
   "cell_type": "code",
   "execution_count": 362,
   "metadata": {},
   "outputs": [
    {
     "name": "stdout",
     "output_type": "stream",
     "text": [
      "Mean r2 score for ada boosting Regression:  0.060480058297768056\n",
      "Standard deviation in r2 score for ada boosting Regression:  0.016679921537481185\n"
     ]
    }
   ],
   "source": [
    "from sklearn.ensemble import AdaBoostRegressor\n",
    "ada_reg2=AdaBoostRegressor()\n",
    "add_reg2=AdaBoostRegressor(base_estimator=knr,learning_rate=0.1,n_estimators=10)\n",
    "print(\"Mean r2 score for ada boosting Regression: \",cross_val_score(ada_reg2,X,Y,cv=5,scoring=\"r2\").mean())\n",
    "print(\"Standard deviation in r2 score for ada boosting Regression: \",cross_val_score(ada_reg2,X,Y,cv=5,scoring=\"r2\").std())"
   ]
  },
  {
   "cell_type": "markdown",
   "metadata": {},
   "source": [
    "#### Lets check lasso regression and best value of alpha"
   ]
  },
  {
   "cell_type": "code",
   "execution_count": 363,
   "metadata": {},
   "outputs": [
    {
     "data": {
      "text/plain": [
       "{'alpha': 0.001}"
      ]
     },
     "execution_count": 363,
     "metadata": {},
     "output_type": "execute_result"
    }
   ],
   "source": [
    "from sklearn.linear_model import Lasso\n",
    "lsreg=Lasso()\n",
    "parameters={\"alpha\":[0.001,0.01,0.1,1]}\n",
    "clf = GridSearchCV(lsreg,parameters,cv=10)\n",
    "clf.fit(X,Y)\n",
    "clf.best_params_"
   ]
  },
  {
   "cell_type": "code",
   "execution_count": 364,
   "metadata": {},
   "outputs": [
    {
     "name": "stdout",
     "output_type": "stream",
     "text": [
      "Mean r2 score for Lasso Regression:  0.06143626655919578\n",
      "Standard deviation in r2 score for Lasso Regression:  0.007923913266632224\n"
     ]
    }
   ],
   "source": [
    "#Lets use cross val score with Lasso\n",
    "lasso_grs=Lasso(alpha = 0.001)\n",
    "print(\"Mean r2 score for Lasso Regression: \",cross_val_score(lasso_grs,X,Y,cv=5,scoring=\"r2\").mean())\n",
    "print(\"Standard deviation in r2 score for Lasso Regression: \",cross_val_score(lasso_grs,X,Y,cv=5,scoring=\"r2\").std())"
   ]
  },
  {
   "cell_type": "markdown",
   "metadata": {},
   "source": [
    "### Boosting Lasso Regressor"
   ]
  },
  {
   "cell_type": "code",
   "execution_count": 365,
   "metadata": {},
   "outputs": [
    {
     "name": "stdout",
     "output_type": "stream",
     "text": [
      "Mean r2 score for ada boosting Regression:  0.06396083254749899\n",
      "Standard deviation in r2 score for ada boosting Regression:  0.02626010328246114\n"
     ]
    }
   ],
   "source": [
    "from sklearn.ensemble import AdaBoostRegressor\n",
    "ada_reg3=AdaBoostRegressor()\n",
    "add_reg3=AdaBoostRegressor(base_estimator=lasso_grs,learning_rate=0.1,n_estimators=10)\n",
    "print(\"Mean r2 score for ada boosting Regression: \",cross_val_score(ada_reg3,X,Y,cv=5,scoring=\"r2\").mean())\n",
    "print(\"Standard deviation in r2 score for ada boosting Regression: \",cross_val_score(ada_reg3,X,Y,cv=5,scoring=\"r2\").std())"
   ]
  },
  {
   "cell_type": "markdown",
   "metadata": {},
   "source": [
    "### Support Vector Regression"
   ]
  },
  {
   "cell_type": "code",
   "execution_count": 366,
   "metadata": {},
   "outputs": [
    {
     "name": "stdout",
     "output_type": "stream",
     "text": [
      "Mean squared error of linear svc: 0.46\n",
      "R2 Score of linear svc: -0.00\n"
     ]
    }
   ],
   "source": [
    "from sklearn.svm import SVR\n",
    "from sklearn.metrics import mean_squared_error, r2_score\n",
    "\n",
    "svr1 = SVR(kernel = \"rbf\")\n",
    "svr1.fit(train_X,train_Y)\n",
    "svr1.score(train_X,train_Y)\n",
    "y_pred1=svr1.predict(test_X)\n",
    "print(\"Mean squared error of linear svc: %.2f\"% mean_squared_error(test_Y,y_pred1))\n",
    "print('R2 Score of linear svc: %.2f' % r2_score(test_Y, y_pred1))"
   ]
  },
  {
   "cell_type": "markdown",
   "metadata": {},
   "source": [
    "### Boosting Support Vector Machine"
   ]
  },
  {
   "cell_type": "code",
   "execution_count": 367,
   "metadata": {},
   "outputs": [],
   "source": [
    "from sklearn.ensemble import AdaBoostRegressor"
   ]
  },
  {
   "cell_type": "code",
   "execution_count": 368,
   "metadata": {},
   "outputs": [
    {
     "name": "stdout",
     "output_type": "stream",
     "text": [
      "Mean r2 score for ada boosting Regression:  0.06459275220631606\n",
      "Standard deviation in r2 score for ada boosting Regression:  0.025126653432089228\n"
     ]
    }
   ],
   "source": [
    "ada_reg4=AdaBoostRegressor()\n",
    "add_reg4=AdaBoostRegressor(base_estimator=svr1,learning_rate=0.1,n_estimators=10)\n",
    "print(\"Mean r2 score for ada boosting Regression: \",cross_val_score(ada_reg4,X,Y,cv=5,scoring=\"r2\").mean())\n",
    "print(\"Standard deviation in r2 score for ada boosting Regression: \",cross_val_score(ada_reg4,X,Y,cv=5,scoring=\"r2\").std())"
   ]
  },
  {
   "cell_type": "markdown",
   "metadata": {},
   "source": [
    "### Decision Tree Regressor"
   ]
  },
  {
   "cell_type": "code",
   "execution_count": 369,
   "metadata": {},
   "outputs": [
    {
     "name": "stdout",
     "output_type": "stream",
     "text": [
      "Mean squared error of Decision Tree Regressor: 0.19\n",
      "R2 Score : 0.60\n"
     ]
    }
   ],
   "source": [
    "from sklearn.tree import DecisionTreeRegressor\n",
    "from sklearn.metrics import mean_squared_error, r2_score\n",
    "  \n",
    "\n",
    "dtregressor = DecisionTreeRegressor(random_state = 0)  \n",
    "  \n",
    " \n",
    "dtregressor.fit(X, Y) \n",
    "\n",
    "dtregressor.score(train_X,train_Y)\n",
    "y_pred4=dtregressor.predict(test_X)\n",
    "print(\"Mean squared error of Decision Tree Regressor: %.2f\"% mean_squared_error(test_Y,y_pred4))\n",
    "print('R2 Score : %.2f' % r2_score(test_Y, y_pred4))"
   ]
  },
  {
   "cell_type": "markdown",
   "metadata": {},
   "source": [
    "#### Lets Visualize the Goodness of the Prediction"
   ]
  },
  {
   "cell_type": "code",
   "execution_count": 370,
   "metadata": {},
   "outputs": [
    {
     "data": {
      "image/png": "[encoded data removed]",
      "text/plain": [
       "<Figure size 432x288 with 1 Axes>"
      ]
     },
     "metadata": {
      "needs_background": "light"
     },
     "output_type": "display_data"
    }
   ],
   "source": [
    "from sklearn.model_selection import cross_val_predict\n",
    "\n",
    "fig, ax = plt.subplots()\n",
    "ax.scatter(test_Y, y_pred4, edgecolors=(0, 0, 0))\n",
    "ax.plot([test_Y.min(), test_Y.max()], [test_Y.min(), test_Y.max()], 'k--', lw=4)\n",
    "ax.set_xlabel('Actual')\n",
    "ax.set_ylabel('Predicted')\n",
    "ax.set_title(\"Ground Truth vs Predicted\")\n",
    "plt.show()"
   ]
  },
  {
   "cell_type": "code",
   "execution_count": 371,
   "metadata": {},
   "outputs": [
    {
     "name": "stdout",
     "output_type": "stream",
     "text": [
      "Predicted result price: [5.19996945 5.91217237 5.23241667 ... 5.69094085 6.55250789 5.30330491]\n",
      "actual price [[5.01727984]\n",
      " [5.30330491]\n",
      " [5.30330491]\n",
      " ...\n",
      " [4.61512052]\n",
      " [6.55250789]\n",
      " [5.30330491]]\n"
     ]
    }
   ],
   "source": [
    "#predict the value\n",
    "pred=dtregressor.predict(test_X)\n",
    "print(\"Predicted result price:\",pred)\n",
    "print(\"actual price\",test_Y)"
   ]
  },
  {
   "cell_type": "markdown",
   "metadata": {},
   "source": [
    "### Decision Tree Regressor Using GridSearchCV"
   ]
  },
  {
   "cell_type": "code",
   "execution_count": 372,
   "metadata": {},
   "outputs": [
    {
     "name": "stdout",
     "output_type": "stream",
     "text": [
      "R-Squared on train dataset=0.10605313661589\n",
      "R-Squaredon test dataset=0.13048970851401975\n"
     ]
    }
   ],
   "source": [
    "dtm = DecisionTreeRegressor(max_depth=4,\n",
    "                           min_samples_split=5,\n",
    "                           max_leaf_nodes=10)\n",
    "\n",
    "dtm.fit(X,Y)\n",
    "print(\"R-Squared on train dataset={}\".format(dtm.score(test_X,test_Y)))\n",
    "\n",
    "dtm.fit(test_X,test_Y)   \n",
    "print(\"R-Squaredon test dataset={}\".format(dtm.score(test_X,test_Y)))"
   ]
  },
  {
   "cell_type": "code",
   "execution_count": 373,
   "metadata": {},
   "outputs": [
    {
     "data": {
      "text/plain": [
       "GridSearchCV(cv=5, error_score='raise-deprecating',\n",
       "             estimator=DecisionTreeRegressor(criterion='mse', max_depth=4,\n",
       "                                             max_features=None,\n",
       "                                             max_leaf_nodes=10,\n",
       "                                             min_impurity_decrease=0.0,\n",
       "                                             min_impurity_split=None,\n",
       "                                             min_samples_leaf=1,\n",
       "                                             min_samples_split=5,\n",
       "                                             min_weight_fraction_leaf=0.0,\n",
       "                                             presort=False, random_state=None,\n",
       "                                             splitter='best'),\n",
       "             iid='warn', n_jobs=None,\n",
       "             param_grid={'criterion': ['mse', 'mae'], 'max_depth': [2, 6, 8],\n",
       "                         'max_leaf_nodes': [5, 20, 100],\n",
       "                         'min_samples_leaf': [20, 40, 100],\n",
       "                         'min_samples_split': [10, 20, 40]},\n",
       "             pre_dispatch='2*n_jobs', refit=True, return_train_score=False,\n",
       "             scoring=None, verbose=0)"
      ]
     },
     "execution_count": 373,
     "metadata": {},
     "output_type": "execute_result"
    }
   ],
   "source": [
    "param_grid = {\"criterion\": [\"mse\", \"mae\"],\n",
    "              \"min_samples_split\": [10, 20, 40],\n",
    "              \"max_depth\": [2, 6, 8],\n",
    "              \"min_samples_leaf\": [20, 40, 100],\n",
    "              \"max_leaf_nodes\": [5, 20, 100],\n",
    "              }\n",
    "\n",
    "\n",
    "grid_cv_dtm = GridSearchCV(dtm, param_grid, cv=5)\n",
    "\n",
    "grid_cv_dtm.fit(X,Y)"
   ]
  },
  {
   "cell_type": "code",
   "execution_count": 374,
   "metadata": {},
   "outputs": [
    {
     "name": "stdout",
     "output_type": "stream",
     "text": [
      "R-Squared::0.12735513528061088\n",
      "Best Hyperparameters::\n",
      "{'criterion': 'mse', 'max_depth': 6, 'max_leaf_nodes': 100, 'min_samples_leaf': 100, 'min_samples_split': 40}\n"
     ]
    }
   ],
   "source": [
    "print(\"R-Squared::{}\".format(grid_cv_dtm.best_score_))\n",
    "print(\"Best Hyperparameters::\\n{}\".format(grid_cv_dtm.best_params_))"
   ]
  },
  {
   "cell_type": "markdown",
   "metadata": {},
   "source": [
    "### Boosting Decision Tree"
   ]
  },
  {
   "cell_type": "code",
   "execution_count": 375,
   "metadata": {},
   "outputs": [],
   "source": [
    "from sklearn.ensemble import AdaBoostRegressor"
   ]
  },
  {
   "cell_type": "code",
   "execution_count": 376,
   "metadata": {},
   "outputs": [
    {
     "name": "stdout",
     "output_type": "stream",
     "text": [
      "Mean r2 score for ada boosting Regression:  0.11788387685321877\n",
      "Standard deviation in r2 score for ada boosting Regression:  0.01191664157100973\n"
     ]
    }
   ],
   "source": [
    "ada_reg5=AdaBoostRegressor()\n",
    "add_reg5=AdaBoostRegressor(base_estimator=dtm,learning_rate=0.1,n_estimators=10)\n",
    "print(\"Mean r2 score for ada boosting Regression: \",cross_val_score(add_reg5,X,Y,cv=5,scoring=\"r2\").mean())\n",
    "print(\"Standard deviation in r2 score for ada boosting Regression: \",cross_val_score(add_reg5,X,Y,cv=5,scoring=\"r2\").std())"
   ]
  },
  {
   "cell_type": "markdown",
   "metadata": {},
   "source": [
    "### Random Forest Regressor"
   ]
  },
  {
   "cell_type": "code",
   "execution_count": 377,
   "metadata": {},
   "outputs": [
    {
     "name": "stdout",
     "output_type": "stream",
     "text": [
      "Mean squared error of poly svc: 0.52\n",
      "R2 Score : -0.13\n"
     ]
    }
   ],
   "source": [
    "from sklearn.ensemble import RandomForestRegressor\n",
    "rfregressor = RandomForestRegressor(n_estimators=5)\n",
    "rfregressor.fit(train_X, train_Y)\n",
    "y_pred5 = rfregressor.predict(test_X)\n",
    "print(\"Mean squared error of poly svc: %.2f\"% mean_squared_error(test_Y,y_pred5))\n",
    "print('R2 Score : %.2f' % r2_score(test_Y, y_pred5))"
   ]
  },
  {
   "cell_type": "markdown",
   "metadata": {},
   "source": [
    "#### Random Forest Regressor with GridSearchCV"
   ]
  },
  {
   "cell_type": "code",
   "execution_count": 1,
   "metadata": {},
   "outputs": [
    {
     "ename": "NameError",
     "evalue": "name 'RandomForestRegressor' is not defined",
     "output_type": "error",
     "traceback": [
      "\u001b[1;31m---------------------------------------------------------------------------\u001b[0m",
      "\u001b[1;31mNameError\u001b[0m                                 Traceback (most recent call last)",
      "\u001b[1;32m<ipython-input-1-4188010f5d8c>\u001b[0m in \u001b[0;36m<module>\u001b[1;34m\u001b[0m\n\u001b[1;32m----> 1\u001b[1;33m \u001b[0mrf_gs\u001b[0m \u001b[1;33m=\u001b[0m \u001b[0mRandomForestRegressor\u001b[0m\u001b[1;33m(\u001b[0m\u001b[0mn_estimators\u001b[0m\u001b[1;33m=\u001b[0m\u001b[1;36m100\u001b[0m\u001b[1;33m)\u001b[0m\u001b[1;33m\u001b[0m\u001b[1;33m\u001b[0m\u001b[0m\n\u001b[0m",
      "\u001b[1;31mNameError\u001b[0m: name 'RandomForestRegressor' is not defined"
     ]
    }
   ],
   "source": [
    "rf_gs = RandomForestRegressor(n_estimators=100)"
   ]
  },
  {
   "cell_type": "code",
   "execution_count": 379,
   "metadata": {},
   "outputs": [],
   "source": [
    "n_features = X.shape[1]"
   ]
  },
  {
   "cell_type": "code",
   "execution_count": 380,
   "metadata": {},
   "outputs": [
    {
     "name": "stdout",
     "output_type": "stream",
     "text": [
      "{'max_features': 1, 'max_depth': 7}\n"
     ]
    }
   ],
   "source": [
    "from sklearn.model_selection import RandomizedSearchCV\n",
    "grid = RandomizedSearchCV(rf_gs, n_iter=20, \n",
    "            param_distributions=dict(\n",
    "                                          max_depth=np.arange(5,20+1), \n",
    "                                          max_features=np.arange(1, n_features+1)\n",
    "                                    )\n",
    "         )\n",
    "grid.fit(X, Y)\n",
    "print(grid.best_params_)"
   ]
  },
  {
   "cell_type": "code",
   "execution_count": 381,
   "metadata": {},
   "outputs": [
    {
     "name": "stdout",
     "output_type": "stream",
     "text": [
      "Mean r2 score for ada boosting Regression:  0.12896381555047576\n",
      "Standard deviation in r2 score for ada boosting Regression:  0.013795481236036139\n"
     ]
    }
   ],
   "source": [
    "rf_gss = RandomForestRegressor(max_features = 2, max_depth = 7)\n",
    "print(\"Mean r2 score for ada boosting Regression: \",cross_val_score(rf_gss,X,Y,cv=5,scoring=\"r2\").mean())\n",
    "print(\"Standard deviation in r2 score for ada boosting Regression: \",cross_val_score(rf_gss,X,Y,cv=5,scoring=\"r2\").std())"
   ]
  },
  {
   "cell_type": "markdown",
   "metadata": {},
   "source": [
    "#### Boosting RandomForestRegressor"
   ]
  },
  {
   "cell_type": "code",
   "execution_count": 382,
   "metadata": {},
   "outputs": [
    {
     "name": "stdout",
     "output_type": "stream",
     "text": [
      "Mean r2 score for ada boosting Regression:  -0.031875565855079335\n",
      "Standard deviation in r2 score for ada boosting Regression:  0.030629672617318103\n"
     ]
    }
   ],
   "source": [
    "from sklearn.ensemble import AdaBoostRegressor\n",
    "ada_reg6=AdaBoostRegressor()\n",
    "add_reg6=AdaBoostRegressor(base_estimator=rfregressor,learning_rate=0.1,n_estimators=10)\n",
    "print(\"Mean r2 score for ada boosting Regression: \",cross_val_score(add_reg6,X,Y,cv=5,scoring=\"r2\").mean())\n",
    "print(\"Standard deviation in r2 score for ada boosting Regression: \",cross_val_score(add_reg6,X,Y,cv=5,scoring=\"r2\").std())"
   ]
  },
  {
   "cell_type": "markdown",
   "metadata": {},
   "source": [
    "#### NOTE::All models,dtregressor gives the Highest r2 score(0.60) and mean squared error is  0.19 so we are going to save this model"
   ]
  },
  {
   "cell_type": "code",
   "execution_count": 383,
   "metadata": {},
   "outputs": [],
   "source": [
    "import pickle\n",
    "filename = 'Doctors.sav'\n",
    "pickle.dump(dtregressor, open(filename, 'wb'))"
   ]
  },
  {
   "cell_type": "code",
   "execution_count": 384,
   "metadata": {},
   "outputs": [
    {
     "name": "stdout",
     "output_type": "stream",
     "text": [
      "0.6001313909056625\n"
     ]
    }
   ],
   "source": [
    "# Load model from disk and use it to make new predictions\n",
    "loaded_model = pickle.load(open(filename, 'rb'))\n",
    "result = loaded_model.score(test_X, test_Y)\n",
    "print(result)"
   ]
  },
  {
   "cell_type": "markdown",
   "metadata": {},
   "source": [
    "### Test Dataset of Doctors Fees"
   ]
  },
  {
   "cell_type": "code",
   "execution_count": 385,
   "metadata": {},
   "outputs": [],
   "source": [
    "import numpy as np\n",
    "import pandas as pd\n",
    "import matplotlib.pyplot as plt"
   ]
  },
  {
   "cell_type": "code",
   "execution_count": 386,
   "metadata": {},
   "outputs": [
    {
     "data": {
      "text/html": [
       "<div>\n",
       "<style scoped>\n",
       "    .dataframe tbody tr th:only-of-type {\n",
       "        vertical-align: middle;\n",
       "    }\n",
       "\n",
       "    .dataframe tbody tr th {\n",
       "        vertical-align: top;\n",
       "    }\n",
       "\n",
       "    .dataframe thead th {\n",
       "        text-align: right;\n",
       "    }\n",
       "</style>\n",
       "<table border=\"1\" class=\"dataframe\">\n",
       "  <thead>\n",
       "    <tr style=\"text-align: right;\">\n",
       "      <th></th>\n",
       "      <th>Qualification</th>\n",
       "      <th>Experience</th>\n",
       "      <th>Rating</th>\n",
       "      <th>Place</th>\n",
       "      <th>Profile</th>\n",
       "      <th>Miscellaneous_Info</th>\n",
       "    </tr>\n",
       "  </thead>\n",
       "  <tbody>\n",
       "    <tr>\n",
       "      <td>0</td>\n",
       "      <td>MBBS</td>\n",
       "      <td>35 years experience</td>\n",
       "      <td>NaN</td>\n",
       "      <td>Ghatkopar East, Mumbai</td>\n",
       "      <td>General Medicine</td>\n",
       "      <td>NaN</td>\n",
       "    </tr>\n",
       "    <tr>\n",
       "      <td>1</td>\n",
       "      <td>MBBS, Diploma in Otorhinolaryngology (DLO)</td>\n",
       "      <td>31 years experience</td>\n",
       "      <td>NaN</td>\n",
       "      <td>West Marredpally, Hyderabad</td>\n",
       "      <td>ENT Specialist</td>\n",
       "      <td>NaN</td>\n",
       "    </tr>\n",
       "    <tr>\n",
       "      <td>2</td>\n",
       "      <td>MBBS, DDVL</td>\n",
       "      <td>40 years experience</td>\n",
       "      <td>70%</td>\n",
       "      <td>KK Nagar, Chennai</td>\n",
       "      <td>Dermatologists</td>\n",
       "      <td>70% 4 Feedback KK Nagar, Chennai</td>\n",
       "    </tr>\n",
       "    <tr>\n",
       "      <td>3</td>\n",
       "      <td>BAMS</td>\n",
       "      <td>0 years experience</td>\n",
       "      <td>NaN</td>\n",
       "      <td>New Ashok Nagar, Delhi</td>\n",
       "      <td>Ayurveda</td>\n",
       "      <td>NaN</td>\n",
       "    </tr>\n",
       "    <tr>\n",
       "      <td>4</td>\n",
       "      <td>BDS, MDS - Conservative Dentistry &amp; Endodontics</td>\n",
       "      <td>16 years experience</td>\n",
       "      <td>100%</td>\n",
       "      <td>Kanakpura Road, Bangalore</td>\n",
       "      <td>Dentist</td>\n",
       "      <td>General Dentistry Conservative Dentistry Cosme...</td>\n",
       "    </tr>\n",
       "    <tr>\n",
       "      <td>...</td>\n",
       "      <td>...</td>\n",
       "      <td>...</td>\n",
       "      <td>...</td>\n",
       "      <td>...</td>\n",
       "      <td>...</td>\n",
       "      <td>...</td>\n",
       "    </tr>\n",
       "    <tr>\n",
       "      <td>1982</td>\n",
       "      <td>BAMS, Doctor of Medicine</td>\n",
       "      <td>10 years experience</td>\n",
       "      <td>NaN</td>\n",
       "      <td>Basavanagudi, Bangalore</td>\n",
       "      <td>Ayurveda</td>\n",
       "      <td>NaN</td>\n",
       "    </tr>\n",
       "    <tr>\n",
       "      <td>1983</td>\n",
       "      <td>MD - Dermatology , Venereology &amp; Leprosy, MBBS</td>\n",
       "      <td>4 years experience</td>\n",
       "      <td>NaN</td>\n",
       "      <td>Choolai, Chennai</td>\n",
       "      <td>Dermatologists</td>\n",
       "      <td>NaN</td>\n",
       "    </tr>\n",
       "    <tr>\n",
       "      <td>1984</td>\n",
       "      <td>MBBS, MD / MS - Obstetrics &amp; Gynaecology</td>\n",
       "      <td>9 years experience</td>\n",
       "      <td>NaN</td>\n",
       "      <td>Porur, Chennai</td>\n",
       "      <td>General Medicine</td>\n",
       "      <td>NaN</td>\n",
       "    </tr>\n",
       "    <tr>\n",
       "      <td>1985</td>\n",
       "      <td>BDS</td>\n",
       "      <td>12 years experience</td>\n",
       "      <td>98%</td>\n",
       "      <td>Arekere, Bangalore</td>\n",
       "      <td>Dentist</td>\n",
       "      <td>RCT - Root Canal Treatment Root Canal Treatmen...</td>\n",
       "    </tr>\n",
       "    <tr>\n",
       "      <td>1986</td>\n",
       "      <td>MBBS, MD - Dermatology , Venereology &amp; Leprosy</td>\n",
       "      <td>8 years experience</td>\n",
       "      <td>NaN</td>\n",
       "      <td>Pallikaranai, Chennai</td>\n",
       "      <td>Dermatologists</td>\n",
       "      <td>1 Feedback Pallikaranai, Chennai ₹500</td>\n",
       "    </tr>\n",
       "  </tbody>\n",
       "</table>\n",
       "<p>1987 rows × 6 columns</p>\n",
       "</div>"
      ],
      "text/plain": [
       "                                        Qualification           Experience  \\\n",
       "0                                                MBBS  35 years experience   \n",
       "1          MBBS, Diploma in Otorhinolaryngology (DLO)  31 years experience   \n",
       "2                                          MBBS, DDVL  40 years experience   \n",
       "3                                                BAMS   0 years experience   \n",
       "4     BDS, MDS - Conservative Dentistry & Endodontics  16 years experience   \n",
       "...                                               ...                  ...   \n",
       "1982                         BAMS, Doctor of Medicine  10 years experience   \n",
       "1983   MD - Dermatology , Venereology & Leprosy, MBBS   4 years experience   \n",
       "1984         MBBS, MD / MS - Obstetrics & Gynaecology   9 years experience   \n",
       "1985                                              BDS  12 years experience   \n",
       "1986   MBBS, MD - Dermatology , Venereology & Leprosy   8 years experience   \n",
       "\n",
       "     Rating                        Place           Profile  \\\n",
       "0       NaN       Ghatkopar East, Mumbai  General Medicine   \n",
       "1       NaN  West Marredpally, Hyderabad    ENT Specialist   \n",
       "2       70%            KK Nagar, Chennai    Dermatologists   \n",
       "3       NaN       New Ashok Nagar, Delhi          Ayurveda   \n",
       "4      100%    Kanakpura Road, Bangalore           Dentist   \n",
       "...     ...                          ...               ...   \n",
       "1982    NaN      Basavanagudi, Bangalore          Ayurveda   \n",
       "1983    NaN             Choolai, Chennai    Dermatologists   \n",
       "1984    NaN               Porur, Chennai  General Medicine   \n",
       "1985    98%           Arekere, Bangalore           Dentist   \n",
       "1986    NaN        Pallikaranai, Chennai    Dermatologists   \n",
       "\n",
       "                                     Miscellaneous_Info  \n",
       "0                                                   NaN  \n",
       "1                                                   NaN  \n",
       "2                      70% 4 Feedback KK Nagar, Chennai  \n",
       "3                                                   NaN  \n",
       "4     General Dentistry Conservative Dentistry Cosme...  \n",
       "...                                                 ...  \n",
       "1982                                                NaN  \n",
       "1983                                                NaN  \n",
       "1984                                                NaN  \n",
       "1985  RCT - Root Canal Treatment Root Canal Treatmen...  \n",
       "1986              1 Feedback Pallikaranai, Chennai ₹500  \n",
       "\n",
       "[1987 rows x 6 columns]"
      ]
     },
     "execution_count": 386,
     "metadata": {},
     "output_type": "execute_result"
    }
   ],
   "source": [
    "data1 = pd.read_excel('Final_Test.xlsx')\n",
    "data1"
   ]
  },
  {
   "cell_type": "markdown",
   "metadata": {},
   "source": [
    "### Exploratory Data Analysis"
   ]
  },
  {
   "cell_type": "code",
   "execution_count": 387,
   "metadata": {},
   "outputs": [
    {
     "data": {
      "text/html": [
       "<div>\n",
       "<style scoped>\n",
       "    .dataframe tbody tr th:only-of-type {\n",
       "        vertical-align: middle;\n",
       "    }\n",
       "\n",
       "    .dataframe tbody tr th {\n",
       "        vertical-align: top;\n",
       "    }\n",
       "\n",
       "    .dataframe thead th {\n",
       "        text-align: right;\n",
       "    }\n",
       "</style>\n",
       "<table border=\"1\" class=\"dataframe\">\n",
       "  <thead>\n",
       "    <tr style=\"text-align: right;\">\n",
       "      <th></th>\n",
       "      <th>Qualification</th>\n",
       "      <th>Experience</th>\n",
       "      <th>Rating</th>\n",
       "      <th>Place</th>\n",
       "      <th>Profile</th>\n",
       "      <th>Miscellaneous_Info</th>\n",
       "    </tr>\n",
       "  </thead>\n",
       "  <tbody>\n",
       "    <tr>\n",
       "      <td>0</td>\n",
       "      <td>MBBS</td>\n",
       "      <td>35 years experience</td>\n",
       "      <td>NaN</td>\n",
       "      <td>Ghatkopar East, Mumbai</td>\n",
       "      <td>General Medicine</td>\n",
       "      <td>NaN</td>\n",
       "    </tr>\n",
       "    <tr>\n",
       "      <td>1</td>\n",
       "      <td>MBBS, Diploma in Otorhinolaryngology (DLO)</td>\n",
       "      <td>31 years experience</td>\n",
       "      <td>NaN</td>\n",
       "      <td>West Marredpally, Hyderabad</td>\n",
       "      <td>ENT Specialist</td>\n",
       "      <td>NaN</td>\n",
       "    </tr>\n",
       "    <tr>\n",
       "      <td>2</td>\n",
       "      <td>MBBS, DDVL</td>\n",
       "      <td>40 years experience</td>\n",
       "      <td>70%</td>\n",
       "      <td>KK Nagar, Chennai</td>\n",
       "      <td>Dermatologists</td>\n",
       "      <td>70% 4 Feedback KK Nagar, Chennai</td>\n",
       "    </tr>\n",
       "    <tr>\n",
       "      <td>3</td>\n",
       "      <td>BAMS</td>\n",
       "      <td>0 years experience</td>\n",
       "      <td>NaN</td>\n",
       "      <td>New Ashok Nagar, Delhi</td>\n",
       "      <td>Ayurveda</td>\n",
       "      <td>NaN</td>\n",
       "    </tr>\n",
       "    <tr>\n",
       "      <td>4</td>\n",
       "      <td>BDS, MDS - Conservative Dentistry &amp; Endodontics</td>\n",
       "      <td>16 years experience</td>\n",
       "      <td>100%</td>\n",
       "      <td>Kanakpura Road, Bangalore</td>\n",
       "      <td>Dentist</td>\n",
       "      <td>General Dentistry Conservative Dentistry Cosme...</td>\n",
       "    </tr>\n",
       "  </tbody>\n",
       "</table>\n",
       "</div>"
      ],
      "text/plain": [
       "                                     Qualification           Experience  \\\n",
       "0                                             MBBS  35 years experience   \n",
       "1       MBBS, Diploma in Otorhinolaryngology (DLO)  31 years experience   \n",
       "2                                       MBBS, DDVL  40 years experience   \n",
       "3                                             BAMS   0 years experience   \n",
       "4  BDS, MDS - Conservative Dentistry & Endodontics  16 years experience   \n",
       "\n",
       "  Rating                        Place           Profile  \\\n",
       "0    NaN       Ghatkopar East, Mumbai  General Medicine   \n",
       "1    NaN  West Marredpally, Hyderabad    ENT Specialist   \n",
       "2    70%            KK Nagar, Chennai    Dermatologists   \n",
       "3    NaN       New Ashok Nagar, Delhi          Ayurveda   \n",
       "4   100%    Kanakpura Road, Bangalore           Dentist   \n",
       "\n",
       "                                  Miscellaneous_Info  \n",
       "0                                                NaN  \n",
       "1                                                NaN  \n",
       "2                   70% 4 Feedback KK Nagar, Chennai  \n",
       "3                                                NaN  \n",
       "4  General Dentistry Conservative Dentistry Cosme...  "
      ]
     },
     "execution_count": 387,
     "metadata": {},
     "output_type": "execute_result"
    }
   ],
   "source": [
    "data1.head()"
   ]
  },
  {
   "cell_type": "code",
   "execution_count": 388,
   "metadata": {},
   "outputs": [
    {
     "data": {
      "text/html": [
       "<div>\n",
       "<style scoped>\n",
       "    .dataframe tbody tr th:only-of-type {\n",
       "        vertical-align: middle;\n",
       "    }\n",
       "\n",
       "    .dataframe tbody tr th {\n",
       "        vertical-align: top;\n",
       "    }\n",
       "\n",
       "    .dataframe thead th {\n",
       "        text-align: right;\n",
       "    }\n",
       "</style>\n",
       "<table border=\"1\" class=\"dataframe\">\n",
       "  <thead>\n",
       "    <tr style=\"text-align: right;\">\n",
       "      <th></th>\n",
       "      <th>Qualification</th>\n",
       "      <th>Experience</th>\n",
       "      <th>Rating</th>\n",
       "      <th>Place</th>\n",
       "      <th>Profile</th>\n",
       "      <th>Miscellaneous_Info</th>\n",
       "    </tr>\n",
       "  </thead>\n",
       "  <tbody>\n",
       "    <tr>\n",
       "      <td>1982</td>\n",
       "      <td>BAMS, Doctor of Medicine</td>\n",
       "      <td>10 years experience</td>\n",
       "      <td>NaN</td>\n",
       "      <td>Basavanagudi, Bangalore</td>\n",
       "      <td>Ayurveda</td>\n",
       "      <td>NaN</td>\n",
       "    </tr>\n",
       "    <tr>\n",
       "      <td>1983</td>\n",
       "      <td>MD - Dermatology , Venereology &amp; Leprosy, MBBS</td>\n",
       "      <td>4 years experience</td>\n",
       "      <td>NaN</td>\n",
       "      <td>Choolai, Chennai</td>\n",
       "      <td>Dermatologists</td>\n",
       "      <td>NaN</td>\n",
       "    </tr>\n",
       "    <tr>\n",
       "      <td>1984</td>\n",
       "      <td>MBBS, MD / MS - Obstetrics &amp; Gynaecology</td>\n",
       "      <td>9 years experience</td>\n",
       "      <td>NaN</td>\n",
       "      <td>Porur, Chennai</td>\n",
       "      <td>General Medicine</td>\n",
       "      <td>NaN</td>\n",
       "    </tr>\n",
       "    <tr>\n",
       "      <td>1985</td>\n",
       "      <td>BDS</td>\n",
       "      <td>12 years experience</td>\n",
       "      <td>98%</td>\n",
       "      <td>Arekere, Bangalore</td>\n",
       "      <td>Dentist</td>\n",
       "      <td>RCT - Root Canal Treatment Root Canal Treatmen...</td>\n",
       "    </tr>\n",
       "    <tr>\n",
       "      <td>1986</td>\n",
       "      <td>MBBS, MD - Dermatology , Venereology &amp; Leprosy</td>\n",
       "      <td>8 years experience</td>\n",
       "      <td>NaN</td>\n",
       "      <td>Pallikaranai, Chennai</td>\n",
       "      <td>Dermatologists</td>\n",
       "      <td>1 Feedback Pallikaranai, Chennai ₹500</td>\n",
       "    </tr>\n",
       "  </tbody>\n",
       "</table>\n",
       "</div>"
      ],
      "text/plain": [
       "                                       Qualification           Experience  \\\n",
       "1982                        BAMS, Doctor of Medicine  10 years experience   \n",
       "1983  MD - Dermatology , Venereology & Leprosy, MBBS   4 years experience   \n",
       "1984        MBBS, MD / MS - Obstetrics & Gynaecology   9 years experience   \n",
       "1985                                             BDS  12 years experience   \n",
       "1986  MBBS, MD - Dermatology , Venereology & Leprosy   8 years experience   \n",
       "\n",
       "     Rating                    Place           Profile  \\\n",
       "1982    NaN  Basavanagudi, Bangalore          Ayurveda   \n",
       "1983    NaN         Choolai, Chennai    Dermatologists   \n",
       "1984    NaN           Porur, Chennai  General Medicine   \n",
       "1985    98%       Arekere, Bangalore           Dentist   \n",
       "1986    NaN    Pallikaranai, Chennai    Dermatologists   \n",
       "\n",
       "                                     Miscellaneous_Info  \n",
       "1982                                                NaN  \n",
       "1983                                                NaN  \n",
       "1984                                                NaN  \n",
       "1985  RCT - Root Canal Treatment Root Canal Treatmen...  \n",
       "1986              1 Feedback Pallikaranai, Chennai ₹500  "
      ]
     },
     "execution_count": 388,
     "metadata": {},
     "output_type": "execute_result"
    }
   ],
   "source": [
    "data1.tail()"
   ]
  },
  {
   "cell_type": "markdown",
   "metadata": {},
   "source": [
    "#### Lets check the null values without using visualization"
   ]
  },
  {
   "cell_type": "code",
   "execution_count": 389,
   "metadata": {},
   "outputs": [
    {
     "data": {
      "text/plain": [
       "Qualification            0\n",
       "Experience               0\n",
       "Rating                1090\n",
       "Place                    6\n",
       "Profile                  0\n",
       "Miscellaneous_Info     834\n",
       "dtype: int64"
      ]
     },
     "execution_count": 389,
     "metadata": {},
     "output_type": "execute_result"
    }
   ],
   "source": [
    "data1.isnull().sum()"
   ]
  },
  {
   "cell_type": "code",
   "execution_count": 390,
   "metadata": {},
   "outputs": [
    {
     "data": {
      "image/png": "[encoded data removed]",
      "text/plain": [
       "<Figure size 432x288 with 2 Axes>"
      ]
     },
     "metadata": {
      "needs_background": "light"
     },
     "output_type": "display_data"
    }
   ],
   "source": [
    "#Check the Null value through graph\n",
    "import matplotlib.pyplot as plt\n",
    "import seaborn as sns\n",
    "sns.heatmap(data.isnull())\n",
    "plt.show()"
   ]
  },
  {
   "cell_type": "markdown",
   "metadata": {},
   "source": [
    "#### Converting the  Testing Data into the same format like Training Dataset"
   ]
  },
  {
   "cell_type": "code",
   "execution_count": 391,
   "metadata": {},
   "outputs": [],
   "source": [
    "data1.drop('Rating',axis=1,inplace=True)"
   ]
  },
  {
   "cell_type": "code",
   "execution_count": 392,
   "metadata": {},
   "outputs": [],
   "source": [
    "data1.drop('Miscellaneous_Info',axis=1,inplace=True)"
   ]
  },
  {
   "cell_type": "code",
   "execution_count": 393,
   "metadata": {},
   "outputs": [
    {
     "data": {
      "text/plain": [
       "Qualification    0\n",
       "Experience       0\n",
       "Place            6\n",
       "Profile          0\n",
       "dtype: int64"
      ]
     },
     "execution_count": 393,
     "metadata": {},
     "output_type": "execute_result"
    }
   ],
   "source": [
    "data1.isnull().sum()"
   ]
  },
  {
   "cell_type": "code",
   "execution_count": 394,
   "metadata": {},
   "outputs": [],
   "source": [
    "for column in ['Place']:\n",
    "    data1[column].fillna(data1[column].mode()[0], inplace=True)"
   ]
  },
  {
   "cell_type": "code",
   "execution_count": 415,
   "metadata": {
    "scrolled": true
   },
   "outputs": [],
   "source": [
    "data1.drop('Place',axis=1,inplace=True)"
   ]
  },
  {
   "cell_type": "code",
   "execution_count": 416,
   "metadata": {},
   "outputs": [
    {
     "data": {
      "text/plain": [
       "Qualification    0\n",
       "Experience       0\n",
       "Profile          0\n",
       "dtype: int64"
      ]
     },
     "execution_count": 416,
     "metadata": {},
     "output_type": "execute_result"
    }
   ],
   "source": [
    "data1.isnull().sum()"
   ]
  },
  {
   "cell_type": "code",
   "execution_count": 417,
   "metadata": {},
   "outputs": [
    {
     "data": {
      "text/plain": [
       "Qualification    int32\n",
       "Experience       int32\n",
       "Profile          int32\n",
       "dtype: object"
      ]
     },
     "execution_count": 417,
     "metadata": {},
     "output_type": "execute_result"
    }
   ],
   "source": [
    "data1.dtypes"
   ]
  },
  {
   "cell_type": "markdown",
   "metadata": {},
   "source": [
    "#### Converting the columns into Numeric Format"
   ]
  },
  {
   "cell_type": "code",
   "execution_count": 418,
   "metadata": {},
   "outputs": [],
   "source": [
    "import sklearn\n",
    "from sklearn.preprocessing import LabelEncoder,OneHotEncoder"
   ]
  },
  {
   "cell_type": "code",
   "execution_count": 419,
   "metadata": {},
   "outputs": [],
   "source": [
    "#For all those columns who has 6 attributes\n",
    "from sklearn import preprocessing\n",
    "for cols in data1.columns:\n",
    "    if(len(data1[cols].value_counts()) ==6):#Unique values\n",
    "        le_anima = preprocessing.LabelEncoder()\n",
    "        data1[cols] = le_anima.fit_transform(data1[cols])"
   ]
  },
  {
   "cell_type": "code",
   "execution_count": 420,
   "metadata": {},
   "outputs": [
    {
     "data": {
      "text/html": [
       "<div>\n",
       "<style scoped>\n",
       "    .dataframe tbody tr th:only-of-type {\n",
       "        vertical-align: middle;\n",
       "    }\n",
       "\n",
       "    .dataframe tbody tr th {\n",
       "        vertical-align: top;\n",
       "    }\n",
       "\n",
       "    .dataframe thead th {\n",
       "        text-align: right;\n",
       "    }\n",
       "</style>\n",
       "<table border=\"1\" class=\"dataframe\">\n",
       "  <thead>\n",
       "    <tr style=\"text-align: right;\">\n",
       "      <th></th>\n",
       "      <th>Qualification</th>\n",
       "      <th>Experience</th>\n",
       "      <th>Profile</th>\n",
       "    </tr>\n",
       "  </thead>\n",
       "  <tbody>\n",
       "    <tr>\n",
       "      <td>0</td>\n",
       "      <td>241</td>\n",
       "      <td>28</td>\n",
       "      <td>4</td>\n",
       "    </tr>\n",
       "    <tr>\n",
       "      <td>1</td>\n",
       "      <td>340</td>\n",
       "      <td>24</td>\n",
       "      <td>3</td>\n",
       "    </tr>\n",
       "    <tr>\n",
       "      <td>2</td>\n",
       "      <td>258</td>\n",
       "      <td>34</td>\n",
       "      <td>2</td>\n",
       "    </tr>\n",
       "    <tr>\n",
       "      <td>3</td>\n",
       "      <td>6</td>\n",
       "      <td>0</td>\n",
       "      <td>0</td>\n",
       "    </tr>\n",
       "    <tr>\n",
       "      <td>4</td>\n",
       "      <td>79</td>\n",
       "      <td>7</td>\n",
       "      <td>1</td>\n",
       "    </tr>\n",
       "    <tr>\n",
       "      <td>...</td>\n",
       "      <td>...</td>\n",
       "      <td>...</td>\n",
       "      <td>...</td>\n",
       "    </tr>\n",
       "    <tr>\n",
       "      <td>1982</td>\n",
       "      <td>17</td>\n",
       "      <td>1</td>\n",
       "      <td>0</td>\n",
       "    </tr>\n",
       "    <tr>\n",
       "      <td>1983</td>\n",
       "      <td>548</td>\n",
       "      <td>33</td>\n",
       "      <td>2</td>\n",
       "    </tr>\n",
       "    <tr>\n",
       "      <td>1984</td>\n",
       "      <td>474</td>\n",
       "      <td>56</td>\n",
       "      <td>4</td>\n",
       "    </tr>\n",
       "    <tr>\n",
       "      <td>1985</td>\n",
       "      <td>51</td>\n",
       "      <td>3</td>\n",
       "      <td>1</td>\n",
       "    </tr>\n",
       "    <tr>\n",
       "      <td>1986</td>\n",
       "      <td>384</td>\n",
       "      <td>55</td>\n",
       "      <td>2</td>\n",
       "    </tr>\n",
       "  </tbody>\n",
       "</table>\n",
       "<p>1987 rows × 3 columns</p>\n",
       "</div>"
      ],
      "text/plain": [
       "      Qualification  Experience  Profile\n",
       "0               241          28        4\n",
       "1               340          24        3\n",
       "2               258          34        2\n",
       "3                 6           0        0\n",
       "4                79           7        1\n",
       "...             ...         ...      ...\n",
       "1982             17           1        0\n",
       "1983            548          33        2\n",
       "1984            474          56        4\n",
       "1985             51           3        1\n",
       "1986            384          55        2\n",
       "\n",
       "[1987 rows x 3 columns]"
      ]
     },
     "execution_count": 420,
     "metadata": {},
     "output_type": "execute_result"
    }
   ],
   "source": [
    "data1"
   ]
  },
  {
   "cell_type": "code",
   "execution_count": 421,
   "metadata": {},
   "outputs": [
    {
     "data": {
      "text/html": [
       "<div>\n",
       "<style scoped>\n",
       "    .dataframe tbody tr th:only-of-type {\n",
       "        vertical-align: middle;\n",
       "    }\n",
       "\n",
       "    .dataframe tbody tr th {\n",
       "        vertical-align: top;\n",
       "    }\n",
       "\n",
       "    .dataframe thead th {\n",
       "        text-align: right;\n",
       "    }\n",
       "</style>\n",
       "<table border=\"1\" class=\"dataframe\">\n",
       "  <thead>\n",
       "    <tr style=\"text-align: right;\">\n",
       "      <th></th>\n",
       "      <th>Qualification</th>\n",
       "      <th>Experience</th>\n",
       "      <th>Profile</th>\n",
       "    </tr>\n",
       "  </thead>\n",
       "  <tbody>\n",
       "    <tr>\n",
       "      <td>0</td>\n",
       "      <td>241</td>\n",
       "      <td>28</td>\n",
       "      <td>4</td>\n",
       "    </tr>\n",
       "    <tr>\n",
       "      <td>1</td>\n",
       "      <td>340</td>\n",
       "      <td>24</td>\n",
       "      <td>3</td>\n",
       "    </tr>\n",
       "    <tr>\n",
       "      <td>2</td>\n",
       "      <td>258</td>\n",
       "      <td>34</td>\n",
       "      <td>2</td>\n",
       "    </tr>\n",
       "    <tr>\n",
       "      <td>3</td>\n",
       "      <td>6</td>\n",
       "      <td>0</td>\n",
       "      <td>0</td>\n",
       "    </tr>\n",
       "    <tr>\n",
       "      <td>4</td>\n",
       "      <td>79</td>\n",
       "      <td>7</td>\n",
       "      <td>1</td>\n",
       "    </tr>\n",
       "    <tr>\n",
       "      <td>...</td>\n",
       "      <td>...</td>\n",
       "      <td>...</td>\n",
       "      <td>...</td>\n",
       "    </tr>\n",
       "    <tr>\n",
       "      <td>1982</td>\n",
       "      <td>17</td>\n",
       "      <td>1</td>\n",
       "      <td>0</td>\n",
       "    </tr>\n",
       "    <tr>\n",
       "      <td>1983</td>\n",
       "      <td>548</td>\n",
       "      <td>33</td>\n",
       "      <td>2</td>\n",
       "    </tr>\n",
       "    <tr>\n",
       "      <td>1984</td>\n",
       "      <td>474</td>\n",
       "      <td>56</td>\n",
       "      <td>4</td>\n",
       "    </tr>\n",
       "    <tr>\n",
       "      <td>1985</td>\n",
       "      <td>51</td>\n",
       "      <td>3</td>\n",
       "      <td>1</td>\n",
       "    </tr>\n",
       "    <tr>\n",
       "      <td>1986</td>\n",
       "      <td>384</td>\n",
       "      <td>55</td>\n",
       "      <td>2</td>\n",
       "    </tr>\n",
       "  </tbody>\n",
       "</table>\n",
       "<p>1987 rows × 3 columns</p>\n",
       "</div>"
      ],
      "text/plain": [
       "      Qualification  Experience  Profile\n",
       "0               241          28        4\n",
       "1               340          24        3\n",
       "2               258          34        2\n",
       "3                 6           0        0\n",
       "4                79           7        1\n",
       "...             ...         ...      ...\n",
       "1982             17           1        0\n",
       "1983            548          33        2\n",
       "1984            474          56        4\n",
       "1985             51           3        1\n",
       "1986            384          55        2\n",
       "\n",
       "[1987 rows x 3 columns]"
      ]
     },
     "execution_count": 421,
     "metadata": {},
     "output_type": "execute_result"
    }
   ],
   "source": [
    "data1"
   ]
  },
  {
   "cell_type": "markdown",
   "metadata": {},
   "source": [
    "#### Lets Convert Qualification Column into Numeric"
   ]
  },
  {
   "cell_type": "code",
   "execution_count": 422,
   "metadata": {},
   "outputs": [],
   "source": [
    "import sklearn\n",
    "from sklearn.preprocessing import LabelEncoder,OneHotEncoder"
   ]
  },
  {
   "cell_type": "code",
   "execution_count": 423,
   "metadata": {},
   "outputs": [
    {
     "data": {
      "text/plain": [
       "(1987,)"
      ]
     },
     "execution_count": 423,
     "metadata": {},
     "output_type": "execute_result"
    }
   ],
   "source": [
    "array = data1['Qualification']\n",
    "\n",
    "array.shapearray = data1['Qualification']\n",
    "\n",
    "array.shape"
   ]
  },
  {
   "cell_type": "code",
   "execution_count": 424,
   "metadata": {},
   "outputs": [
    {
     "data": {
      "text/plain": [
       "array([241, 340, 258, ..., 474,  51, 384], dtype=int64)"
      ]
     },
     "execution_count": 424,
     "metadata": {},
     "output_type": "execute_result"
    }
   ],
   "source": [
    "le=LabelEncoder()\n",
    "data2=le.fit_transform(data1['Qualification'])\n",
    "data2"
   ]
  },
  {
   "cell_type": "code",
   "execution_count": 425,
   "metadata": {},
   "outputs": [],
   "source": [
    "data1['Qualification']=data2"
   ]
  },
  {
   "cell_type": "code",
   "execution_count": 426,
   "metadata": {},
   "outputs": [
    {
     "data": {
      "text/plain": [
       "array([241, 340, 258, ..., 474,  51, 384], dtype=int64)"
      ]
     },
     "execution_count": 426,
     "metadata": {},
     "output_type": "execute_result"
    }
   ],
   "source": [
    "data2"
   ]
  },
  {
   "cell_type": "code",
   "execution_count": 427,
   "metadata": {},
   "outputs": [
    {
     "data": {
      "text/html": [
       "<div>\n",
       "<style scoped>\n",
       "    .dataframe tbody tr th:only-of-type {\n",
       "        vertical-align: middle;\n",
       "    }\n",
       "\n",
       "    .dataframe tbody tr th {\n",
       "        vertical-align: top;\n",
       "    }\n",
       "\n",
       "    .dataframe thead th {\n",
       "        text-align: right;\n",
       "    }\n",
       "</style>\n",
       "<table border=\"1\" class=\"dataframe\">\n",
       "  <thead>\n",
       "    <tr style=\"text-align: right;\">\n",
       "      <th></th>\n",
       "      <th>Qualification</th>\n",
       "      <th>Experience</th>\n",
       "      <th>Profile</th>\n",
       "    </tr>\n",
       "  </thead>\n",
       "  <tbody>\n",
       "    <tr>\n",
       "      <td>0</td>\n",
       "      <td>241</td>\n",
       "      <td>28</td>\n",
       "      <td>4</td>\n",
       "    </tr>\n",
       "    <tr>\n",
       "      <td>1</td>\n",
       "      <td>340</td>\n",
       "      <td>24</td>\n",
       "      <td>3</td>\n",
       "    </tr>\n",
       "    <tr>\n",
       "      <td>2</td>\n",
       "      <td>258</td>\n",
       "      <td>34</td>\n",
       "      <td>2</td>\n",
       "    </tr>\n",
       "    <tr>\n",
       "      <td>3</td>\n",
       "      <td>6</td>\n",
       "      <td>0</td>\n",
       "      <td>0</td>\n",
       "    </tr>\n",
       "    <tr>\n",
       "      <td>4</td>\n",
       "      <td>79</td>\n",
       "      <td>7</td>\n",
       "      <td>1</td>\n",
       "    </tr>\n",
       "    <tr>\n",
       "      <td>...</td>\n",
       "      <td>...</td>\n",
       "      <td>...</td>\n",
       "      <td>...</td>\n",
       "    </tr>\n",
       "    <tr>\n",
       "      <td>1982</td>\n",
       "      <td>17</td>\n",
       "      <td>1</td>\n",
       "      <td>0</td>\n",
       "    </tr>\n",
       "    <tr>\n",
       "      <td>1983</td>\n",
       "      <td>548</td>\n",
       "      <td>33</td>\n",
       "      <td>2</td>\n",
       "    </tr>\n",
       "    <tr>\n",
       "      <td>1984</td>\n",
       "      <td>474</td>\n",
       "      <td>56</td>\n",
       "      <td>4</td>\n",
       "    </tr>\n",
       "    <tr>\n",
       "      <td>1985</td>\n",
       "      <td>51</td>\n",
       "      <td>3</td>\n",
       "      <td>1</td>\n",
       "    </tr>\n",
       "    <tr>\n",
       "      <td>1986</td>\n",
       "      <td>384</td>\n",
       "      <td>55</td>\n",
       "      <td>2</td>\n",
       "    </tr>\n",
       "  </tbody>\n",
       "</table>\n",
       "<p>1987 rows × 3 columns</p>\n",
       "</div>"
      ],
      "text/plain": [
       "      Qualification  Experience  Profile\n",
       "0               241          28        4\n",
       "1               340          24        3\n",
       "2               258          34        2\n",
       "3                 6           0        0\n",
       "4                79           7        1\n",
       "...             ...         ...      ...\n",
       "1982             17           1        0\n",
       "1983            548          33        2\n",
       "1984            474          56        4\n",
       "1985             51           3        1\n",
       "1986            384          55        2\n",
       "\n",
       "[1987 rows x 3 columns]"
      ]
     },
     "execution_count": 427,
     "metadata": {},
     "output_type": "execute_result"
    }
   ],
   "source": [
    "data1"
   ]
  },
  {
   "cell_type": "markdown",
   "metadata": {},
   "source": [
    "#### Lets Convert Exeprience Column into Numeric"
   ]
  },
  {
   "cell_type": "code",
   "execution_count": 428,
   "metadata": {},
   "outputs": [],
   "source": [
    "import sklearn\n",
    "from sklearn.preprocessing import LabelEncoder,OneHotEncoder"
   ]
  },
  {
   "cell_type": "code",
   "execution_count": 429,
   "metadata": {},
   "outputs": [
    {
     "data": {
      "text/plain": [
       "(1987,)"
      ]
     },
     "execution_count": 429,
     "metadata": {},
     "output_type": "execute_result"
    }
   ],
   "source": [
    "array = data1['Experience']\n",
    "\n",
    "array.shapearray = data1['Experience']\n",
    "\n",
    "array.shape"
   ]
  },
  {
   "cell_type": "code",
   "execution_count": 430,
   "metadata": {},
   "outputs": [
    {
     "data": {
      "text/plain": [
       "array([28, 24, 34, ..., 56,  3, 55], dtype=int64)"
      ]
     },
     "execution_count": 430,
     "metadata": {},
     "output_type": "execute_result"
    }
   ],
   "source": [
    "le=LabelEncoder()\n",
    "data2=le.fit_transform(data1['Experience'])\n",
    "data2"
   ]
  },
  {
   "cell_type": "code",
   "execution_count": 431,
   "metadata": {},
   "outputs": [],
   "source": [
    "data1['Experience']=data2"
   ]
  },
  {
   "cell_type": "code",
   "execution_count": 432,
   "metadata": {},
   "outputs": [
    {
     "data": {
      "text/plain": [
       "array([28, 24, 34, ..., 56,  3, 55], dtype=int64)"
      ]
     },
     "execution_count": 432,
     "metadata": {},
     "output_type": "execute_result"
    }
   ],
   "source": [
    "data2"
   ]
  },
  {
   "cell_type": "code",
   "execution_count": 433,
   "metadata": {},
   "outputs": [
    {
     "data": {
      "text/html": [
       "<div>\n",
       "<style scoped>\n",
       "    .dataframe tbody tr th:only-of-type {\n",
       "        vertical-align: middle;\n",
       "    }\n",
       "\n",
       "    .dataframe tbody tr th {\n",
       "        vertical-align: top;\n",
       "    }\n",
       "\n",
       "    .dataframe thead th {\n",
       "        text-align: right;\n",
       "    }\n",
       "</style>\n",
       "<table border=\"1\" class=\"dataframe\">\n",
       "  <thead>\n",
       "    <tr style=\"text-align: right;\">\n",
       "      <th></th>\n",
       "      <th>Qualification</th>\n",
       "      <th>Experience</th>\n",
       "      <th>Profile</th>\n",
       "    </tr>\n",
       "  </thead>\n",
       "  <tbody>\n",
       "    <tr>\n",
       "      <td>0</td>\n",
       "      <td>241</td>\n",
       "      <td>28</td>\n",
       "      <td>4</td>\n",
       "    </tr>\n",
       "    <tr>\n",
       "      <td>1</td>\n",
       "      <td>340</td>\n",
       "      <td>24</td>\n",
       "      <td>3</td>\n",
       "    </tr>\n",
       "    <tr>\n",
       "      <td>2</td>\n",
       "      <td>258</td>\n",
       "      <td>34</td>\n",
       "      <td>2</td>\n",
       "    </tr>\n",
       "    <tr>\n",
       "      <td>3</td>\n",
       "      <td>6</td>\n",
       "      <td>0</td>\n",
       "      <td>0</td>\n",
       "    </tr>\n",
       "    <tr>\n",
       "      <td>4</td>\n",
       "      <td>79</td>\n",
       "      <td>7</td>\n",
       "      <td>1</td>\n",
       "    </tr>\n",
       "    <tr>\n",
       "      <td>...</td>\n",
       "      <td>...</td>\n",
       "      <td>...</td>\n",
       "      <td>...</td>\n",
       "    </tr>\n",
       "    <tr>\n",
       "      <td>1982</td>\n",
       "      <td>17</td>\n",
       "      <td>1</td>\n",
       "      <td>0</td>\n",
       "    </tr>\n",
       "    <tr>\n",
       "      <td>1983</td>\n",
       "      <td>548</td>\n",
       "      <td>33</td>\n",
       "      <td>2</td>\n",
       "    </tr>\n",
       "    <tr>\n",
       "      <td>1984</td>\n",
       "      <td>474</td>\n",
       "      <td>56</td>\n",
       "      <td>4</td>\n",
       "    </tr>\n",
       "    <tr>\n",
       "      <td>1985</td>\n",
       "      <td>51</td>\n",
       "      <td>3</td>\n",
       "      <td>1</td>\n",
       "    </tr>\n",
       "    <tr>\n",
       "      <td>1986</td>\n",
       "      <td>384</td>\n",
       "      <td>55</td>\n",
       "      <td>2</td>\n",
       "    </tr>\n",
       "  </tbody>\n",
       "</table>\n",
       "<p>1987 rows × 3 columns</p>\n",
       "</div>"
      ],
      "text/plain": [
       "      Qualification  Experience  Profile\n",
       "0               241          28        4\n",
       "1               340          24        3\n",
       "2               258          34        2\n",
       "3                 6           0        0\n",
       "4                79           7        1\n",
       "...             ...         ...      ...\n",
       "1982             17           1        0\n",
       "1983            548          33        2\n",
       "1984            474          56        4\n",
       "1985             51           3        1\n",
       "1986            384          55        2\n",
       "\n",
       "[1987 rows x 3 columns]"
      ]
     },
     "execution_count": 433,
     "metadata": {},
     "output_type": "execute_result"
    }
   ],
   "source": [
    "data1"
   ]
  },
  {
   "cell_type": "code",
   "execution_count": 434,
   "metadata": {},
   "outputs": [
    {
     "data": {
      "text/plain": [
       "Qualification    int64\n",
       "Experience       int64\n",
       "Profile          int64\n",
       "dtype: object"
      ]
     },
     "execution_count": 434,
     "metadata": {},
     "output_type": "execute_result"
    }
   ],
   "source": [
    "data1.dtypes"
   ]
  },
  {
   "cell_type": "code",
   "execution_count": 435,
   "metadata": {},
   "outputs": [
    {
     "data": {
      "text/html": [
       "<div>\n",
       "<style scoped>\n",
       "    .dataframe tbody tr th:only-of-type {\n",
       "        vertical-align: middle;\n",
       "    }\n",
       "\n",
       "    .dataframe tbody tr th {\n",
       "        vertical-align: top;\n",
       "    }\n",
       "\n",
       "    .dataframe thead th {\n",
       "        text-align: right;\n",
       "    }\n",
       "</style>\n",
       "<table border=\"1\" class=\"dataframe\">\n",
       "  <thead>\n",
       "    <tr style=\"text-align: right;\">\n",
       "      <th></th>\n",
       "      <th>Qualification</th>\n",
       "      <th>Experience</th>\n",
       "      <th>Profile</th>\n",
       "    </tr>\n",
       "  </thead>\n",
       "  <tbody>\n",
       "    <tr>\n",
       "      <td>count</td>\n",
       "      <td>1987.000000</td>\n",
       "      <td>1987.000000</td>\n",
       "      <td>1987.000000</td>\n",
       "    </tr>\n",
       "    <tr>\n",
       "      <td>mean</td>\n",
       "      <td>259.979869</td>\n",
       "      <td>21.884248</td>\n",
       "      <td>2.508807</td>\n",
       "    </tr>\n",
       "    <tr>\n",
       "      <td>std</td>\n",
       "      <td>185.961177</td>\n",
       "      <td>18.772896</td>\n",
       "      <td>1.654223</td>\n",
       "    </tr>\n",
       "    <tr>\n",
       "      <td>min</td>\n",
       "      <td>0.000000</td>\n",
       "      <td>0.000000</td>\n",
       "      <td>0.000000</td>\n",
       "    </tr>\n",
       "    <tr>\n",
       "      <td>25%</td>\n",
       "      <td>93.000000</td>\n",
       "      <td>6.000000</td>\n",
       "      <td>1.000000</td>\n",
       "    </tr>\n",
       "    <tr>\n",
       "      <td>50%</td>\n",
       "      <td>241.000000</td>\n",
       "      <td>15.000000</td>\n",
       "      <td>2.000000</td>\n",
       "    </tr>\n",
       "    <tr>\n",
       "      <td>75%</td>\n",
       "      <td>417.000000</td>\n",
       "      <td>35.000000</td>\n",
       "      <td>4.000000</td>\n",
       "    </tr>\n",
       "    <tr>\n",
       "      <td>max</td>\n",
       "      <td>629.000000</td>\n",
       "      <td>56.000000</td>\n",
       "      <td>5.000000</td>\n",
       "    </tr>\n",
       "  </tbody>\n",
       "</table>\n",
       "</div>"
      ],
      "text/plain": [
       "       Qualification   Experience      Profile\n",
       "count    1987.000000  1987.000000  1987.000000\n",
       "mean      259.979869    21.884248     2.508807\n",
       "std       185.961177    18.772896     1.654223\n",
       "min         0.000000     0.000000     0.000000\n",
       "25%        93.000000     6.000000     1.000000\n",
       "50%       241.000000    15.000000     2.000000\n",
       "75%       417.000000    35.000000     4.000000\n",
       "max       629.000000    56.000000     5.000000"
      ]
     },
     "execution_count": 435,
     "metadata": {},
     "output_type": "execute_result"
    }
   ],
   "source": [
    "data1.describe()"
   ]
  },
  {
   "cell_type": "markdown",
   "metadata": {},
   "source": [
    "#### Removing the Outliers"
   ]
  },
  {
   "cell_type": "code",
   "execution_count": 438,
   "metadata": {},
   "outputs": [
    {
     "name": "stdout",
     "output_type": "stream",
     "text": [
      "(1987, 3)\n",
      "(1987, 3)\n"
     ]
    }
   ],
   "source": [
    "#Lets check for outliers\n",
    "from scipy.stats import zscore\n",
    "z_score=abs(zscore(data1))\n",
    "print(data1.shape)\n",
    "data1_final=data1.loc[(z_score<3).all(axis=1)]\n",
    "print(data1_final.shape)"
   ]
  },
  {
   "cell_type": "markdown",
   "metadata": {},
   "source": [
    "#### Checking Skewness and Removing it"
   ]
  },
  {
   "cell_type": "code",
   "execution_count": 439,
   "metadata": {},
   "outputs": [
    {
     "data": {
      "text/plain": [
       "Qualification    0.280822\n",
       "Experience       0.687595\n",
       "Profile          0.028926\n",
       "dtype: float64"
      ]
     },
     "execution_count": 439,
     "metadata": {},
     "output_type": "execute_result"
    }
   ],
   "source": [
    "#Check Skewness \n",
    "data1.skew()\n",
    "#there is some skewness which need to be treated,by seeing we can say only +ve skewness is significant and needs to be treated\n",
    "#if value is 0.55 or more than that then there would be a skewed value"
   ]
  },
  {
   "cell_type": "code",
   "execution_count": 440,
   "metadata": {},
   "outputs": [],
   "source": [
    "#Treating the skewness using log\n",
    "import numpy as np\n",
    "for col in data1.columns:\n",
    "#Here complete column name has been passed\n",
    "    if data1.skew().loc[col]>0.55:\n",
    "        data1[col]=np.log1p(data1[col])"
   ]
  },
  {
   "cell_type": "code",
   "execution_count": 441,
   "metadata": {},
   "outputs": [
    {
     "data": {
      "text/plain": [
       "Qualification    0.280822\n",
       "Experience      -0.474469\n",
       "Profile          0.028926\n",
       "dtype: float64"
      ]
     },
     "execution_count": 441,
     "metadata": {},
     "output_type": "execute_result"
    }
   ],
   "source": [
    "#Lets Again Check the Skewness\n",
    "data1.skew()"
   ]
  },
  {
   "cell_type": "markdown",
   "metadata": {},
   "source": [
    "### Load Test Dataset into dtregressor Model "
   ]
  },
  {
   "cell_type": "code",
   "execution_count": 442,
   "metadata": {},
   "outputs": [
    {
     "name": "stdout",
     "output_type": "stream",
     "text": [
      "[5.30330491 4.9791171  5.52545294 ... 6.39859493 4.61512052 5.99396143]\n"
     ]
    }
   ],
   "source": [
    "train_X = data1\n",
    "pred = dtregressor.predict(train_X)\n",
    "print(pred)"
   ]
  },
  {
   "cell_type": "markdown",
   "metadata": {},
   "source": [
    "#### Compare the Predicted Result with Actual Price of Testing DataSet Using dtregressor Model "
   ]
  },
  {
   "cell_type": "code",
   "execution_count": 443,
   "metadata": {},
   "outputs": [
    {
     "name": "stdout",
     "output_type": "stream",
     "text": [
      "Predicted result price: [5.19996945 5.91217237 5.23241667 ... 5.69094085 6.55250789 5.30330491]\n",
      "actual price [[5.01727984]\n",
      " [5.30330491]\n",
      " [5.30330491]\n",
      " ...\n",
      " [4.61512052]\n",
      " [6.55250789]\n",
      " [5.30330491]]\n"
     ]
    }
   ],
   "source": [
    "#predict the value\n",
    "pred1=dtregressor.predict(test_X)\n",
    "print(\"Predicted result price:\",pred1)\n",
    "print(\"actual price\",test_Y)"
   ]
  },
  {
   "cell_type": "code",
   "execution_count": null,
   "metadata": {},
   "outputs": [],
   "source": []
  }
 ],
 "metadata": {
  "kernelspec": {
   "display_name": "Python 3",
   "language": "python",
   "name": "python3"
  },
  "language_info": {
   "codemirror_mode": {
    "name": "ipython",
    "version": 3
   },
   "file_extension": ".py",
   "mimetype": "text/x-python",
   "name": "python",
   "nbconvert_exporter": "python",
   "pygments_lexer": "ipython3",
   "version": "3.6.5"
  }
 },
 "nbformat": 4,
 "nbformat_minor": 2
}
