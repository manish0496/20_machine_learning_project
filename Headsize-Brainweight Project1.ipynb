{
 "cells": [
  {
   "cell_type": "markdown",
   "metadata": {},
   "source": [
    "# Headsize-Brainweight  Project"
   ]
  },
  {
   "cell_type": "markdown",
   "metadata": {},
   "source": [
    "#### Generally, the headsize of humans gives impressions of the weight of brain. In this case, head brain file consist of four attributes (Gender ,Age ,headsize, brainweight) .\n",
    "\n",
    "#### One has to train the machine for learning the size of head and corresponding brainweight. Then predict the brain weight given on certain size."
   ]
  },
  {
   "cell_type": "code",
   "execution_count": 1,
   "metadata": {},
   "outputs": [],
   "source": [
    "#import libraries\n",
    "import numpy as np \n",
    "import pandas as pd\n",
    "import matplotlib.pyplot as plt\n",
    "import seaborn as sns\n",
    "%matplotlib inline"
   ]
  },
  {
   "cell_type": "code",
   "execution_count": 2,
   "metadata": {},
   "outputs": [],
   "source": [
    "#import dataset\n",
    "df=pd.read_csv('headbrain.csv')"
   ]
  },
  {
   "cell_type": "code",
   "execution_count": 3,
   "metadata": {},
   "outputs": [
    {
     "data": {
      "text/html": [
       "<div>\n",
       "<style scoped>\n",
       "    .dataframe tbody tr th:only-of-type {\n",
       "        vertical-align: middle;\n",
       "    }\n",
       "\n",
       "    .dataframe tbody tr th {\n",
       "        vertical-align: top;\n",
       "    }\n",
       "\n",
       "    .dataframe thead th {\n",
       "        text-align: right;\n",
       "    }\n",
       "</style>\n",
       "<table border=\"1\" class=\"dataframe\">\n",
       "  <thead>\n",
       "    <tr style=\"text-align: right;\">\n",
       "      <th></th>\n",
       "      <th>Gender</th>\n",
       "      <th>AgeRange</th>\n",
       "      <th>HeadSize</th>\n",
       "      <th>BrainWeight</th>\n",
       "    </tr>\n",
       "  </thead>\n",
       "  <tbody>\n",
       "    <tr>\n",
       "      <th>0</th>\n",
       "      <td>1</td>\n",
       "      <td>1</td>\n",
       "      <td>4512</td>\n",
       "      <td>1530</td>\n",
       "    </tr>\n",
       "    <tr>\n",
       "      <th>1</th>\n",
       "      <td>1</td>\n",
       "      <td>1</td>\n",
       "      <td>3738</td>\n",
       "      <td>1297</td>\n",
       "    </tr>\n",
       "    <tr>\n",
       "      <th>2</th>\n",
       "      <td>1</td>\n",
       "      <td>1</td>\n",
       "      <td>4261</td>\n",
       "      <td>1335</td>\n",
       "    </tr>\n",
       "    <tr>\n",
       "      <th>3</th>\n",
       "      <td>1</td>\n",
       "      <td>1</td>\n",
       "      <td>3777</td>\n",
       "      <td>1282</td>\n",
       "    </tr>\n",
       "    <tr>\n",
       "      <th>4</th>\n",
       "      <td>1</td>\n",
       "      <td>1</td>\n",
       "      <td>4177</td>\n",
       "      <td>1590</td>\n",
       "    </tr>\n",
       "  </tbody>\n",
       "</table>\n",
       "</div>"
      ],
      "text/plain": [
       "   Gender  AgeRange  HeadSize  BrainWeight\n",
       "0       1         1      4512         1530\n",
       "1       1         1      3738         1297\n",
       "2       1         1      4261         1335\n",
       "3       1         1      3777         1282\n",
       "4       1         1      4177         1590"
      ]
     },
     "execution_count": 3,
     "metadata": {},
     "output_type": "execute_result"
    }
   ],
   "source": [
    "#first 5 rows of dataset\n",
    "df.head()"
   ]
  },
  {
   "cell_type": "code",
   "execution_count": 4,
   "metadata": {},
   "outputs": [
    {
     "data": {
      "text/plain": [
       "Gender         int64\n",
       "AgeRange       int64\n",
       "HeadSize       int64\n",
       "BrainWeight    int64\n",
       "dtype: object"
      ]
     },
     "execution_count": 4,
     "metadata": {},
     "output_type": "execute_result"
    }
   ],
   "source": [
    "#datatypes\n",
    "df.dtypes"
   ]
  },
  {
   "cell_type": "code",
   "execution_count": 5,
   "metadata": {},
   "outputs": [
    {
     "name": "stdout",
     "output_type": "stream",
     "text": [
      "<class 'pandas.core.frame.DataFrame'>\n",
      "RangeIndex: 237 entries, 0 to 236\n",
      "Data columns (total 4 columns):\n",
      "Gender         237 non-null int64\n",
      "AgeRange       237 non-null int64\n",
      "HeadSize       237 non-null int64\n",
      "BrainWeight    237 non-null int64\n",
      "dtypes: int64(4)\n",
      "memory usage: 7.5 KB\n"
     ]
    }
   ],
   "source": [
    "#info about dataset\n",
    "df.info()"
   ]
  },
  {
   "cell_type": "code",
   "execution_count": 6,
   "metadata": {},
   "outputs": [
    {
     "data": {
      "text/plain": [
       "Gender         0\n",
       "AgeRange       0\n",
       "HeadSize       0\n",
       "BrainWeight    0\n",
       "dtype: int64"
      ]
     },
     "execution_count": 6,
     "metadata": {},
     "output_type": "execute_result"
    }
   ],
   "source": [
    "#check the null values\n",
    "df.isnull().sum()"
   ]
  },
  {
   "cell_type": "code",
   "execution_count": 7,
   "metadata": {},
   "outputs": [
    {
     "data": {
      "text/plain": [
       "<matplotlib.axes._subplots.AxesSubplot at 0x1eec7a6a080>"
      ]
     },
     "execution_count": 7,
     "metadata": {},
     "output_type": "execute_result"
    },
    {
     "data": {
      "image/png": "[encoded data removed]",
      "text/plain": [
       "<Figure size 432x288 with 2 Axes>"
      ]
     },
     "metadata": {},
     "output_type": "display_data"
    }
   ],
   "source": [
    "sns.heatmap(df.isnull())"
   ]
  },
  {
   "cell_type": "markdown",
   "metadata": {},
   "source": [
    "we can see dataset doesnt contain null values"
   ]
  },
  {
   "cell_type": "code",
   "execution_count": 8,
   "metadata": {},
   "outputs": [
    {
     "data": {
      "text/html": [
       "<div>\n",
       "<style scoped>\n",
       "    .dataframe tbody tr th:only-of-type {\n",
       "        vertical-align: middle;\n",
       "    }\n",
       "\n",
       "    .dataframe tbody tr th {\n",
       "        vertical-align: top;\n",
       "    }\n",
       "\n",
       "    .dataframe thead th {\n",
       "        text-align: right;\n",
       "    }\n",
       "</style>\n",
       "<table border=\"1\" class=\"dataframe\">\n",
       "  <thead>\n",
       "    <tr style=\"text-align: right;\">\n",
       "      <th></th>\n",
       "      <th>Gender</th>\n",
       "      <th>AgeRange</th>\n",
       "      <th>HeadSize</th>\n",
       "      <th>BrainWeight</th>\n",
       "    </tr>\n",
       "  </thead>\n",
       "  <tbody>\n",
       "    <tr>\n",
       "      <th>count</th>\n",
       "      <td>237.000000</td>\n",
       "      <td>237.000000</td>\n",
       "      <td>237.000000</td>\n",
       "      <td>237.000000</td>\n",
       "    </tr>\n",
       "    <tr>\n",
       "      <th>mean</th>\n",
       "      <td>1.434599</td>\n",
       "      <td>1.535865</td>\n",
       "      <td>3633.991561</td>\n",
       "      <td>1282.873418</td>\n",
       "    </tr>\n",
       "    <tr>\n",
       "      <th>std</th>\n",
       "      <td>0.496753</td>\n",
       "      <td>0.499768</td>\n",
       "      <td>365.261422</td>\n",
       "      <td>120.340446</td>\n",
       "    </tr>\n",
       "    <tr>\n",
       "      <th>min</th>\n",
       "      <td>1.000000</td>\n",
       "      <td>1.000000</td>\n",
       "      <td>2720.000000</td>\n",
       "      <td>955.000000</td>\n",
       "    </tr>\n",
       "    <tr>\n",
       "      <th>25%</th>\n",
       "      <td>1.000000</td>\n",
       "      <td>1.000000</td>\n",
       "      <td>3389.000000</td>\n",
       "      <td>1207.000000</td>\n",
       "    </tr>\n",
       "    <tr>\n",
       "      <th>50%</th>\n",
       "      <td>1.000000</td>\n",
       "      <td>2.000000</td>\n",
       "      <td>3614.000000</td>\n",
       "      <td>1280.000000</td>\n",
       "    </tr>\n",
       "    <tr>\n",
       "      <th>75%</th>\n",
       "      <td>2.000000</td>\n",
       "      <td>2.000000</td>\n",
       "      <td>3876.000000</td>\n",
       "      <td>1350.000000</td>\n",
       "    </tr>\n",
       "    <tr>\n",
       "      <th>max</th>\n",
       "      <td>2.000000</td>\n",
       "      <td>2.000000</td>\n",
       "      <td>4747.000000</td>\n",
       "      <td>1635.000000</td>\n",
       "    </tr>\n",
       "  </tbody>\n",
       "</table>\n",
       "</div>"
      ],
      "text/plain": [
       "           Gender    AgeRange     HeadSize  BrainWeight\n",
       "count  237.000000  237.000000   237.000000   237.000000\n",
       "mean     1.434599    1.535865  3633.991561  1282.873418\n",
       "std      0.496753    0.499768   365.261422   120.340446\n",
       "min      1.000000    1.000000  2720.000000   955.000000\n",
       "25%      1.000000    1.000000  3389.000000  1207.000000\n",
       "50%      1.000000    2.000000  3614.000000  1280.000000\n",
       "75%      2.000000    2.000000  3876.000000  1350.000000\n",
       "max      2.000000    2.000000  4747.000000  1635.000000"
      ]
     },
     "execution_count": 8,
     "metadata": {},
     "output_type": "execute_result"
    }
   ],
   "source": [
    "#describe\n",
    "df.describe()"
   ]
  },
  {
   "cell_type": "code",
   "execution_count": 9,
   "metadata": {},
   "outputs": [
    {
     "data": {
      "text/html": [
       "<style  type=\"text/css\" >\n",
       "    #T_24913134_aa65_11ea_bd52_441ca8a9e8a8row0_col0 {\n",
       "            background-color:  #b40426;\n",
       "        }    #T_24913134_aa65_11ea_bd52_441ca8a9e8a8row0_col1 {\n",
       "            background-color:  #4f69d9;\n",
       "        }    #T_24913134_aa65_11ea_bd52_441ca8a9e8a8row0_col2 {\n",
       "            background-color:  #3b4cc0;\n",
       "        }    #T_24913134_aa65_11ea_bd52_441ca8a9e8a8row0_col3 {\n",
       "            background-color:  #3b4cc0;\n",
       "        }    #T_24913134_aa65_11ea_bd52_441ca8a9e8a8row1_col0 {\n",
       "            background-color:  #97b8ff;\n",
       "        }    #T_24913134_aa65_11ea_bd52_441ca8a9e8a8row1_col1 {\n",
       "            background-color:  #b40426;\n",
       "        }    #T_24913134_aa65_11ea_bd52_441ca8a9e8a8row1_col2 {\n",
       "            background-color:  #94b6ff;\n",
       "        }    #T_24913134_aa65_11ea_bd52_441ca8a9e8a8row1_col3 {\n",
       "            background-color:  #7b9ff9;\n",
       "        }    #T_24913134_aa65_11ea_bd52_441ca8a9e8a8row2_col0 {\n",
       "            background-color:  #3b4cc0;\n",
       "        }    #T_24913134_aa65_11ea_bd52_441ca8a9e8a8row2_col1 {\n",
       "            background-color:  #4b64d5;\n",
       "        }    #T_24913134_aa65_11ea_bd52_441ca8a9e8a8row2_col2 {\n",
       "            background-color:  #b40426;\n",
       "        }    #T_24913134_aa65_11ea_bd52_441ca8a9e8a8row2_col3 {\n",
       "            background-color:  #e16751;\n",
       "        }    #T_24913134_aa65_11ea_bd52_441ca8a9e8a8row3_col0 {\n",
       "            background-color:  #445acc;\n",
       "        }    #T_24913134_aa65_11ea_bd52_441ca8a9e8a8row3_col1 {\n",
       "            background-color:  #3b4cc0;\n",
       "        }    #T_24913134_aa65_11ea_bd52_441ca8a9e8a8row3_col2 {\n",
       "            background-color:  #df634e;\n",
       "        }    #T_24913134_aa65_11ea_bd52_441ca8a9e8a8row3_col3 {\n",
       "            background-color:  #b40426;\n",
       "        }</style>  \n",
       "<table id=\"T_24913134_aa65_11ea_bd52_441ca8a9e8a8\" > \n",
       "<thead>    <tr> \n",
       "        <th class=\"blank level0\" ></th> \n",
       "        <th class=\"col_heading level0 col0\" >Gender</th> \n",
       "        <th class=\"col_heading level0 col1\" >AgeRange</th> \n",
       "        <th class=\"col_heading level0 col2\" >HeadSize</th> \n",
       "        <th class=\"col_heading level0 col3\" >BrainWeight</th> \n",
       "    </tr></thead> \n",
       "<tbody>    <tr> \n",
       "        <th id=\"T_24913134_aa65_11ea_bd52_441ca8a9e8a8level0_row0\" class=\"row_heading level0 row0\" >Gender</th> \n",
       "        <td id=\"T_24913134_aa65_11ea_bd52_441ca8a9e8a8row0_col0\" class=\"data row0 col0\" >1</td> \n",
       "        <td id=\"T_24913134_aa65_11ea_bd52_441ca8a9e8a8row0_col1\" class=\"data row0 col1\" >-0.0886521</td> \n",
       "        <td id=\"T_24913134_aa65_11ea_bd52_441ca8a9e8a8row0_col2\" class=\"data row0 col2\" >-0.51405</td> \n",
       "        <td id=\"T_24913134_aa65_11ea_bd52_441ca8a9e8a8row0_col3\" class=\"data row0 col3\" >-0.465266</td> \n",
       "    </tr>    <tr> \n",
       "        <th id=\"T_24913134_aa65_11ea_bd52_441ca8a9e8a8level0_row1\" class=\"row_heading level0 row1\" >AgeRange</th> \n",
       "        <td id=\"T_24913134_aa65_11ea_bd52_441ca8a9e8a8row1_col0\" class=\"data row1 col0\" >-0.0886521</td> \n",
       "        <td id=\"T_24913134_aa65_11ea_bd52_441ca8a9e8a8row1_col1\" class=\"data row1 col1\" >1</td> \n",
       "        <td id=\"T_24913134_aa65_11ea_bd52_441ca8a9e8a8row1_col2\" class=\"data row1 col2\" >-0.105428</td> \n",
       "        <td id=\"T_24913134_aa65_11ea_bd52_441ca8a9e8a8row1_col3\" class=\"data row1 col3\" >-0.169438</td> \n",
       "    </tr>    <tr> \n",
       "        <th id=\"T_24913134_aa65_11ea_bd52_441ca8a9e8a8level0_row2\" class=\"row_heading level0 row2\" >HeadSize</th> \n",
       "        <td id=\"T_24913134_aa65_11ea_bd52_441ca8a9e8a8row2_col0\" class=\"data row2 col0\" >-0.51405</td> \n",
       "        <td id=\"T_24913134_aa65_11ea_bd52_441ca8a9e8a8row2_col1\" class=\"data row2 col1\" >-0.105428</td> \n",
       "        <td id=\"T_24913134_aa65_11ea_bd52_441ca8a9e8a8row2_col2\" class=\"data row2 col2\" >1</td> \n",
       "        <td id=\"T_24913134_aa65_11ea_bd52_441ca8a9e8a8row2_col3\" class=\"data row2 col3\" >0.79957</td> \n",
       "    </tr>    <tr> \n",
       "        <th id=\"T_24913134_aa65_11ea_bd52_441ca8a9e8a8level0_row3\" class=\"row_heading level0 row3\" >BrainWeight</th> \n",
       "        <td id=\"T_24913134_aa65_11ea_bd52_441ca8a9e8a8row3_col0\" class=\"data row3 col0\" >-0.465266</td> \n",
       "        <td id=\"T_24913134_aa65_11ea_bd52_441ca8a9e8a8row3_col1\" class=\"data row3 col1\" >-0.169438</td> \n",
       "        <td id=\"T_24913134_aa65_11ea_bd52_441ca8a9e8a8row3_col2\" class=\"data row3 col2\" >0.79957</td> \n",
       "        <td id=\"T_24913134_aa65_11ea_bd52_441ca8a9e8a8row3_col3\" class=\"data row3 col3\" >1</td> \n",
       "    </tr></tbody> \n",
       "</table> "
      ],
      "text/plain": [
       "<pandas.io.formats.style.Styler at 0x1eec7bc9be0>"
      ]
     },
     "execution_count": 9,
     "metadata": {},
     "output_type": "execute_result"
    }
   ],
   "source": [
    "#check corr\n",
    "corr = df.corr()\n",
    "corr.style.background_gradient(cmap='coolwarm')\n",
    "\n"
   ]
  },
  {
   "cell_type": "code",
   "execution_count": 10,
   "metadata": {},
   "outputs": [
    {
     "data": {
      "text/plain": [
       "0    1530\n",
       "1    1297\n",
       "2    1335\n",
       "3    1282\n",
       "4    1590\n",
       "Name: BrainWeight, dtype: int64"
      ]
     },
     "execution_count": 10,
     "metadata": {},
     "output_type": "execute_result"
    }
   ],
   "source": [
    "#lets analize the dataset and target value\n",
    "df['BrainWeight'].head()"
   ]
  },
  {
   "cell_type": "code",
   "execution_count": 11,
   "metadata": {},
   "outputs": [
    {
     "data": {
      "text/plain": [
       "1    134\n",
       "2    103\n",
       "Name: Gender, dtype: int64"
      ]
     },
     "execution_count": 11,
     "metadata": {},
     "output_type": "execute_result"
    }
   ],
   "source": [
    "df['Gender'].value_counts()"
   ]
  },
  {
   "cell_type": "code",
   "execution_count": 12,
   "metadata": {},
   "outputs": [
    {
     "data": {
      "text/plain": [
       "2    127\n",
       "1    110\n",
       "Name: AgeRange, dtype: int64"
      ]
     },
     "execution_count": 12,
     "metadata": {},
     "output_type": "execute_result"
    }
   ],
   "source": [
    "df['AgeRange'].value_counts()"
   ]
  },
  {
   "cell_type": "code",
   "execution_count": 13,
   "metadata": {},
   "outputs": [
    {
     "name": "stdout",
     "output_type": "stream",
     "text": [
      "(237, 4)\n",
      "(236, 4)\n"
     ]
    }
   ],
   "source": [
    "#lets check wheteher any outlier present or not\n",
    "from scipy.stats import zscore\n",
    "z_score=abs(zscore(df))\n",
    "print(df.shape)\n",
    "df_final=df.loc[(z_score<3).all(axis=1)]\n",
    "print(df_final.shape)"
   ]
  },
  {
   "cell_type": "markdown",
   "metadata": {},
   "source": [
    "### EDA"
   ]
  },
  {
   "cell_type": "code",
   "execution_count": 14,
   "metadata": {},
   "outputs": [
    {
     "data": {
      "text/plain": [
       "<matplotlib.axes._subplots.AxesSubplot at 0x1eec8fd6cc0>"
      ]
     },
     "execution_count": 14,
     "metadata": {},
     "output_type": "execute_result"
    },
    {
     "data": {
      "image/png": "[encoded data removed]",
      "text/plain": [
       "<Figure size 432x288 with 1 Axes>"
      ]
     },
     "metadata": {},
     "output_type": "display_data"
    }
   ],
   "source": [
    "sns.distplot(df['BrainWeight'])\n",
    "\n"
   ]
  },
  {
   "cell_type": "code",
   "execution_count": 16,
   "metadata": {},
   "outputs": [
    {
     "data": {
      "text/plain": [
       "<matplotlib.axes._subplots.AxesSubplot at 0x1eec7b992b0>"
      ]
     },
     "execution_count": 16,
     "metadata": {},
     "output_type": "execute_result"
    },
    {
     "data": {
      "image/png": "[encoded data removed]",
      "text/plain": [
       "<Figure size 432x288 with 1 Axes>"
      ]
     },
     "metadata": {},
     "output_type": "display_data"
    }
   ],
   "source": [
    "sns.distplot(df['HeadSize'])\n",
    "\n"
   ]
  },
  {
   "cell_type": "code",
   "execution_count": 17,
   "metadata": {},
   "outputs": [
    {
     "data": {
      "text/plain": [
       "<matplotlib.axes._subplots.AxesSubplot at 0x1eec7baa160>"
      ]
     },
     "execution_count": 17,
     "metadata": {},
     "output_type": "execute_result"
    },
    {
     "data": {
      "image/png": "[encoded data removed]",
      "text/plain": [
       "<Figure size 432x288 with 1 Axes>"
      ]
     },
     "metadata": {},
     "output_type": "display_data"
    }
   ],
   "source": [
    "sns.distplot(df['HeadSize'])\n",
    "sns.distplot(df['BrainWeight'])\n",
    "\n",
    "\n",
    "\n"
   ]
  },
  {
   "cell_type": "code",
   "execution_count": 18,
   "metadata": {},
   "outputs": [
    {
     "data": {
      "text/plain": [
       "<matplotlib.axes._subplots.AxesSubplot at 0x1eec93e9080>"
      ]
     },
     "execution_count": 18,
     "metadata": {},
     "output_type": "execute_result"
    },
    {
     "data": {
      "image/png": "[encoded data removed]",
      "text/plain": [
       "<Figure size 432x288 with 1 Axes>"
      ]
     },
     "metadata": {},
     "output_type": "display_data"
    }
   ],
   "source": [
    "sns.barplot(y='BrainWeight',x='Gender',data=df)"
   ]
  },
  {
   "cell_type": "markdown",
   "metadata": {},
   "source": [
    "we can see gender category 1 brainweight more than category 2 "
   ]
  },
  {
   "cell_type": "code",
   "execution_count": 19,
   "metadata": {},
   "outputs": [
    {
     "data": {
      "text/plain": [
       "<matplotlib.axes._subplots.AxesSubplot at 0x1eec94588d0>"
      ]
     },
     "execution_count": 19,
     "metadata": {},
     "output_type": "execute_result"
    },
    {
     "data": {
      "image/png": "[encoded data removed]",
      "text/plain": [
       "<Figure size 432x288 with 1 Axes>"
      ]
     },
     "metadata": {},
     "output_type": "display_data"
    }
   ],
   "source": [
    "sns.barplot(y='BrainWeight',x='AgeRange',data=df)"
   ]
  },
  {
   "cell_type": "markdown",
   "metadata": {},
   "source": [
    "we can see AgeRange category 1 brainweight more than category 2 "
   ]
  },
  {
   "cell_type": "code",
   "execution_count": 20,
   "metadata": {},
   "outputs": [
    {
     "data": {
      "image/png": "[encoded data removed]",
      "text/plain": [
       "<Figure size 432x432 with 3 Axes>"
      ]
     },
     "metadata": {},
     "output_type": "display_data"
    }
   ],
   "source": [
    "sns.jointplot(\"BrainWeight\", \"HeadSize\", data=df, kind='reg');"
   ]
  },
  {
   "cell_type": "code",
   "execution_count": 21,
   "metadata": {},
   "outputs": [],
   "source": [
    "#lets split the model\n",
    "x=df.drop(['BrainWeight'],axis=1)\n",
    "y=df['BrainWeight']"
   ]
  },
  {
   "cell_type": "code",
   "execution_count": 22,
   "metadata": {},
   "outputs": [
    {
     "data": {
      "text/html": [
       "<div>\n",
       "<style scoped>\n",
       "    .dataframe tbody tr th:only-of-type {\n",
       "        vertical-align: middle;\n",
       "    }\n",
       "\n",
       "    .dataframe tbody tr th {\n",
       "        vertical-align: top;\n",
       "    }\n",
       "\n",
       "    .dataframe thead th {\n",
       "        text-align: right;\n",
       "    }\n",
       "</style>\n",
       "<table border=\"1\" class=\"dataframe\">\n",
       "  <thead>\n",
       "    <tr style=\"text-align: right;\">\n",
       "      <th></th>\n",
       "      <th>Gender</th>\n",
       "      <th>AgeRange</th>\n",
       "      <th>HeadSize</th>\n",
       "    </tr>\n",
       "  </thead>\n",
       "  <tbody>\n",
       "    <tr>\n",
       "      <th>0</th>\n",
       "      <td>1</td>\n",
       "      <td>1</td>\n",
       "      <td>4512</td>\n",
       "    </tr>\n",
       "    <tr>\n",
       "      <th>1</th>\n",
       "      <td>1</td>\n",
       "      <td>1</td>\n",
       "      <td>3738</td>\n",
       "    </tr>\n",
       "    <tr>\n",
       "      <th>2</th>\n",
       "      <td>1</td>\n",
       "      <td>1</td>\n",
       "      <td>4261</td>\n",
       "    </tr>\n",
       "    <tr>\n",
       "      <th>3</th>\n",
       "      <td>1</td>\n",
       "      <td>1</td>\n",
       "      <td>3777</td>\n",
       "    </tr>\n",
       "    <tr>\n",
       "      <th>4</th>\n",
       "      <td>1</td>\n",
       "      <td>1</td>\n",
       "      <td>4177</td>\n",
       "    </tr>\n",
       "  </tbody>\n",
       "</table>\n",
       "</div>"
      ],
      "text/plain": [
       "   Gender  AgeRange  HeadSize\n",
       "0       1         1      4512\n",
       "1       1         1      3738\n",
       "2       1         1      4261\n",
       "3       1         1      3777\n",
       "4       1         1      4177"
      ]
     },
     "execution_count": 22,
     "metadata": {},
     "output_type": "execute_result"
    }
   ],
   "source": [
    "x.head()"
   ]
  },
  {
   "cell_type": "code",
   "execution_count": 23,
   "metadata": {},
   "outputs": [
    {
     "data": {
      "text/plain": [
       "((237, 3), (237,))"
      ]
     },
     "execution_count": 23,
     "metadata": {},
     "output_type": "execute_result"
    }
   ],
   "source": [
    "#shape\n",
    "x.shape,y.shape"
   ]
  },
  {
   "cell_type": "code",
   "execution_count": 24,
   "metadata": {},
   "outputs": [
    {
     "data": {
      "text/plain": [
       "Gender         0.265554\n",
       "AgeRange      -0.144748\n",
       "HeadSize       0.238807\n",
       "BrainWeight    0.265478\n",
       "dtype: float64"
      ]
     },
     "execution_count": 24,
     "metadata": {},
     "output_type": "execute_result"
    }
   ],
   "source": [
    "#check the skewness\n",
    "df.skew()"
   ]
  },
  {
   "cell_type": "markdown",
   "metadata": {},
   "source": [
    "### Build the model "
   ]
  },
  {
   "cell_type": "code",
   "execution_count": 25,
   "metadata": {},
   "outputs": [],
   "source": [
    "#scaling down using standardscaler\n",
    "from sklearn.preprocessing import StandardScaler\n",
    "sc = StandardScaler()\n",
    "x = sc.fit_transform(x)\n"
   ]
  },
  {
   "cell_type": "code",
   "execution_count": 26,
   "metadata": {},
   "outputs": [
    {
     "name": "stdout",
     "output_type": "stream",
     "text": [
      "r2_score corresponding to random state:  42  is:  0.7345676369778578\n",
      "r2_score corresponding to random state:  43  is:  0.6422484214524836\n",
      "r2_score corresponding to random state:  44  is:  0.6637294059815597\n",
      "r2_score corresponding to random state:  45  is:  0.6938833550758073\n",
      "r2_score corresponding to random state:  46  is:  0.5714368519941966\n",
      "r2_score corresponding to random state:  47  is:  0.6445249566421597\n",
      "r2_score corresponding to random state:  48  is:  0.7095013171845735\n",
      "r2_score corresponding to random state:  49  is:  0.6311713942571067\n",
      "r2_score corresponding to random state:  50  is:  0.78694095446796\n",
      "r2_score corresponding to random state:  51  is:  0.5766956861845511\n",
      "r2_score corresponding to random state:  52  is:  0.6479212034181888\n",
      "r2_score corresponding to random state:  53  is:  0.5912088358631269\n",
      "r2_score corresponding to random state:  54  is:  0.6274141056536942\n",
      "r2_score corresponding to random state:  55  is:  0.6029674444244744\n",
      "r2_score corresponding to random state:  56  is:  0.70533205978323\n",
      "r2_score corresponding to random state:  57  is:  0.5177073302042312\n",
      "r2_score corresponding to random state:  58  is:  0.6291608999482308\n",
      "r2_score corresponding to random state:  59  is:  0.7401228209045008\n",
      "r2_score corresponding to random state:  60  is:  0.6579154154404713\n",
      "r2_score corresponding to random state:  61  is:  0.5645500411538804\n",
      "r2_score corresponding to random state:  62  is:  0.6050233685925258\n",
      "r2_score corresponding to random state:  63  is:  0.6486870258227913\n",
      "r2_score corresponding to random state:  64  is:  0.6113524527962221\n",
      "r2_score corresponding to random state:  65  is:  0.7046150891760592\n",
      "r2_score corresponding to random state:  66  is:  0.6026978526958642\n",
      "r2_score corresponding to random state:  67  is:  0.7016343791215383\n",
      "r2_score corresponding to random state:  68  is:  0.6767769421530956\n",
      "r2_score corresponding to random state:  69  is:  0.6977514393260178\n",
      "r2_score corresponding to random state:  70  is:  0.614737957729147\n",
      "r2_score corresponding to random state:  71  is:  0.602032481065788\n",
      "r2_score corresponding to random state:  72  is:  0.5591378689782855\n",
      "r2_score corresponding to random state:  73  is:  0.5401675066154425\n",
      "r2_score corresponding to random state:  74  is:  0.695838914402904\n",
      "r2_score corresponding to random state:  75  is:  0.6182787997692867\n",
      "r2_score corresponding to random state:  76  is:  0.605074744392502\n",
      "r2_score corresponding to random state:  77  is:  0.684571578736779\n",
      "r2_score corresponding to random state:  78  is:  0.6453941930295747\n",
      "r2_score corresponding to random state:  79  is:  0.7265629199735013\n",
      "r2_score corresponding to random state:  80  is:  0.35670148680803926\n",
      "r2_score corresponding to random state:  81  is:  0.6132443369292253\n",
      "r2_score corresponding to random state:  82  is:  0.5570753483131863\n",
      "r2_score corresponding to random state:  83  is:  0.693106829411162\n",
      "r2_score corresponding to random state:  84  is:  0.7083384328894614\n",
      "r2_score corresponding to random state:  85  is:  0.7098660398305557\n",
      "r2_score corresponding to random state:  86  is:  0.5713016904429955\n",
      "r2_score corresponding to random state:  87  is:  0.5531039319437363\n",
      "r2_score corresponding to random state:  88  is:  0.47339356904988406\n",
      "r2_score corresponding to random state:  89  is:  0.6663602473544854\n",
      "r2_score corresponding to random state:  90  is:  0.7085835409780155\n",
      "r2_score corresponding to random state:  91  is:  0.7553213677205186\n",
      "r2_score corresponding to random state:  92  is:  0.7485247207395531\n",
      "r2_score corresponding to random state:  93  is:  0.6753217473599277\n",
      "r2_score corresponding to random state:  94  is:  0.7059707909327966\n",
      "r2_score corresponding to random state:  95  is:  0.47210860565153867\n",
      "r2_score corresponding to random state:  96  is:  0.6731676248211065\n",
      "r2_score corresponding to random state:  97  is:  0.5513774069026744\n",
      "r2_score corresponding to random state:  98  is:  0.5025348255144786\n",
      "r2_score corresponding to random state:  99  is:  0.5467879870521748\n",
      "r2_score corresponding to random state:  100  is:  0.7077038761381111\n",
      "\n",
      "\n",
      "max r2 score corresponding to  50  is  0.78694095446796\n"
     ]
    }
   ],
   "source": [
    "from sklearn.model_selection import train_test_split\n",
    "from sklearn.metrics import mean_absolute_error\n",
    "from sklearn.metrics import mean_squared_error\n",
    "from sklearn.metrics import r2_score\n",
    "from sklearn import linear_model\n",
    "max_r_score=0\n",
    "for r_state in range(42,101):\n",
    "    x_train, x_test, y_train, y_test = train_test_split(x, y,random_state = r_state,test_size=0.20)\n",
    "    regr = linear_model.LinearRegression()\n",
    "    regr.fit(x_train,y_train)\n",
    "    y_pred = regr.predict(x_test)\n",
    "    r2_scr=r2_score(y_test,y_pred)\n",
    "    print(\"r2_score corresponding to random state: \",r_state,\" is: \",r2_scr)\n",
    "    if r2_scr>max_r_score:\n",
    "        max_r_score=r2_scr\n",
    "        final_r_state=r_state\n",
    "print()\n",
    "print()\n",
    "print(\"max r2 score corresponding to \",final_r_state,\" is \",max_r_score)\n",
    "#The belwo output shows that we are getting acceptable level of r2 score in most of the cases and max value is also shown"
   ]
  },
  {
   "cell_type": "code",
   "execution_count": 27,
   "metadata": {},
   "outputs": [
    {
     "data": {
      "text/plain": [
       "0.5055914843895681"
      ]
     },
     "execution_count": 27,
     "metadata": {},
     "output_type": "execute_result"
    }
   ],
   "source": [
    "#lets apply cross val_score\n",
    "from sklearn.model_selection import cross_val_score\n",
    "cross_val_score(regr,x,y,cv=5,scoring='r2').mean()"
   ]
  },
  {
   "cell_type": "markdown",
   "metadata": {},
   "source": [
    "the Below cross validation score is less and it shows that we further need to improve our model using more data"
   ]
  },
  {
   "cell_type": "code",
   "execution_count": 28,
   "metadata": {},
   "outputs": [
    {
     "data": {
      "text/plain": [
       "0.6366912933317068"
      ]
     },
     "execution_count": 28,
     "metadata": {},
     "output_type": "execute_result"
    }
   ],
   "source": [
    "from sklearn.linear_model import Lasso,Ridge\n",
    "ls = Lasso(alpha=0.01)\n",
    "ls.fit(x_train,y_train)\n",
    "ls.score(x_train,y_train)"
   ]
  },
  {
   "cell_type": "code",
   "execution_count": 29,
   "metadata": {},
   "outputs": [],
   "source": [
    "#since maximum r2 score is comming around random state 50 we will use that to create our final model\n",
    "x_train, x_test, y_train, y_test = train_test_split(x, y,random_state = 50,test_size=0.20)\n",
    "lr=linear_model.LinearRegression()\n",
    "lr.fit(x_train,y_train)\n",
    "y_pred=lr.predict(x_test)"
   ]
  },
  {
   "cell_type": "code",
   "execution_count": 30,
   "metadata": {},
   "outputs": [
    {
     "name": "stdout",
     "output_type": "stream",
     "text": [
      "r2 score is:  0.78694095446796\n",
      "RMSE is :  57.89046127064031\n"
     ]
    }
   ],
   "source": [
    "#Lets evaluate RMSE and r2 score using sklearn library\n",
    "from sklearn.metrics import mean_squared_error\n",
    "from sklearn.metrics import r2_score\n",
    "import numpy as np\n",
    "print(\"r2 score is: \",r2_score(y_test,y_pred))\n",
    "print(\"RMSE is : \",np.sqrt(mean_squared_error(y_test,y_pred)))"
   ]
  },
  {
   "cell_type": "code",
   "execution_count": 31,
   "metadata": {},
   "outputs": [
    {
     "data": {
      "text/html": [
       "<div>\n",
       "<style scoped>\n",
       "    .dataframe tbody tr th:only-of-type {\n",
       "        vertical-align: middle;\n",
       "    }\n",
       "\n",
       "    .dataframe tbody tr th {\n",
       "        vertical-align: top;\n",
       "    }\n",
       "\n",
       "    .dataframe thead th {\n",
       "        text-align: right;\n",
       "    }\n",
       "</style>\n",
       "<table border=\"1\" class=\"dataframe\">\n",
       "  <thead>\n",
       "    <tr style=\"text-align: right;\">\n",
       "      <th></th>\n",
       "      <th>Actual</th>\n",
       "      <th>Predicted</th>\n",
       "    </tr>\n",
       "  </thead>\n",
       "  <tbody>\n",
       "    <tr>\n",
       "      <th>189</th>\n",
       "      <td>1350</td>\n",
       "      <td>1276.082571</td>\n",
       "    </tr>\n",
       "    <tr>\n",
       "      <th>16</th>\n",
       "      <td>1358</td>\n",
       "      <td>1272.293478</td>\n",
       "    </tr>\n",
       "    <tr>\n",
       "      <th>233</th>\n",
       "      <td>1215</td>\n",
       "      <td>1202.385325</td>\n",
       "    </tr>\n",
       "    <tr>\n",
       "      <th>20</th>\n",
       "      <td>1357</td>\n",
       "      <td>1363.162898</td>\n",
       "    </tr>\n",
       "    <tr>\n",
       "      <th>211</th>\n",
       "      <td>1320</td>\n",
       "      <td>1246.746774</td>\n",
       "    </tr>\n",
       "  </tbody>\n",
       "</table>\n",
       "</div>"
      ],
      "text/plain": [
       "     Actual    Predicted\n",
       "189    1350  1276.082571\n",
       "16     1358  1272.293478\n",
       "233    1215  1202.385325\n",
       "20     1357  1363.162898\n",
       "211    1320  1246.746774"
      ]
     },
     "execution_count": 31,
     "metadata": {},
     "output_type": "execute_result"
    }
   ],
   "source": [
    "df = pd.DataFrame({'Actual': y_test, 'Predicted': y_pred})\n",
    "df.head()"
   ]
  },
  {
   "cell_type": "code",
   "execution_count": 34,
   "metadata": {},
   "outputs": [
    {
     "data": {
      "text/plain": [
       "['headsize.joblib']"
      ]
     },
     "execution_count": 34,
     "metadata": {},
     "output_type": "execute_result"
    }
   ],
   "source": [
    "#save the model\n",
    "from joblib import dump, load\n",
    "dump(lr, 'headsize.joblib') "
   ]
  },
  {
   "cell_type": "code",
   "execution_count": null,
   "metadata": {},
   "outputs": [],
   "source": [
    "#Lets save the model using joblib\n",
    "from sklearn.externals import joblib \n",
    "# Save the model as a pickle in a file \n",
    "joblib.dump(lr, 'lr_headbrain.pkl')"
   ]
  }
 ],
 "metadata": {
  "kernelspec": {
   "display_name": "Python 3",
   "language": "python",
   "name": "python3"
  },
  "language_info": {
   "codemirror_mode": {
    "name": "ipython",
    "version": 3
   },
   "file_extension": ".py",
   "mimetype": "text/x-python",
   "name": "python",
   "nbconvert_exporter": "python",
   "pygments_lexer": "ipython3",
   "version": "3.6.5"
  }
 },
 "nbformat": 4,
 "nbformat_minor": 2
}
